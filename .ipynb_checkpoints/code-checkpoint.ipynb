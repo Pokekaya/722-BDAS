{
 "cells": [
  {
   "cell_type": "markdown",
   "id": "851cb187",
   "metadata": {},
   "source": [
    "# Import Library"
   ]
  },
  {
   "cell_type": "code",
   "execution_count": 98,
   "id": "63581506",
   "metadata": {},
   "outputs": [],
   "source": [
    "import findspark\n",
    "findspark.init('/home/ubuntu/spark-3.2.1-bin-hadoop2.7')\n",
    "import pyspark\n",
    "from pyspark.sql import SparkSession\n",
    "spark = SparkSession.builder.appName('operations').getOrCreate()\n",
    "\n",
    "logger = spark._jvm.org.apache.log4j\n",
    "logger.LogManager.getLogger(\"org\").setLevel(logger.Level.ERROR)\n",
    "logger.LogManager.getLogger(\"akka\").setLevel(logger.Level.ERROR)\n",
    "\n",
    "from pyspark.sql.functions import col,sum,count,countDistinct,min,max,regexp_replace,format_number,round,when,skewness,isnan\n",
    "\n",
    "from pyspark.ml.stat import Correlation\n",
    "\n",
    "from pyspark.ml.feature import VectorAssembler\n",
    "from pyspark.ml import Pipeline\n",
    "from pyspark.ml.classification import (RandomForestClassifier, GBTClassifier, DecisionTreeClassifier)\n",
    "from pyspark.ml.evaluation import MulticlassClassificationEvaluator\n",
    "from pyspark.ml.evaluation import BinaryClassificationEvaluator\n",
    "\n",
    "import seaborn as sns\n",
    "import matplotlib.pyplot as plt"
   ]
  },
  {
   "cell_type": "markdown",
   "id": "374df822",
   "metadata": {},
   "source": [
    "# Customise Methods"
   ]
  },
  {
   "cell_type": "code",
   "execution_count": 99,
   "id": "29b2debc",
   "metadata": {},
   "outputs": [],
   "source": [
    "# Classification Report Method\n",
    "def classification_report(predictions, label_col=\"cardio\"):\n",
    "    # Create evaluators\n",
    "    evaluator = MulticlassClassificationEvaluator(labelCol=label_col, predictionCol=\"prediction\")\n",
    "    \n",
    "    # Compute metrics\n",
    "    precision_0 = evaluator.evaluate(predictions, {evaluator.metricName: \"precisionByLabel\", evaluator.metricLabel: 0})\n",
    "    recall_0 = evaluator.evaluate(predictions, {evaluator.metricName: \"recallByLabel\", evaluator.metricLabel: 0})\n",
    "    f1_0 = evaluator.evaluate(predictions, {evaluator.metricName: \"f1\", evaluator.metricLabel: 0})\n",
    "\n",
    "    precision_1 = evaluator.evaluate(predictions, {evaluator.metricName: \"precisionByLabel\", evaluator.metricLabel: 1})\n",
    "    recall_1 = evaluator.evaluate(predictions, {evaluator.metricName: \"recallByLabel\", evaluator.metricLabel: 1})\n",
    "    f1_1 = evaluator.evaluate(predictions, {evaluator.metricName: \"f1\", evaluator.metricLabel: 1})\n",
    "\n",
    "    accuracy = evaluator.evaluate(predictions, {evaluator.metricName: \"accuracy\"})\n",
    "    \n",
    "    # Compute support (number of occurrences of each class)\n",
    "    support_0 = predictions.filter(predictions[label_col] == 0).count()\n",
    "    support_1 = predictions.filter(predictions[label_col] == 1).count()\n",
    "\n",
    "    # Print report\n",
    "    print('              precision    recall  f1-score   support')\n",
    "    print(f'           0  {precision_0:.2f}         {recall_0:.2f}    {f1_0:.2f}       {support_0}')\n",
    "    print(f'           1  {precision_1:.2f}         {recall_1:.2f}    {f1_1:.2f}       {support_1}')\n",
    "    print(f'    accuracy                       {accuracy:.2f}       {support_0 + support_1}')\n",
    "    print(f'   macro avg  {(precision_0 + precision_1) / 2:.2f}         {(recall_0 + recall_1) / 2:.2f}    {(f1_0 + f1_1) / 2:.2f}       {support_0 + support_1}')\n",
    "    print(f'weighted avg  {(precision_0 * support_0 + precision_1 * support_1) / (support_0 + support_1):.2f}         {(recall_0 * support_0 + recall_1 * support_1) / (support_0 + support_1):.2f}    {(f1_0 * support_0 + f1_1 * support_1) / (support_0 + support_1):.2f}       {support_0 + support_1}')\n"
   ]
  },
  {
   "cell_type": "code",
   "execution_count": 100,
   "id": "58b09c6c",
   "metadata": {},
   "outputs": [],
   "source": [
    "# Confusion Matrix Method    \n",
    "def confusion_matrix(predictions, label_col=\"cardio\", prediction_col=\"prediction\"):\n",
    "    # Count combinations of label and prediction\n",
    "    confusion_matrix = predictions.groupBy(label_col, prediction_col).count().collect()\n",
    "\n",
    "    # Extract counts from the DataFrame\n",
    "    true_pos = true_neg = false_pos = false_neg = 0\n",
    "    for row in confusion_matrix:\n",
    "        if row[label_col] == 0 and row[prediction_col] == 0:\n",
    "            true_neg = row['count']\n",
    "        elif row[label_col] == 0 and row[prediction_col] == 1:\n",
    "            false_pos = row['count']\n",
    "        elif row[label_col] == 1 and row[prediction_col] == 0:\n",
    "            false_neg = row['count']\n",
    "        elif row[label_col] == 1 and row[prediction_col] == 1:\n",
    "            true_pos = row['count']\n",
    "    print(f\"TN: {true_neg}\\tFP: {false_pos}\")\n",
    "    print(f\"FN: {false_neg}\\tTP: {true_pos}\")"
   ]
  },
  {
   "cell_type": "code",
   "execution_count": 101,
   "id": "1dbb3b9b",
   "metadata": {},
   "outputs": [],
   "source": [
    "# Feature Importance Method    \n",
    "def feature_importance(model, feature_names):\n",
    "    # Extract feature importances from the trained model\n",
    "    importances = model.featureImportances\n",
    "\n",
    "    # Map feature names to their importances and sort by importance\n",
    "    features_with_importance = sorted(zip(feature_names, importances), key=lambda x: x[1], reverse=True)\n",
    "    \n",
    "    for feature, importance in features_with_importance:\n",
    "        print(f\"Feature: {feature}, Importance: {importance:.4f}\")"
   ]
  },
  {
   "cell_type": "markdown",
   "id": "4328a47a",
   "metadata": {},
   "source": [
    "# 1 - BU"
   ]
  },
  {
   "cell_type": "markdown",
   "id": "77ce1454",
   "metadata": {},
   "source": [
    "The detial information about BU is addressed in Itertion-4 report Section - 1."
   ]
  },
  {
   "cell_type": "markdown",
   "id": "b73e22de",
   "metadata": {},
   "source": [
    "# 2- DU"
   ]
  },
  {
   "cell_type": "code",
   "execution_count": 102,
   "id": "b4555492",
   "metadata": {},
   "outputs": [
    {
     "name": "stdout",
     "output_type": "stream",
     "text": [
      "Total records: 69000\n"
     ]
    }
   ],
   "source": [
    "# load the csv file\n",
    "df = spark.read.csv('Datasets/heart_dataset_1.csv', inferSchema=True, header=True)\n",
    "\n",
    "print(f\"Total records: {df.count()}\")"
   ]
  },
  {
   "cell_type": "code",
   "execution_count": 103,
   "id": "6b37cffc",
   "metadata": {
    "scrolled": false
   },
   "outputs": [
    {
     "name": "stdout",
     "output_type": "stream",
     "text": [
      "+-----+---+-----+------+------+------+-----+-----+-----------+----+-----+----+------+------+\n",
      "|index| id|  age|gender|height|weight|ap_hi|ap_lo|cholesterol|gluc|smoke|alco|active|cardio|\n",
      "+-----+---+-----+------+------+------+-----+-----+-----------+----+-----+----+------+------+\n",
      "|    0|  0|18393|     2|   168|  62.0|  110|   80|          1|   1|    0|   0|     1|     0|\n",
      "|    1|  1|20228|     1|   156|  85.0|  140|   90|          3|   1|    0|   0|     1|     1|\n",
      "|    2|  2|18857|     1|   165|  64.0|  130|   70|          3|   1|    0|   0|     0|     1|\n",
      "|    3|  3|17623|     2|   169|  82.0|  150|  100|          1|   1|    0|   0|     1|     1|\n",
      "|    4|  4|48Yrs|     1|   156|  56.0|  100|   60|          1|   1|    0|   0|     0|     0|\n",
      "|    5|  8|21914|     1|   151|  67.0|  120|   80|          2|   2|    0|   0|     0|     0|\n",
      "|    6|  9|22113|     1|   157|  93.0|  130|   80|          3|   1|    0|   0|     1|     0|\n",
      "|    7| 12|22584|     2|   178|  95.0|  130|   90|          3|   3|    0|   0|     1|     1|\n",
      "|    8| 13|17668|     1|   158|  71.0|  110|   70|          1|   1|    0|   0|     1|     0|\n",
      "|    9| 14|19834|     1|   164|  68.0|  110|   60|          1|   1|    0|   0|     0|     0|\n",
      "|   10| 15|22530|     1|   169|  80.0|  120|   80|          1|   1|    0|   0|     1|     0|\n",
      "|   11| 16|18815|     2|   173|  60.0|  120|   80|          1|   1|    0|   0|     1|     0|\n",
      "|   12| 18|14791|     2|   165|  60.0|  120|   80|          1|   1|    0|   0|     0|     0|\n",
      "|   13| 21|19809|     1|   158|  78.0|  110|   70|          1|   1|    0|   0|     1|     0|\n",
      "|   14| 23|14532|     2|   181|  95.0|  130|   90|          1|   1|    1|   1|     1|     0|\n",
      "|   15| 24|16782|     2|   172| 112.0|  120|   80|          1|   1|    0|   0|     0|     1|\n",
      "|   16| 25|21296|     1|   170|  75.0|  130|   70|          1|   1|    0|   0|     0|     0|\n",
      "|   17| 27|16747|     1|   158|  52.0|  110|   70|          1|   3|    0|   0|     1|     0|\n",
      "|   18| 28|17482|     1|   154|  68.0|  100|   70|          1|   1|    0|   0|     0|     0|\n",
      "|   19| 29|21755|     2|   162|  56.0|  120|   70|          1|   1|    1|   0|     1|     0|\n",
      "+-----+---+-----+------+------+------+-----+-----+-----------+----+-----+----+------+------+\n",
      "only showing top 20 rows\n",
      "\n"
     ]
    }
   ],
   "source": [
    "# Verify the loaded data\n",
    "df.show()"
   ]
  },
  {
   "cell_type": "code",
   "execution_count": 104,
   "id": "c1efdef2",
   "metadata": {},
   "outputs": [
    {
     "name": "stdout",
     "output_type": "stream",
     "text": [
      "root\n",
      " |-- index: integer (nullable = true)\n",
      " |-- id: integer (nullable = true)\n",
      " |-- age: string (nullable = true)\n",
      " |-- gender: integer (nullable = true)\n",
      " |-- height: integer (nullable = true)\n",
      " |-- weight: double (nullable = true)\n",
      " |-- ap_hi: integer (nullable = true)\n",
      " |-- ap_lo: integer (nullable = true)\n",
      " |-- cholesterol: integer (nullable = true)\n",
      " |-- gluc: integer (nullable = true)\n",
      " |-- smoke: integer (nullable = true)\n",
      " |-- alco: integer (nullable = true)\n",
      " |-- active: integer (nullable = true)\n",
      " |-- cardio: integer (nullable = true)\n",
      "\n"
     ]
    }
   ],
   "source": [
    "# Verify the data schema\n",
    "df.printSchema()"
   ]
  },
  {
   "cell_type": "code",
   "execution_count": 105,
   "id": "c12b7492",
   "metadata": {},
   "outputs": [
    {
     "data": {
      "text/plain": [
       "['index',\n",
       " 'id',\n",
       " 'age',\n",
       " 'gender',\n",
       " 'height',\n",
       " 'weight',\n",
       " 'ap_hi',\n",
       " 'ap_lo',\n",
       " 'cholesterol',\n",
       " 'gluc',\n",
       " 'smoke',\n",
       " 'alco',\n",
       " 'active',\n",
       " 'cardio']"
      ]
     },
     "execution_count": 105,
     "metadata": {},
     "output_type": "execute_result"
    }
   ],
   "source": [
    "df.columns"
   ]
  },
  {
   "cell_type": "code",
   "execution_count": 106,
   "id": "b7db75ec",
   "metadata": {},
   "outputs": [
    {
     "data": {
      "text/plain": [
       "[Row(index=0, id=0, age='18393', gender=2, height=168, weight=62.0, ap_hi=110, ap_lo=80, cholesterol=1, gluc=1, smoke=0, alco=0, active=1, cardio=0),\n",
       " Row(index=1, id=1, age='20228', gender=1, height=156, weight=85.0, ap_hi=140, ap_lo=90, cholesterol=3, gluc=1, smoke=0, alco=0, active=1, cardio=1),\n",
       " Row(index=2, id=2, age='18857', gender=1, height=165, weight=64.0, ap_hi=130, ap_lo=70, cholesterol=3, gluc=1, smoke=0, alco=0, active=0, cardio=1),\n",
       " Row(index=3, id=3, age='17623', gender=2, height=169, weight=82.0, ap_hi=150, ap_lo=100, cholesterol=1, gluc=1, smoke=0, alco=0, active=1, cardio=1),\n",
       " Row(index=4, id=4, age='48Yrs', gender=1, height=156, weight=56.0, ap_hi=100, ap_lo=60, cholesterol=1, gluc=1, smoke=0, alco=0, active=0, cardio=0),\n",
       " Row(index=5, id=8, age='21914', gender=1, height=151, weight=67.0, ap_hi=120, ap_lo=80, cholesterol=2, gluc=2, smoke=0, alco=0, active=0, cardio=0),\n",
       " Row(index=6, id=9, age='22113', gender=1, height=157, weight=93.0, ap_hi=130, ap_lo=80, cholesterol=3, gluc=1, smoke=0, alco=0, active=1, cardio=0),\n",
       " Row(index=7, id=12, age='22584', gender=2, height=178, weight=95.0, ap_hi=130, ap_lo=90, cholesterol=3, gluc=3, smoke=0, alco=0, active=1, cardio=1),\n",
       " Row(index=8, id=13, age='17668', gender=1, height=158, weight=71.0, ap_hi=110, ap_lo=70, cholesterol=1, gluc=1, smoke=0, alco=0, active=1, cardio=0),\n",
       " Row(index=9, id=14, age='19834', gender=1, height=164, weight=68.0, ap_hi=110, ap_lo=60, cholesterol=1, gluc=1, smoke=0, alco=0, active=0, cardio=0)]"
      ]
     },
     "execution_count": 106,
     "metadata": {},
     "output_type": "execute_result"
    }
   ],
   "source": [
    "df.head(10)"
   ]
  },
  {
   "cell_type": "code",
   "execution_count": 107,
   "id": "4946e4e6",
   "metadata": {},
   "outputs": [
    {
     "name": "stdout",
     "output_type": "stream",
     "text": [
      "+-----+---+-----+------+------+------+-----+-----+-----------+----+-----+----+------+------+\n",
      "|index| id|  age|gender|height|weight|ap_hi|ap_lo|cholesterol|gluc|smoke|alco|active|cardio|\n",
      "+-----+---+-----+------+------+------+-----+-----+-----------+----+-----+----+------+------+\n",
      "|    0|  0|18393|     2|   168|  62.0|  110|   80|          1|   1|    0|   0|     1|     0|\n",
      "|    1|  1|20228|     1|   156|  85.0|  140|   90|          3|   1|    0|   0|     1|     1|\n",
      "|    2|  2|18857|     1|   165|  64.0|  130|   70|          3|   1|    0|   0|     0|     1|\n",
      "|    3|  3|17623|     2|   169|  82.0|  150|  100|          1|   1|    0|   0|     1|     1|\n",
      "|    4|  4|48Yrs|     1|   156|  56.0|  100|   60|          1|   1|    0|   0|     0|     0|\n",
      "|    5|  8|21914|     1|   151|  67.0|  120|   80|          2|   2|    0|   0|     0|     0|\n",
      "|    6|  9|22113|     1|   157|  93.0|  130|   80|          3|   1|    0|   0|     1|     0|\n",
      "|    7| 12|22584|     2|   178|  95.0|  130|   90|          3|   3|    0|   0|     1|     1|\n",
      "|    8| 13|17668|     1|   158|  71.0|  110|   70|          1|   1|    0|   0|     1|     0|\n",
      "|    9| 14|19834|     1|   164|  68.0|  110|   60|          1|   1|    0|   0|     0|     0|\n",
      "+-----+---+-----+------+------+------+-----+-----+-----------+----+-----+----+------+------+\n",
      "only showing top 10 rows\n",
      "\n"
     ]
    }
   ],
   "source": [
    "df.orderBy(df['Index'].asc()).show(10)"
   ]
  },
  {
   "cell_type": "code",
   "execution_count": 108,
   "id": "8155f7b9",
   "metadata": {},
   "outputs": [
    {
     "data": {
      "text/plain": [
       "[Row(index=68990, id=98559, age='20508', gender=2, height=173, weight=91.0, ap_hi=140, ap_lo=90, cholesterol=1, gluc=1, smoke=0, alco=1, active=1, cardio=0),\n",
       " Row(index=68991, id=98561, age='21787', gender=1, height=168, weight=70.0, ap_hi=140, ap_lo=90, cholesterol=3, gluc=1, smoke=0, alco=0, active=1, cardio=1),\n",
       " Row(index=68992, id=98562, age='17574', gender=1, height=157, weight=63.0, ap_hi=150, ap_lo=100, cholesterol=1, gluc=1, smoke=0, alco=0, active=1, cardio=0),\n",
       " Row(index=68993, id=98563, age='14643', gender=2, height=175, weight=75.0, ap_hi=100, ap_lo=70, cholesterol=1, gluc=1, smoke=0, alco=0, active=1, cardio=0),\n",
       " Row(index=68994, id=98564, age='18949', gender=2, height=172, weight=62.0, ap_hi=110, ap_lo=70, cholesterol=1, gluc=1, smoke=1, alco=0, active=1, cardio=0),\n",
       " Row(index=68995, id=98565, age='17548', gender=2, height=173, weight=72.0, ap_hi=120, ap_lo=80, cholesterol=1, gluc=1, smoke=0, alco=0, active=0, cardio=0),\n",
       " Row(index=68996, id=98566, age='20430', gender=1, height=159, weight=105.0, ap_hi=120, ap_lo=80, cholesterol=1, gluc=1, smoke=0, alco=0, active=1, cardio=1),\n",
       " Row(index=68997, id=98567, age='21682', gender=1, height=158, weight=78.0, ap_hi=130, ap_lo=90, cholesterol=1, gluc=1, smoke=0, alco=0, active=1, cardio=1),\n",
       " Row(index=68998, id=98568, age='19107', gender=1, height=154, weight=77.0, ap_hi=14, ap_lo=90, cholesterol=1, gluc=1, smoke=0, alco=0, active=1, cardio=0),\n",
       " Row(index=68999, id=98569, age='19591', gender=2, height=175, weight=88.0, ap_hi=120, ap_lo=80, cholesterol=1, gluc=1, smoke=0, alco=0, active=0, cardio=1)]"
      ]
     },
     "execution_count": 108,
     "metadata": {},
     "output_type": "execute_result"
    }
   ],
   "source": [
    "df.tail(10)"
   ]
  },
  {
   "cell_type": "code",
   "execution_count": 109,
   "id": "c1a1d5ba",
   "metadata": {},
   "outputs": [
    {
     "name": "stdout",
     "output_type": "stream",
     "text": [
      "+-----+-----+-----+------+------+------+-----+-----+-----------+----+-----+----+------+------+\n",
      "|index|   id|  age|gender|height|weight|ap_hi|ap_lo|cholesterol|gluc|smoke|alco|active|cardio|\n",
      "+-----+-----+-----+------+------+------+-----+-----+-----------+----+-----+----+------+------+\n",
      "|68999|98569|19591|     2|   175|  88.0|  120|   80|          1|   1|    0|   0|     0|     1|\n",
      "|68998|98568|19107|     1|   154|  77.0|   14|   90|          1|   1|    0|   0|     1|     0|\n",
      "|68997|98567|21682|     1|   158|  78.0|  130|   90|          1|   1|    0|   0|     1|     1|\n",
      "|68996|98566|20430|     1|   159| 105.0|  120|   80|          1|   1|    0|   0|     1|     1|\n",
      "|68995|98565|17548|     2|   173|  72.0|  120|   80|          1|   1|    0|   0|     0|     0|\n",
      "|68994|98564|18949|     2|   172|  62.0|  110|   70|          1|   1|    1|   0|     1|     0|\n",
      "|68993|98563|14643|     2|   175|  75.0|  100|   70|          1|   1|    0|   0|     1|     0|\n",
      "|68992|98562|17574|     1|   157|  63.0|  150|  100|          1|   1|    0|   0|     1|     0|\n",
      "|68991|98561|21787|     1|   168|  70.0|  140|   90|          3|   1|    0|   0|     1|     1|\n",
      "|68990|98559|20508|     2|   173|  91.0|  140|   90|          1|   1|    0|   1|     1|     0|\n",
      "+-----+-----+-----+------+------+------+-----+-----+-----------+----+-----+----+------+------+\n",
      "only showing top 10 rows\n",
      "\n"
     ]
    }
   ],
   "source": [
    "df.orderBy(df['Index'].desc()).show(10)"
   ]
  },
  {
   "cell_type": "code",
   "execution_count": 110,
   "id": "22e1b23d",
   "metadata": {},
   "outputs": [
    {
     "name": "stdout",
     "output_type": "stream",
     "text": [
      "+-------+------------------+------------------+\n",
      "|summary|             index|                id|\n",
      "+-------+------------------+------------------+\n",
      "|  count|             69000|             69000|\n",
      "|   mean|           34499.5| 49257.99002898551|\n",
      "| stddev|19918.728624086427|28438.175895091368|\n",
      "|    min|                 0|                 0|\n",
      "|    max|             68999|             98569|\n",
      "+-------+------------------+------------------+\n",
      "\n",
      "+-------+------------------+-------------------+------------------+-----------------+\n",
      "|summary|               age|             gender|            height|           weight|\n",
      "+-------+------------------+-------------------+------------------+-----------------+\n",
      "|  count|             69000|              69000|             69000|            69000|\n",
      "|   mean|19469.362175167036| 1.3495217391304348|164.35059420289855|74.21126086956522|\n",
      "| stddev|2467.2731299236907|0.47682238629511076| 8.211304686499416|14.40431106828465|\n",
      "|    min|             10798|                  1|                55|             10.0|\n",
      "|    max|             48Yrs|                  2|               250|            200.0|\n",
      "+-------+------------------+-------------------+------------------+-----------------+\n",
      "\n",
      "+-------+------------------+------------------+------------------+------------------+\n",
      "|summary|             ap_hi|             ap_lo|       cholesterol|              gluc|\n",
      "+-------+------------------+------------------+------------------+------------------+\n",
      "|  count|             69000|             69000|             68997|             69000|\n",
      "|   mean|128.80997101449276| 96.65495652173912|1.3673637984260185|1.2263623188405797|\n",
      "| stddev|154.94479317115955|189.36793185426143|0.6805505273319785|0.5722543067125166|\n",
      "|    min|              -150|               -70|                 1|                 1|\n",
      "|    max|             16020|             11000|                 3|                 3|\n",
      "+-------+------------------+------------------+------------------+------------------+\n",
      "\n",
      "+-------+-------------------+-------------------+-------------------+-------------------+\n",
      "|summary|              smoke|               alco|             active|             cardio|\n",
      "+-------+-------------------+-------------------+-------------------+-------------------+\n",
      "|  count|              69000|              69000|              69000|              69000|\n",
      "|   mean|0.08828985507246377|0.05376811594202899| 0.8040434782608695|0.49972463768115943|\n",
      "| stddev|0.28371803462474876|0.22556117354304892|0.39693808938305636| 0.5000035474028258|\n",
      "|    min|                  0|                  0|                  0|                  0|\n",
      "|    max|                  1|                  1|                  1|                  1|\n",
      "+-------+-------------------+-------------------+-------------------+-------------------+\n",
      "\n"
     ]
    }
   ],
   "source": [
    "df.select('index','id').describe().show()\n",
    "\n",
    "df.select('age','gender','height','weight').describe().show()\n",
    "\n",
    "df.select('ap_hi','ap_lo','cholesterol','gluc').describe().show()\n",
    "\n",
    "df.select('smoke','alco','active','cardio').describe().show()"
   ]
  },
  {
   "cell_type": "code",
   "execution_count": 111,
   "id": "d1551396",
   "metadata": {
    "scrolled": true
   },
   "outputs": [
    {
     "name": "stdout",
     "output_type": "stream",
     "text": [
      "+-----+---+---+------+------+------+-----+-----+-----------+----+-----+----+------+------+\n",
      "|index| id|age|gender|height|weight|ap_hi|ap_lo|cholesterol|gluc|smoke|alco|active|cardio|\n",
      "+-----+---+---+------+------+------+-----+-----+-----------+----+-----+----+------+------+\n",
      "|    0|  0|  0|     0|     0|     0|    0|    0|          3|   0|    0|   0|     0|     0|\n",
      "+-----+---+---+------+------+------+-----+-----+-----------+----+-----+----+------+------+\n",
      "\n"
     ]
    }
   ],
   "source": [
    "# Check for missing values in each column\n",
    "missing_counts = df.select([count(when(col(c).isNull(), c)).alias(c) for c in df.columns])\n",
    "missing_counts.show()"
   ]
  },
  {
   "cell_type": "code",
   "execution_count": 112,
   "id": "9389b423",
   "metadata": {},
   "outputs": [
    {
     "name": "stdout",
     "output_type": "stream",
     "text": [
      "+-----+-----+-----+------+------+------+-----+-----+-----------+----+-----+----+------+------+\n",
      "|index|   id|  age|gender|height|weight|ap_hi|ap_lo|cholesterol|gluc|smoke|alco|active|cardio|\n",
      "+-----+-----+-----+------+------+------+-----+-----+-----------+----+-----+----+------+------+\n",
      "|    4|    4|48Yrs|     1|   156|  56.0|  100|   60|          1|   1|    0|   0|     0|     0|\n",
      "|   28|   39|38Yrs|     2|   166|  66.0|  120|   80|          1|   1|    0|   0|     1|     0|\n",
      "|23867|34120|44Yrs|     1|   161|  92.0|  906|    0|          2|   1|    0|   0|     1|     1|\n",
      "+-----+-----+-----+------+------+------+-----+-----+-----------+----+-----+----+------+------+\n",
      "\n"
     ]
    }
   ],
   "source": [
    "# Further analyse the \"age\" column\n",
    "df.filter(~col(\"age\").rlike(\"^[0-9]+$\")).show()"
   ]
  },
  {
   "cell_type": "code",
   "execution_count": 113,
   "id": "fbb9032c",
   "metadata": {},
   "outputs": [
    {
     "name": "stdout",
     "output_type": "stream",
     "text": [
      "+---------+---------+\n",
      "|Min-ap_hi|Max-ap_hi|\n",
      "+---------+---------+\n",
      "|     -150|    16020|\n",
      "+---------+---------+\n",
      "\n",
      "+---------+---------+\n",
      "|Min-ap_lo|Max-ap_lo|\n",
      "+---------+---------+\n",
      "|      -70|    11000|\n",
      "+---------+---------+\n",
      "\n",
      "+----------+----------+\n",
      "|Min-Height|Max-Height|\n",
      "+----------+----------+\n",
      "|        55|       250|\n",
      "+----------+----------+\n",
      "\n",
      "+----------+----------+\n",
      "|Min-Weight|Max-weight|\n",
      "+----------+----------+\n",
      "|      10.0|     200.0|\n",
      "+----------+----------+\n",
      "\n"
     ]
    }
   ],
   "source": [
    "# Further analyse the \"ap_hi\", \"ap_lo\", \"heigh\" and \"weight\"\n",
    "df.select(min('ap_hi').alias('Min-ap_hi'), max('ap_hi').alias('Max-ap_hi')).show()\n",
    "df.select(min('ap_lo').alias('Min-ap_lo'), max('ap_lo').alias('Max-ap_lo')).show()\n",
    "df.select(min('height').alias('Min-Height'), max('height').alias('Max-Height')).show()\n",
    "df.select(min('weight').alias('Min-Weight'), max('weight').alias('Max-weight')).show()"
   ]
  },
  {
   "cell_type": "code",
   "execution_count": 114,
   "id": "87094791",
   "metadata": {},
   "outputs": [
    {
     "name": "stdout",
     "output_type": "stream",
     "text": [
      "+----------------------+---------------------------+--------------------+---------------------+\n",
      "|count(DISTINCT gender)|count(DISTINCT cholesterol)|count(DISTINCT gluc)|count(DISTINCT smoke)|\n",
      "+----------------------+---------------------------+--------------------+---------------------+\n",
      "|                     2|                          3|                   3|                    2|\n",
      "+----------------------+---------------------------+--------------------+---------------------+\n",
      "\n",
      "+--------------------+----------------------+----------------------+\n",
      "|count(DISTINCT alco)|count(DISTINCT active)|count(DISTINCT cardio)|\n",
      "+--------------------+----------------------+----------------------+\n",
      "|                   2|                     2|                     2|\n",
      "+--------------------+----------------------+----------------------+\n",
      "\n"
     ]
    }
   ],
   "source": [
    "# Further analyse the remaining attributes\n",
    "df.select(countDistinct('gender'),countDistinct('cholesterol'),countDistinct('gluc'),countDistinct('smoke')).show()\n",
    "df.select(countDistinct('alco'),countDistinct('active'),countDistinct('cardio')).show()"
   ]
  },
  {
   "cell_type": "code",
   "execution_count": 115,
   "id": "ca7fdaa3",
   "metadata": {},
   "outputs": [
    {
     "name": "stdout",
     "output_type": "stream",
     "text": [
      "+------+\n",
      "|gender|\n",
      "+------+\n",
      "|     1|\n",
      "|     2|\n",
      "+------+\n",
      "\n",
      "+-----------+\n",
      "|cholesterol|\n",
      "+-----------+\n",
      "|       null|\n",
      "|          1|\n",
      "|          3|\n",
      "|          2|\n",
      "+-----------+\n",
      "\n",
      "+----+\n",
      "|gluc|\n",
      "+----+\n",
      "|   1|\n",
      "|   3|\n",
      "|   2|\n",
      "+----+\n",
      "\n",
      "+-----+\n",
      "|smoke|\n",
      "+-----+\n",
      "|    1|\n",
      "|    0|\n",
      "+-----+\n",
      "\n",
      "+----+\n",
      "|alco|\n",
      "+----+\n",
      "|   1|\n",
      "|   0|\n",
      "+----+\n",
      "\n",
      "+------+\n",
      "|active|\n",
      "+------+\n",
      "|     1|\n",
      "|     0|\n",
      "+------+\n",
      "\n",
      "+------+\n",
      "|cardio|\n",
      "+------+\n",
      "|     1|\n",
      "|     0|\n",
      "+------+\n",
      "\n"
     ]
    }
   ],
   "source": [
    "df.select('gender').distinct().show()\n",
    "df.select('cholesterol').distinct().show()\n",
    "df.select('gluc').distinct().show()\n",
    "df.select('smoke').distinct().show()\n",
    "df.select('alco').distinct().show()\n",
    "df.select('active').distinct().show()\n",
    "df.select('cardio').distinct().show()"
   ]
  },
  {
   "cell_type": "code",
   "execution_count": 116,
   "id": "17fd0a86",
   "metadata": {},
   "outputs": [
    {
     "name": "stdout",
     "output_type": "stream",
     "text": [
      "+------+------+-----+\n",
      "|cardio|gender|Count|\n",
      "+------+------+-----+\n",
      "|     1|     2|12195|\n",
      "|     1|     1|22286|\n",
      "|     0|     1|22597|\n",
      "|     0|     2|11922|\n",
      "+------+------+-----+\n",
      "\n"
     ]
    }
   ],
   "source": [
    "# 'Cardio vs Gender'\n",
    "df.groupBy('cardio', 'gender').agg(count('*').alias('Count')).show()"
   ]
  },
  {
   "cell_type": "code",
   "execution_count": 117,
   "id": "a25b173b",
   "metadata": {},
   "outputs": [
    {
     "data": {
      "image/png": "[encoded data removed]",
      "text/plain": [
       "<Figure size 432x288 with 1 Axes>"
      ]
     },
     "metadata": {
      "needs_background": "light"
     },
     "output_type": "display_data"
    }
   ],
   "source": [
    "# Plotting 'Cardio vs Gender'\n",
    "df_pd = df.toPandas()\n",
    "sns.countplot(x='gender', hue='cardio', data=df_pd)\n",
    "plt.title(\"Gender vs Cardio\", size=14)\n",
    "plt.show()"
   ]
  },
  {
   "cell_type": "code",
   "execution_count": 118,
   "id": "dc4304d1",
   "metadata": {},
   "outputs": [
    {
     "name": "stdout",
     "output_type": "stream",
     "text": [
      "+------+------+-----+\n",
      "|cardio|active|Count|\n",
      "+------+------+-----+\n",
      "|     1|     0| 7239|\n",
      "|     1|     1|27242|\n",
      "|     0|     0| 6282|\n",
      "|     0|     1|28237|\n",
      "+------+------+-----+\n",
      "\n",
      "+------+-----+-----+\n",
      "|cardio|smoke|Count|\n",
      "+------+-----+-----+\n",
      "|     1|    0|31590|\n",
      "|     1|    1| 2891|\n",
      "|     0|    0|31318|\n",
      "|     0|    1| 3201|\n",
      "+------+-----+-----+\n",
      "\n",
      "+------+----+-----+\n",
      "|cardio|alco|Count|\n",
      "+------+----+-----+\n",
      "|     1|   0|32688|\n",
      "|     1|   1| 1793|\n",
      "|     0|   0|32602|\n",
      "|     0|   1| 1917|\n",
      "+------+----+-----+\n",
      "\n"
     ]
    }
   ],
   "source": [
    "df.groupBy('cardio','active').agg(count('*').alias('Count')).show()\n",
    "\n",
    "df.groupBy('cardio', 'smoke').agg(count('*').alias('Count')).show()\n",
    "\n",
    "df.groupBy('cardio', 'alco').agg(count('*').alias('Count')).show()"
   ]
  },
  {
   "cell_type": "code",
   "execution_count": 119,
   "id": "095a0b1b",
   "metadata": {},
   "outputs": [
    {
     "data": {
      "image/png": "[encoded data removed]",
      "text/plain": [
       "<Figure size 432x288 with 1 Axes>"
      ]
     },
     "metadata": {
      "needs_background": "light"
     },
     "output_type": "display_data"
    },
    {
     "data": {
      "image/png": "[encoded data removed]",
      "text/plain": [
       "<Figure size 432x288 with 1 Axes>"
      ]
     },
     "metadata": {
      "needs_background": "light"
     },
     "output_type": "display_data"
    },
    {
     "data": {
      "image/png": "[encoded data removed]",
      "text/plain": [
       "<Figure size 432x288 with 1 Axes>"
      ]
     },
     "metadata": {
      "needs_background": "light"
     },
     "output_type": "display_data"
    }
   ],
   "source": [
    "# Plotting 'Cardio vs active'\n",
    "sns.countplot(x='gender', hue='active', data=df_pd)\n",
    "plt.title(\"Active vs Cardio\", size=14)\n",
    "plt.show()\n",
    "\n",
    "# Plotting 'Cardio vs active'\n",
    "df_pd = df.toPandas()\n",
    "sns.countplot(x='smoke', hue='cardio', data=df_pd)\n",
    "plt.title(\"Smoke vs Cardio\", size=14)\n",
    "plt.show()\n",
    "\n",
    "# Plotting 'Cardio vs active'\n",
    "df_pd = df.toPandas()\n",
    "sns.countplot(x='alco', hue='cardio', data=df_pd)\n",
    "plt.title(\"Alco vs Cardio\", size=14)\n",
    "plt.show()"
   ]
  },
  {
   "cell_type": "markdown",
   "id": "bba287e4",
   "metadata": {},
   "source": [
    "# 3 - DP"
   ]
  },
  {
   "cell_type": "code",
   "execution_count": 120,
   "id": "d5957f27",
   "metadata": {},
   "outputs": [
    {
     "name": "stdout",
     "output_type": "stream",
     "text": [
      "\n",
      "Correlation Results\n",
      "------------------------------------\n",
      "Correlation between \"cardio\" and \"cholesterol\": 0.2215\n",
      "Correlation between \"cardio\" and \"weight\": 0.1814\n",
      "Correlation between \"cardio\" and \"gluc\": 0.0882\n",
      "Correlation between \"cardio\" and \"ap_lo\": 0.0656\n",
      "Correlation between \"cardio\" and \"ap_hi\": 0.0541\n",
      "Correlation between \"cardio\" and \"gender\": 0.0087\n",
      "Correlation between \"cardio\" and \"index\": 0.0040\n",
      "Correlation between \"cardio\" and \"id\": 0.0040\n",
      "Correlation between \"cardio\" and \"alco\": -0.0078\n",
      "Correlation between \"cardio\" and \"height\": -0.0109\n",
      "Correlation between \"cardio\" and \"smoke\": -0.0157\n",
      "Correlation between \"cardio\" and \"active\": -0.0352\n"
     ]
    }
   ],
   "source": [
    "# prepare the columns and \"age\" column cannot correlation yet due to inconsistent data format\n",
    "tmpDf = df.drop(\"age\", \"cardio\")\n",
    "columns = tmpDf.columns\n",
    "target = 'cardio'\n",
    "\n",
    "# apply correlation method\n",
    "correlations = {}\n",
    "for col in columns:\n",
    "    corr_value = df.stat.corr(col, target)\n",
    "    correlations[col] = corr_value\n",
    "\n",
    "# print the result in descending order\n",
    "print(\"\\nCorrelation Results\")\n",
    "print(\"------------------------------------\")\n",
    "sorted_correlations = sorted(correlations.items(), key=lambda x: x[1], reverse=True)\n",
    "for col, corr_value in sorted_correlations:\n",
    "    print(f\"Correlation between \\\"{target}\\\" and \\\"{col}\\\": {corr_value:.4f}\")"
   ]
  },
  {
   "cell_type": "code",
   "execution_count": 121,
   "id": "caacfb92",
   "metadata": {},
   "outputs": [
    {
     "data": {
      "image/png": "[encoded data removed]",
      "text/plain": [
       "<Figure size 720x72 with 2 Axes>"
      ]
     },
     "metadata": {
      "needs_background": "light"
     },
     "output_type": "display_data"
    }
   ],
   "source": [
    "# preparing data to plot the heatmap diagram\n",
    "attributes = list(correlations.keys())\n",
    "correlation_values = list(correlations.values())\n",
    "corr_matrix = [correlation_values]\n",
    "\n",
    "# Generate the heatmap plot\n",
    "plt.figure(figsize=(10, 1))  # Adjust size as per your preference\n",
    "sns.heatmap(corr_matrix, annot=True, yticklabels=['cardio'], xticklabels=attributes, cmap=\"coolwarm\", cbar=True, linewidths=0.5)\n",
    "plt.title(\"Correlation with 'cardio'\")\n",
    "plt.show()"
   ]
  },
  {
   "cell_type": "code",
   "execution_count": 122,
   "id": "91b20068",
   "metadata": {},
   "outputs": [
    {
     "data": {
      "text/plain": [
       "['age',\n",
       " 'gender',\n",
       " 'height',\n",
       " 'weight',\n",
       " 'ap_hi',\n",
       " 'ap_lo',\n",
       " 'cholesterol',\n",
       " 'gluc',\n",
       " 'smoke',\n",
       " 'alco',\n",
       " 'active',\n",
       " 'cardio']"
      ]
     },
     "execution_count": 122,
     "metadata": {},
     "output_type": "execute_result"
    }
   ],
   "source": [
    "# drop the \"Index\" and \"Id\" columns\n",
    "df= df.drop(\"Index\", \"Id\")\n",
    "\n",
    "df.columns"
   ]
  },
  {
   "cell_type": "code",
   "execution_count": 123,
   "id": "73d4aed8",
   "metadata": {},
   "outputs": [
    {
     "name": "stdout",
     "output_type": "stream",
     "text": [
      "+-----------+\n",
      "|cholesterol|\n",
      "+-----------+\n",
      "|          1|\n",
      "|          3|\n",
      "|          2|\n",
      "+-----------+\n",
      "\n"
     ]
    }
   ],
   "source": [
    "# drop the missing value rows\n",
    "df= df.na.drop()\n",
    "\n",
    "df.select('cholesterol').distinct().show()"
   ]
  },
  {
   "cell_type": "code",
   "execution_count": 124,
   "id": "13f05a6b",
   "metadata": {},
   "outputs": [
    {
     "name": "stdout",
     "output_type": "stream",
     "text": [
      "+-------+------------------+-----------------+------------------+------------------+\n",
      "|summary|             ap_hi|            ap_lo|            height|            weight|\n",
      "+-------+------------------+-----------------+------------------+------------------+\n",
      "|  count|             67181|            67181|             67181|             67181|\n",
      "|   mean|126.64908232982539|  81.412795284381|164.56456438576384| 74.28256426668254|\n",
      "| stddev|16.728044719625508|9.671091681265171| 7.702318486155489|14.150908077532737|\n",
      "|    min|                60|               40|               145|              45.0|\n",
      "|    max|               240|              190|               250|             200.0|\n",
      "+-------+------------------+-----------------+------------------+------------------+\n",
      "\n"
     ]
    }
   ],
   "source": [
    "# handle data errors and extreme outlier\n",
    "df = df.filter(\n",
    "    ~(\n",
    "        (df.ap_hi < 40) |\n",
    "        (df.ap_hi > 370) |\n",
    "        (df.ap_lo < 40) |\n",
    "        (df.ap_lo > 370) |        \n",
    "        (df.height < 145) |\n",
    "        (df.weight < 45)\n",
    "    )\n",
    ")\n",
    "\n",
    "df.select('ap_hi','ap_lo','height','weight').describe().show()"
   ]
  },
  {
   "cell_type": "code",
   "execution_count": 125,
   "id": "e4fd996e",
   "metadata": {},
   "outputs": [
    {
     "name": "stdout",
     "output_type": "stream",
     "text": [
      "+-----+------+------+------+-----+-----+-----------+----+-----+----+------+------+\n",
      "|  age|gender|height|weight|ap_hi|ap_lo|cholesterol|gluc|smoke|alco|active|cardio|\n",
      "+-----+------+------+------+-----+-----+-----------+----+-----+----+------+------+\n",
      "|48Yrs|     1|   156|  56.0|  100|   60|          1|   1|    0|   0|     0|     0|\n",
      "|38Yrs|     2|   166|  66.0|  120|   80|          1|   1|    0|   0|     1|     0|\n",
      "+-----+------+------+------+-----+-----+-----------+----+-----+----+------+------+\n",
      "\n"
     ]
    }
   ],
   "source": [
    "# handle inconsistence data format\n",
    "\n",
    "## filter out the year format data\n",
    "df_filtered = df.filter(df[\"age\"].like(\"%Yrs%\"))\n",
    "df_filtered.show()"
   ]
  },
  {
   "cell_type": "code",
   "execution_count": 126,
   "id": "0e5f7bad",
   "metadata": {},
   "outputs": [
    {
     "name": "stdout",
     "output_type": "stream",
     "text": [
      "+-------+------+------+------+-----+-----+-----------+----+-----+----+------+------+\n",
      "|    age|gender|height|weight|ap_hi|ap_lo|cholesterol|gluc|smoke|alco|active|cardio|\n",
      "+-------+------+------+------+-----+-----+-----------+----+-----+----+------+------+\n",
      "|17520.0|     1|   156|  56.0|  100|   60|          1|   1|    0|   0|     0|     0|\n",
      "|13870.0|     2|   166|  66.0|  120|   80|          1|   1|    0|   0|     1|     0|\n",
      "+-------+------+------+------+-----+-----+-----------+----+-----+----+------+------+\n",
      "\n"
     ]
    }
   ],
   "source": [
    "## correction of age format\n",
    "df_Correction = df_filtered.withColumn(\"age\", regexp_replace(df[\"age\"], \"Yrs\", \"\") * 365)\n",
    "df_Correction.show()"
   ]
  },
  {
   "cell_type": "code",
   "execution_count": 127,
   "id": "85474675",
   "metadata": {},
   "outputs": [
    {
     "name": "stdout",
     "output_type": "stream",
     "text": [
      "+---+------+------+------+-----+-----+-----------+----+-----+----+------+------+\n",
      "|age|gender|height|weight|ap_hi|ap_lo|cholesterol|gluc|smoke|alco|active|cardio|\n",
      "+---+------+------+------+-----+-----+-----------+----+-----+----+------+------+\n",
      "+---+------+------+------+-----+-----+-----------+----+-----+----+------+------+\n",
      "\n"
     ]
    }
   ],
   "source": [
    "## adding back to orginal dataframe and drop the inconsistant format\n",
    "\n",
    "df = df.filter(~(df[\"age\"].like(\"%Yrs%\")))\n",
    "\n",
    "df = df.union(df_Correction)\n",
    "\n",
    "df.filter(df[\"age\"].like(\"%Yrs%\")).show()"
   ]
  },
  {
   "cell_type": "code",
   "execution_count": 128,
   "id": "870db07d",
   "metadata": {},
   "outputs": [
    {
     "name": "stdout",
     "output_type": "stream",
     "text": [
      "DataFrame has duplicate rows! - 24 rows\n"
     ]
    }
   ],
   "source": [
    "# Count occurrences of each row\n",
    "df_grouped = df.groupBy(df.columns).agg(count(\"*\").alias(\"count\"))\n",
    "\n",
    "# Check for duplicates\n",
    "if df_grouped.filter(\"`count` > 1\").count() > 0:\n",
    "    print(f\"DataFrame has duplicate rows! - {df_grouped.filter('count > 1').count()} rows\")\n",
    "else:\n",
    "    print(\"DataFrame does not have duplicate rows!\")\n"
   ]
  },
  {
   "cell_type": "code",
   "execution_count": 129,
   "id": "e0142a21",
   "metadata": {},
   "outputs": [
    {
     "name": "stdout",
     "output_type": "stream",
     "text": [
      "DataFrame does not have duplicate rows!\n"
     ]
    }
   ],
   "source": [
    "# drop the duplicates row\n",
    "df = df.dropDuplicates()\n",
    "\n",
    "# Count occurrences of each row\n",
    "df_grouped = df.groupBy(df.columns).agg(count(\"*\").alias(\"count\"))\n",
    "\n",
    "# Check for duplicates\n",
    "if df_grouped.filter(\"`count` > 1\").count() > 0:\n",
    "    print(f\"DataFrame has duplicate rows! - {df_grouped.filter('count > 1').count()} rows\")\n",
    "else:\n",
    "    print(\"DataFrame does not have duplicate rows!\")"
   ]
  },
  {
   "cell_type": "code",
   "execution_count": 130,
   "id": "edddb275",
   "metadata": {},
   "outputs": [
    {
     "name": "stdout",
     "output_type": "stream",
     "text": [
      "+-----+------+------+------+-----+-----+-----------+----+-----+----+------+------+-----+\n",
      "|  age|gender|height|weight|ap_hi|ap_lo|cholesterol|gluc|smoke|alco|active|cardio|  BMI|\n",
      "+-----+------+------+------+-----+-----+-----------+----+-----+----+------+------+-----+\n",
      "|20631|     1|   162|  85.0|  120|   70|          3|   3|    0|   0|     1|     1|32.39|\n",
      "|21966|     1|   159| 101.0|  170|   90|          1|   1|    0|   0|     1|     1|39.95|\n",
      "|23638|     1|   165|  60.0|  120|   80|          1|   1|    0|   0|     0|     1|22.04|\n",
      "|23544|     2|   165|  67.0|  120|   80|          1|   1|    0|   0|     1|     0|24.61|\n",
      "|17371|     1|   156|  74.0|  150|   90|          1|   1|    0|   0|     0|     1|30.41|\n",
      "|20641|     1|   163|  63.0|  120|   80|          3|   3|    0|   0|     1|     0|23.71|\n",
      "|16148|     1|   169|  73.0|  100|   70|          1|   1|    1|   0|     1|     0|25.56|\n",
      "|19753|     1|   158|  50.0|  120|   80|          1|   1|    0|   0|     1|     0|20.03|\n",
      "|16201|     1|   166|  68.0|  100|   60|          1|   1|    0|   0|     1|     1|24.68|\n",
      "|17258|     2|   176|  71.0|  100|   70|          1|   2|    0|   0|     1|     0|22.92|\n",
      "|16698|     1|   160|  55.0|  110|   80|          1|   1|    0|   0|     1|     1|21.48|\n",
      "|19820|     1|   165|  86.0|  140|   90|          1|   1|    0|   0|     1|     1|31.59|\n",
      "|20220|     1|   164|  64.0|  110|   70|          1|   1|    0|   0|     1|     0| 23.8|\n",
      "|19672|     2|   170|  84.0|  150|  100|          1|   1|    1|   1|     1|     1|29.07|\n",
      "|16766|     1|   157|  68.0|  180|  100|          2|   1|    0|   0|     1|     0|27.59|\n",
      "|20627|     1|   169|  70.0|  120|   80|          1|   1|    0|   0|     1|     0|24.51|\n",
      "|18830|     1|   154| 120.0|  120|   89|          3|   3|    0|   0|     1|     0| 50.6|\n",
      "|18412|     2|   170|  72.0|  140|   90|          2|   1|    0|   0|     1|     1|24.91|\n",
      "|21143|     2|   166|  75.0|  120|   80|          1|   3|    0|   0|     1|     0|27.22|\n",
      "|22657|     1|   165|  65.0|  120|   90|          1|   1|    0|   0|     1|     0|23.88|\n",
      "+-----+------+------+------+-----+-----+-----------+----+-----+----+------+------+-----+\n",
      "only showing top 20 rows\n",
      "\n"
     ]
    }
   ],
   "source": [
    "# adding new feature \"BMI\"\n",
    "df = df.withColumn(\"BMI\", round(df[\"weight\"] / ((df[\"height\"]/100) ** 2),2))\n",
    "\n",
    "df.show()"
   ]
  },
  {
   "cell_type": "code",
   "execution_count": 131,
   "id": "87c4ad61",
   "metadata": {},
   "outputs": [
    {
     "name": "stdout",
     "output_type": "stream",
     "text": [
      "+-----+------+------+------+-----+-----+-----------+----+-----+----+------+------+-----+----------+\n",
      "|  age|gender|height|weight|ap_hi|ap_lo|cholesterol|gluc|smoke|alco|active|cardio|  BMI|Pulse_Rate|\n",
      "+-----+------+------+------+-----+-----+-----------+----+-----+----+------+------+-----+----------+\n",
      "|20631|     1|   162|  85.0|  120|   70|          3|   3|    0|   0|     1|     1|32.39|        50|\n",
      "|21966|     1|   159| 101.0|  170|   90|          1|   1|    0|   0|     1|     1|39.95|        80|\n",
      "|23638|     1|   165|  60.0|  120|   80|          1|   1|    0|   0|     0|     1|22.04|        40|\n",
      "|23544|     2|   165|  67.0|  120|   80|          1|   1|    0|   0|     1|     0|24.61|        40|\n",
      "|17371|     1|   156|  74.0|  150|   90|          1|   1|    0|   0|     0|     1|30.41|        60|\n",
      "|20641|     1|   163|  63.0|  120|   80|          3|   3|    0|   0|     1|     0|23.71|        40|\n",
      "|16148|     1|   169|  73.0|  100|   70|          1|   1|    1|   0|     1|     0|25.56|        30|\n",
      "|19753|     1|   158|  50.0|  120|   80|          1|   1|    0|   0|     1|     0|20.03|        40|\n",
      "|16201|     1|   166|  68.0|  100|   60|          1|   1|    0|   0|     1|     1|24.68|        40|\n",
      "|17258|     2|   176|  71.0|  100|   70|          1|   2|    0|   0|     1|     0|22.92|        30|\n",
      "|16698|     1|   160|  55.0|  110|   80|          1|   1|    0|   0|     1|     1|21.48|        30|\n",
      "|19820|     1|   165|  86.0|  140|   90|          1|   1|    0|   0|     1|     1|31.59|        50|\n",
      "|20220|     1|   164|  64.0|  110|   70|          1|   1|    0|   0|     1|     0| 23.8|        40|\n",
      "|19672|     2|   170|  84.0|  150|  100|          1|   1|    1|   1|     1|     1|29.07|        50|\n",
      "|16766|     1|   157|  68.0|  180|  100|          2|   1|    0|   0|     1|     0|27.59|        80|\n",
      "|20627|     1|   169|  70.0|  120|   80|          1|   1|    0|   0|     1|     0|24.51|        40|\n",
      "|18830|     1|   154| 120.0|  120|   89|          3|   3|    0|   0|     1|     0| 50.6|        31|\n",
      "|18412|     2|   170|  72.0|  140|   90|          2|   1|    0|   0|     1|     1|24.91|        50|\n",
      "|21143|     2|   166|  75.0|  120|   80|          1|   3|    0|   0|     1|     0|27.22|        40|\n",
      "|22657|     1|   165|  65.0|  120|   90|          1|   1|    0|   0|     1|     0|23.88|        30|\n",
      "+-----+------+------+------+-----+-----+-----------+----+-----+----+------+------+-----+----------+\n",
      "only showing top 20 rows\n",
      "\n"
     ]
    }
   ],
   "source": [
    "# Adding new feature Pulse_Rate\n",
    "df = df.withColumn(\"Pulse_Rate\", df[\"ap_hi\"] - df[\"ap_lo\"])\n",
    "\n",
    "df.show()"
   ]
  },
  {
   "cell_type": "code",
   "execution_count": 132,
   "id": "887a5554",
   "metadata": {},
   "outputs": [
    {
     "name": "stdout",
     "output_type": "stream",
     "text": [
      "Total records: 69000\n"
     ]
    }
   ],
   "source": [
    "# load the csv file - 1\n",
    "df1 = spark.read.csv('Datasets/heart_dataset_1.csv', inferSchema=True, header=True)\n",
    "\n",
    "print(f\"Total records: {df1.count()}\")"
   ]
  },
  {
   "cell_type": "code",
   "execution_count": 133,
   "id": "e78ed4af",
   "metadata": {},
   "outputs": [
    {
     "name": "stdout",
     "output_type": "stream",
     "text": [
      "Total records: 1000\n"
     ]
    }
   ],
   "source": [
    "# load the csv file - 2\n",
    "df2 = spark.read.csv('Datasets/heart_dataset_2.csv', inferSchema=True, header=True)\n",
    "\n",
    "print(f\"Total records: {df2.count()}\")"
   ]
  },
  {
   "cell_type": "code",
   "execution_count": 134,
   "id": "85a6842c",
   "metadata": {},
   "outputs": [
    {
     "name": "stdout",
     "output_type": "stream",
     "text": [
      "Total records: 70000\n"
     ]
    }
   ],
   "source": [
    "# Merge two datasets\n",
    "merge_df = df1.union(df2)\n",
    "\n",
    "print(f\"Total records: {merge_df.count()}\")"
   ]
  },
  {
   "cell_type": "code",
   "execution_count": 135,
   "id": "fd9164b4",
   "metadata": {},
   "outputs": [
    {
     "name": "stdout",
     "output_type": "stream",
     "text": [
      "root\n",
      " |-- index: integer (nullable = true)\n",
      " |-- id: integer (nullable = true)\n",
      " |-- age: string (nullable = true)\n",
      " |-- gender: integer (nullable = true)\n",
      " |-- height: integer (nullable = true)\n",
      " |-- weight: double (nullable = true)\n",
      " |-- ap_hi: integer (nullable = true)\n",
      " |-- ap_lo: integer (nullable = true)\n",
      " |-- cholesterol: integer (nullable = true)\n",
      " |-- gluc: integer (nullable = true)\n",
      " |-- smoke: integer (nullable = true)\n",
      " |-- alco: integer (nullable = true)\n",
      " |-- active: integer (nullable = true)\n",
      " |-- cardio: integer (nullable = true)\n",
      "\n"
     ]
    }
   ],
   "source": [
    "# verify the schema\n",
    "merge_df.printSchema()"
   ]
  },
  {
   "cell_type": "code",
   "execution_count": 136,
   "id": "53c5051f",
   "metadata": {},
   "outputs": [
    {
     "name": "stdout",
     "output_type": "stream",
     "text": [
      "+-----+---+-----+------+------+------+-----+-----+-----------+----+-----+----+------+------+\n",
      "|index| id|  age|gender|height|weight|ap_hi|ap_lo|cholesterol|gluc|smoke|alco|active|cardio|\n",
      "+-----+---+-----+------+------+------+-----+-----+-----------+----+-----+----+------+------+\n",
      "|    0|  0|18393|     2|   168|  62.0|  110|   80|          1|   1|    0|   0|     1|     0|\n",
      "|    1|  1|20228|     1|   156|  85.0|  140|   90|          3|   1|    0|   0|     1|     1|\n",
      "|    2|  2|18857|     1|   165|  64.0|  130|   70|          3|   1|    0|   0|     0|     1|\n",
      "|    3|  3|17623|     2|   169|  82.0|  150|  100|          1|   1|    0|   0|     1|     1|\n",
      "|    4|  4|48Yrs|     1|   156|  56.0|  100|   60|          1|   1|    0|   0|     0|     0|\n",
      "|    5|  8|21914|     1|   151|  67.0|  120|   80|          2|   2|    0|   0|     0|     0|\n",
      "|    6|  9|22113|     1|   157|  93.0|  130|   80|          3|   1|    0|   0|     1|     0|\n",
      "|    7| 12|22584|     2|   178|  95.0|  130|   90|          3|   3|    0|   0|     1|     1|\n",
      "|    8| 13|17668|     1|   158|  71.0|  110|   70|          1|   1|    0|   0|     1|     0|\n",
      "|    9| 14|19834|     1|   164|  68.0|  110|   60|          1|   1|    0|   0|     0|     0|\n",
      "+-----+---+-----+------+------+------+-----+-----+-----------+----+-----+----+------+------+\n",
      "only showing top 10 rows\n",
      "\n"
     ]
    }
   ],
   "source": [
    "# verify the first 10 rows in table\n",
    "merge_df.orderBy(merge_df['Index'].asc()).show(10)"
   ]
  },
  {
   "cell_type": "code",
   "execution_count": 137,
   "id": "20983ef7",
   "metadata": {},
   "outputs": [
    {
     "name": "stdout",
     "output_type": "stream",
     "text": [
      "+-----+-----+-----+------+------+------+-----+-----+-----------+----+-----+----+------+------+\n",
      "|index|   id|  age|gender|height|weight|ap_hi|ap_lo|cholesterol|gluc|smoke|alco|active|cardio|\n",
      "+-----+-----+-----+------+------+------+-----+-----+-----------+----+-----+----+------+------+\n",
      "|69999|99999|20540|     1|   170|  72.0|  120|   80|          2|   1|    0|   0|     1|     0|\n",
      "|69998|99998|22431|     1|   163|  72.0|  135|   80|          1|   2|    0|   0|     0|     1|\n",
      "|69997|99996|19066|     2|   183| 105.0|  180|   90|          3|   1|    0|   1|     0|     1|\n",
      "|69996|99995|22601|     1|   158| 126.0|  140|   90|          2|   2|    0|   0|     1|     1|\n",
      "|69995|99993|19240|     2|   168|  76.0|  120|   80|          1|   1|    1|   0|     1|     0|\n",
      "|69994|99992|21074|     1|   165|  80.0|  150|   80|          1|   1|    0|   0|     1|     1|\n",
      "|69993|99991|19699|     1|   172|  70.0|  130|   90|          1|   1|    0|   0|     1|     1|\n",
      "|69992|99990|18792|     1|   161|  56.0|  170|   90|          1|   1|    0|   0|     1|     1|\n",
      "|69991|99988|20609|     1|   159|  72.0|  130|   90|          2|   2|    0|   0|     1|     0|\n",
      "|69990|99986|15094|     1|   168|  72.0|  110|   70|          1|   1|    0|   0|     1|     1|\n",
      "+-----+-----+-----+------+------+------+-----+-----+-----------+----+-----+----+------+------+\n",
      "only showing top 10 rows\n",
      "\n"
     ]
    }
   ],
   "source": [
    "# verify the last 10 rows in table\n",
    "merge_df.orderBy(merge_df['Index'].desc()).show(10)"
   ]
  },
  {
   "cell_type": "code",
   "execution_count": 138,
   "id": "5a8124a1",
   "metadata": {},
   "outputs": [
    {
     "name": "stdout",
     "output_type": "stream",
     "text": [
      "+-------+------------------+------------------+\n",
      "|summary|             index|                id|\n",
      "+-------+------------------+------------------+\n",
      "|  count|             70000|             70000|\n",
      "|   mean|           34999.5|        49972.4199|\n",
      "| stddev|20207.403758688713|28851.302323172746|\n",
      "|    min|                 0|                 0|\n",
      "|    max|             69999|             99999|\n",
      "+-------+------------------+------------------+\n",
      "\n",
      "+-------+------------------+-------------------+------------------+------------------+\n",
      "|summary|               age|             gender|            height|            weight|\n",
      "+-------+------------------+-------------------+------------------+------------------+\n",
      "|  count|             70000|              70000|             70000|             70000|\n",
      "|   mean|19469.010557595324| 1.3495714285714286|164.35922857142856|          74.20569|\n",
      "| stddev|2467.1940676214967|0.47683801558286276| 8.210126364538075|14.395756678511344|\n",
      "|    min|             10798|                  1|                55|              10.0|\n",
      "|    max|             48Yrs|                  2|               250|             200.0|\n",
      "+-------+------------------+-------------------+------------------+------------------+\n",
      "\n",
      "+-------+------------------+-----------------+------------------+------------------+\n",
      "|summary|             ap_hi|            ap_lo|       cholesterol|              gluc|\n",
      "+-------+------------------+-----------------+------------------+------------------+\n",
      "|  count|             70000|            70000|             69997|             70000|\n",
      "|   mean| 128.8172857142857|96.63041428571428|1.3668871523065274| 1.226457142857143|\n",
      "| stddev|154.01141945609197|188.4725302963891|0.6802606859560671|0.5722702766138457|\n",
      "|    min|              -150|              -70|                 1|                 1|\n",
      "|    max|             16020|            11000|                 3|                 3|\n",
      "+-------+------------------+-----------------+------------------+------------------+\n",
      "\n",
      "+-------+-------------------+--------------------+------------------+------------------+\n",
      "|summary|              smoke|                alco|            active|            cardio|\n",
      "+-------+-------------------+--------------------+------------------+------------------+\n",
      "|  count|              70000|               70000|             70000|             70000|\n",
      "|   mean|0.08812857142857143|0.053771428571428574|0.8037285714285715|            0.4997|\n",
      "| stddev| 0.2834838167699366| 0.22556770360410552|0.3971790635049264|0.5000034814661851|\n",
      "|    min|                  0|                   0|                 0|                 0|\n",
      "|    max|                  1|                   1|                 1|                 1|\n",
      "+-------+-------------------+--------------------+------------------+------------------+\n",
      "\n"
     ]
    }
   ],
   "source": [
    "# verify the descriptive statistics \n",
    "merge_df.select('index','id').describe().show()\n",
    "\n",
    "merge_df.select('age','gender','height','weight').describe().show()\n",
    "\n",
    "merge_df.select('ap_hi','ap_lo','cholesterol','gluc').describe().show()\n",
    "\n",
    "merge_df.select('smoke','alco','active','cardio').describe().show()"
   ]
  },
  {
   "cell_type": "code",
   "execution_count": 139,
   "id": "5f11197c",
   "metadata": {},
   "outputs": [],
   "source": [
    "# reprocessing the data-processing on merge dataframe\n",
    "## drop the \"Index\" and \"Id\" columns\n",
    "merge_df= merge_df.drop(\"Index\", \"Id\")\n",
    "\n",
    "## drop the missing value rows\n",
    "merge_df= merge_df.na.drop()\n",
    "\n",
    "## handle data errors and extreme outlier\n",
    "merge_df = merge_df.filter(\n",
    "    ~(\n",
    "        (merge_df.ap_hi < 40) |\n",
    "        (merge_df.ap_hi > 370) |\n",
    "        (merge_df.ap_lo < 40) |\n",
    "        (merge_df.ap_lo > 370) |        \n",
    "        (merge_df.height < 145) |\n",
    "        (merge_df.weight < 45)\n",
    "    )\n",
    ")\n",
    "\n",
    "## handle inconsistence data format\n",
    "### filter out the year format data\n",
    "df_filtered = merge_df.filter(merge_df[\"age\"].like(\"%Yrs%\"))\n",
    "\n",
    "### correction of age format\n",
    "df_Correction = df_filtered.withColumn(\"age\", regexp_replace(merge_df[\"age\"], \"Yrs\", \"\") * 365)\n",
    "\n",
    "### adding back to orginal dataframe and drop the inconsistant format\n",
    "merge_df = merge_df.filter(~(merge_df[\"age\"].like(\"%Yrs%\")))\n",
    "merge_df = merge_df.union(df_Correction)\n",
    "\n",
    "### drop the duplicates row\n",
    "merge_df = merge_df.dropDuplicates()\n",
    "\n",
    "### adding new feature \"BMI\"\n",
    "merge_df = merge_df.withColumn(\"BMI\", round(merge_df[\"weight\"] / ((merge_df[\"height\"]/100) ** 2),2))\n",
    "\n",
    "### Adding new feature Pulse_Rate\n",
    "merge_df = merge_df.withColumn(\"Pulse_Rate\", merge_df[\"ap_hi\"] - merge_df[\"ap_lo\"])"
   ]
  },
  {
   "cell_type": "code",
   "execution_count": 140,
   "id": "b276ecd5",
   "metadata": {},
   "outputs": [
    {
     "name": "stderr",
     "output_type": "stream",
     "text": [
      "                                                                                \r"
     ]
    },
    {
     "name": "stdout",
     "output_type": "stream",
     "text": [
      "+-------+------------------+------------------+------------------+------------------+\n",
      "|summary|               age|            gender|            height|            weight|\n",
      "+-------+------------------+------------------+------------------+------------------+\n",
      "|  count|             68126|             68126|             68126|             68126|\n",
      "|   mean|19463.850776502364|1.3509673252502716|164.57329066729295| 74.28221604086548|\n",
      "| stddev| 2465.976972345727| 0.477276236107067| 7.704646575797962|14.143546525455188|\n",
      "|    min|             10798|                 1|               145|              45.0|\n",
      "|    max|             23713|                 2|               250|             200.0|\n",
      "+-------+------------------+------------------+------------------+------------------+\n",
      "\n",
      "+-------+------------------+-----------------+------------------+------------------+\n",
      "|summary|             ap_hi|            ap_lo|       cholesterol|              gluc|\n",
      "+-------+------------------+-----------------+------------------+------------------+\n",
      "|  count|             68126|            68126|             68126|             68126|\n",
      "|   mean|126.66249302762529|81.41396823532865| 1.365176290990224|1.2264333734550685|\n",
      "| stddev| 16.73257009698175|  9.6633849885015|0.6794400741975859|0.5725595361834471|\n",
      "|    min|                60|               40|                 1|                 1|\n",
      "|    max|               240|              190|                 3|                 3|\n",
      "+-------+------------------+-----------------+------------------+------------------+\n",
      "\n",
      "+-------+------------------+-------------------+------------------+------------------+\n",
      "|summary|             smoke|               alco|            active|            cardio|\n",
      "+-------+------------------+-------------------+------------------+------------------+\n",
      "|  count|             68126|              68126|             68126|             68126|\n",
      "|   mean| 0.088541819569621|0.05391480492029475|0.8032322461321668| 0.495596394915304|\n",
      "| stddev|0.2840833511064471|0.22585116221079535|0.3975582031711206|0.4999842774551799|\n",
      "|    min|                 0|                  0|                 0|                 0|\n",
      "|    max|                 1|                  1|                 1|                 1|\n",
      "+-------+------------------+-------------------+------------------+------------------+\n",
      "\n"
     ]
    }
   ],
   "source": [
    "# verify the descriptive statistics \n",
    "merge_df.select('age','gender','height','weight').describe().show()\n",
    "\n",
    "merge_df.select('ap_hi','ap_lo','cholesterol','gluc').describe().show()\n",
    "\n",
    "merge_df.select('smoke','alco','active','cardio').describe().show()"
   ]
  },
  {
   "cell_type": "code",
   "execution_count": 141,
   "id": "ebc8dfa7",
   "metadata": {},
   "outputs": [
    {
     "name": "stdout",
     "output_type": "stream",
     "text": [
      "+---+------+------+------+-----+-----+-----------+----+-----+----+------+------+---+----------+\n",
      "|age|gender|height|weight|ap_hi|ap_lo|cholesterol|gluc|smoke|alco|active|cardio|BMI|Pulse_Rate|\n",
      "+---+------+------+------+-----+-----+-----------+----+-----+----+------+------+---+----------+\n",
      "+---+------+------+------+-----+-----+-----------+----+-----+----+------+------+---+----------+\n",
      "\n"
     ]
    }
   ],
   "source": [
    "# Verify the inconsistent data format on \"age\" is handled\n",
    "merge_df.filter(merge_df[\"age\"].like(\"%Yrs%\")).show()"
   ]
  },
  {
   "cell_type": "code",
   "execution_count": 142,
   "id": "daa85c18",
   "metadata": {},
   "outputs": [
    {
     "name": "stdout",
     "output_type": "stream",
     "text": [
      "+---+------+------+------+-----+-----+-----------+----+-----+----+------+------+---+----------+\n",
      "|age|gender|height|weight|ap_hi|ap_lo|cholesterol|gluc|smoke|alco|active|cardio|BMI|Pulse_Rate|\n",
      "+---+------+------+------+-----+-----+-----------+----+-----+----+------+------+---+----------+\n",
      "|  0|     0|     0|     0|    0|    0|          0|   0|    0|   0|     0|     0|  0|         0|\n",
      "+---+------+------+------+-----+-----+-----------+----+-----+----+------+------+---+----------+\n",
      "\n"
     ]
    }
   ],
   "source": [
    "# Verify the missing values are handled\n",
    "missing_counts = merge_df.select([count(when(isnan(c), c)).alias(c) for c in merge_df.columns])\n",
    "missing_counts.show()"
   ]
  },
  {
   "cell_type": "code",
   "execution_count": 143,
   "id": "8b301efb",
   "metadata": {},
   "outputs": [
    {
     "name": "stdout",
     "output_type": "stream",
     "text": [
      "root\n",
      " |-- age: string (nullable = true)\n",
      " |-- gender: integer (nullable = true)\n",
      " |-- height: integer (nullable = true)\n",
      " |-- weight: double (nullable = true)\n",
      " |-- ap_hi: integer (nullable = true)\n",
      " |-- ap_lo: integer (nullable = true)\n",
      " |-- cholesterol: integer (nullable = true)\n",
      " |-- gluc: integer (nullable = true)\n",
      " |-- smoke: integer (nullable = true)\n",
      " |-- alco: integer (nullable = true)\n",
      " |-- active: integer (nullable = true)\n",
      " |-- cardio: integer (nullable = true)\n",
      " |-- BMI: double (nullable = true)\n",
      " |-- Pulse_Rate: integer (nullable = true)\n",
      "\n"
     ]
    }
   ],
   "source": [
    "# verify the schema\n",
    "merge_df.printSchema()"
   ]
  },
  {
   "cell_type": "code",
   "execution_count": 144,
   "id": "b3c374e1",
   "metadata": {},
   "outputs": [
    {
     "name": "stdout",
     "output_type": "stream",
     "text": [
      "root\n",
      " |-- age: integer (nullable = true)\n",
      " |-- gender: integer (nullable = true)\n",
      " |-- height: integer (nullable = true)\n",
      " |-- weight: double (nullable = true)\n",
      " |-- ap_hi: integer (nullable = true)\n",
      " |-- ap_lo: integer (nullable = true)\n",
      " |-- cholesterol: integer (nullable = true)\n",
      " |-- gluc: integer (nullable = true)\n",
      " |-- smoke: integer (nullable = true)\n",
      " |-- alco: integer (nullable = true)\n",
      " |-- active: integer (nullable = true)\n",
      " |-- cardio: integer (nullable = true)\n",
      " |-- BMI: double (nullable = true)\n",
      " |-- Pulse_Rate: integer (nullable = true)\n",
      "\n"
     ]
    }
   ],
   "source": [
    "# Data type correction\n",
    "merge_df = merge_df.withColumn(\"age\", merge_df[\"age\"].cast('int'))\n",
    "\n",
    "merge_df.printSchema()"
   ]
  },
  {
   "cell_type": "code",
   "execution_count": 145,
   "id": "373b5aeb",
   "metadata": {},
   "outputs": [
    {
     "name": "stdout",
     "output_type": "stream",
     "text": [
      "+----+------+------+------+-----+-----+-----------+----+-----+----+------+------+-----+----------+\n",
      "| age|gender|height|weight|ap_hi|ap_lo|cholesterol|gluc|smoke|alco|active|cardio|  BMI|Pulse_Rate|\n",
      "+----+------+------+------+-----+-----+-----------+----+-----+----+------+------+-----+----------+\n",
      "|57.0|     1|   162|  85.0|  120|   70|          3|   3|    0|   0|     1|     1|32.39|        50|\n",
      "|60.0|     1|   159| 101.0|  170|   90|          1|   1|    0|   0|     1|     1|39.95|        80|\n",
      "|65.0|     1|   165|  60.0|  120|   80|          1|   1|    0|   0|     0|     1|22.04|        40|\n",
      "|65.0|     2|   165|  67.0|  120|   80|          1|   1|    0|   0|     1|     0|24.61|        40|\n",
      "|48.0|     1|   156|  74.0|  150|   90|          1|   1|    0|   0|     0|     1|30.41|        60|\n",
      "|57.0|     1|   163|  63.0|  120|   80|          3|   3|    0|   0|     1|     0|23.71|        40|\n",
      "|44.0|     1|   169|  73.0|  100|   70|          1|   1|    1|   0|     1|     0|25.56|        30|\n",
      "|54.0|     1|   158|  50.0|  120|   80|          1|   1|    0|   0|     1|     0|20.03|        40|\n",
      "|44.0|     1|   166|  68.0|  100|   60|          1|   1|    0|   0|     1|     1|24.68|        40|\n",
      "|47.0|     2|   176|  71.0|  100|   70|          1|   2|    0|   0|     1|     0|22.92|        30|\n",
      "|46.0|     1|   160|  55.0|  110|   80|          1|   1|    0|   0|     1|     1|21.48|        30|\n",
      "|54.0|     1|   165|  86.0|  140|   90|          1|   1|    0|   0|     1|     1|31.59|        50|\n",
      "|55.0|     1|   164|  64.0|  110|   70|          1|   1|    0|   0|     1|     0| 23.8|        40|\n",
      "|54.0|     2|   170|  84.0|  150|  100|          1|   1|    1|   1|     1|     1|29.07|        50|\n",
      "|46.0|     1|   157|  68.0|  180|  100|          2|   1|    0|   0|     1|     0|27.59|        80|\n",
      "|57.0|     1|   169|  70.0|  120|   80|          1|   1|    0|   0|     1|     0|24.51|        40|\n",
      "|52.0|     1|   154| 120.0|  120|   89|          3|   3|    0|   0|     1|     0| 50.6|        31|\n",
      "|50.0|     2|   170|  72.0|  140|   90|          2|   1|    0|   0|     1|     1|24.91|        50|\n",
      "|58.0|     2|   166|  75.0|  120|   80|          1|   3|    0|   0|     1|     0|27.22|        40|\n",
      "|62.0|     1|   165|  65.0|  120|   90|          1|   1|    0|   0|     1|     0|23.88|        30|\n",
      "+----+------+------+------+-----+-----+-----------+----+-----+----+------+------+-----+----------+\n",
      "only showing top 20 rows\n",
      "\n"
     ]
    }
   ],
   "source": [
    "# Convert age in days to years\n",
    "merge_df = merge_df.withColumn(\"age\", round(merge_df[\"age\"] / 365, 0))\n",
    "\n",
    "merge_df.show()"
   ]
  },
  {
   "cell_type": "markdown",
   "id": "2bdad720",
   "metadata": {},
   "source": [
    "# 4 - DT"
   ]
  },
  {
   "cell_type": "code",
   "execution_count": 146,
   "id": "b1345941",
   "metadata": {},
   "outputs": [
    {
     "name": "stdout",
     "output_type": "stream",
     "text": [
      "\n",
      "Correlation Results\n",
      "------------------------------------\n",
      "Correlation between \"cardio\" and \"ap_hi\": 0.4243\n",
      "Correlation between \"cardio\" and \"ap_lo\": 0.3340\n",
      "Correlation between \"cardio\" and \"Pulse_Rate\": 0.3182\n",
      "Correlation between \"cardio\" and \"age\": 0.2386\n",
      "Correlation between \"cardio\" and \"cholesterol\": 0.2212\n",
      "Correlation between \"cardio\" and \"BMI\": 0.1900\n",
      "Correlation between \"cardio\" and \"weight\": 0.1787\n",
      "Correlation between \"cardio\" and \"gluc\": 0.0893\n",
      "Correlation between \"cardio\" and \"gender\": 0.0066\n",
      "Correlation between \"cardio\" and \"alco\": -0.0081\n",
      "Correlation between \"cardio\" and \"height\": -0.0133\n",
      "Correlation between \"cardio\" and \"smoke\": -0.0166\n",
      "Correlation between \"cardio\" and \"active\": -0.0376\n"
     ]
    }
   ],
   "source": [
    "# prepare the columns\n",
    "tmpDf = merge_df.drop(\"cardio\")\n",
    "columns = tmpDf.columns\n",
    "target = 'cardio'\n",
    "\n",
    "# apply correlation method\n",
    "correlations = {}\n",
    "for col in columns:\n",
    "    corr_value = merge_df.stat.corr(col, target)\n",
    "    correlations[col] = corr_value\n",
    "\n",
    "# print the result in descending order\n",
    "print(\"\\nCorrelation Results\")\n",
    "print(\"------------------------------------\")\n",
    "sorted_correlations = sorted(correlations.items(), key=lambda x: x[1], reverse=True)\n",
    "for col, corr_value in sorted_correlations:\n",
    "    print(f\"Correlation between \\\"{target}\\\" and \\\"{col}\\\": {corr_value:.4f}\")"
   ]
  },
  {
   "cell_type": "code",
   "execution_count": 147,
   "id": "f8715362",
   "metadata": {},
   "outputs": [
    {
     "data": {
      "image/png": "[encoded data removed]",
      "text/plain": [
       "<Figure size 720x72 with 2 Axes>"
      ]
     },
     "metadata": {
      "needs_background": "light"
     },
     "output_type": "display_data"
    }
   ],
   "source": [
    "# preparing data to plot the heatmap diagram\n",
    "attributes = list(correlations.keys())\n",
    "correlation_values = list(correlations.values())\n",
    "corr_matrix = [correlation_values]\n",
    "\n",
    "# Generate the heatmap plot\n",
    "plt.figure(figsize=(10, 1))  # Adjust size as per your preference\n",
    "sns.heatmap(corr_matrix, annot=True, yticklabels=['cardio'], xticklabels=attributes, cmap=\"coolwarm\", cbar=True, linewidths=0.5)\n",
    "plt.title(\"Correlation with 'cardio'\")\n",
    "plt.show()"
   ]
  },
  {
   "cell_type": "code",
   "execution_count": 148,
   "id": "2a7ca53e",
   "metadata": {},
   "outputs": [
    {
     "name": "stderr",
     "output_type": "stream",
     "text": [
      "                                                                                \r"
     ]
    },
    {
     "name": "stdout",
     "output_type": "stream",
     "text": [
      "\n",
      "Importance Features\n",
      "------------------------------------\n",
      "ap_hi: 0.4455\n",
      "ap_lo: 0.2154\n",
      "Pulse_Rate: 0.1695\n",
      "cholesterol: 0.0774\n",
      "age: 0.0710\n",
      "BMI: 0.0111\n",
      "weight: 0.0061\n",
      "gluc: 0.0024\n",
      "active: 0.0007\n",
      "height: 0.0005\n",
      "smoke: 0.0003\n",
      "alco: 0.0002\n",
      "gender: 0.0001\n"
     ]
    }
   ],
   "source": [
    "# separate the features and target\n",
    "tmpDf = merge_df.drop(\"cardio\")\n",
    "feature_cols = tmpDf.columns\n",
    "\n",
    "# Assemble features into a single vector column\n",
    "assembler = VectorAssembler(inputCols=feature_cols, outputCol=\"features\")\n",
    "df_assembled = assembler.transform(merge_df)\n",
    "\n",
    "# Create and train a RandomForest model\n",
    "rfCls = RandomForestClassifier(labelCol=\"cardio\", featuresCol=\"features\", numTrees=100)\n",
    "model = rfCls.fit(df_assembled)\n",
    "\n",
    "# Extract feature importances and sort them in descending order\n",
    "importances = model.featureImportances.toArray()\n",
    "sorted_indices = importances.argsort()[::-1] \n",
    "\n",
    "# Print the result\n",
    "print(\"\\nImportance Features\")\n",
    "print(\"------------------------------------\")\n",
    "for index in sorted_indices:\n",
    "    print(f\"{feature_cols[index]}: {importances[index]:.4f}\")\n"
   ]
  },
  {
   "cell_type": "code",
   "execution_count": 149,
   "id": "1e0fc97f",
   "metadata": {},
   "outputs": [
    {
     "data": {
      "text/plain": [
       "['age',\n",
       " 'weight',\n",
       " 'ap_hi',\n",
       " 'ap_lo',\n",
       " 'cholesterol',\n",
       " 'gluc',\n",
       " 'cardio',\n",
       " 'BMI',\n",
       " 'Pulse_Rate']"
      ]
     },
     "execution_count": 149,
     "metadata": {},
     "output_type": "execute_result"
    }
   ],
   "source": [
    "# Drop the columns which are less correlation/importance\n",
    "merge_df = merge_df.drop(\"active\", \"height\", \"smoke\", \"alco\", \"gender\")\n",
    "\n",
    "merge_df.columns"
   ]
  },
  {
   "cell_type": "code",
   "execution_count": 150,
   "id": "b92db3fe",
   "metadata": {},
   "outputs": [
    {
     "name": "stdout",
     "output_type": "stream",
     "text": [
      "\n",
      "Skewness Values\n",
      "------------------------------------\n",
      "Skewness value for age: -0.3042\n",
      "Skewness value for weight: 1.0454\n",
      "Skewness value for ap_hi: 0.9155\n",
      "Skewness value for ap_lo: 0.6647\n",
      "Skewness value for cholesterol: 1.5947\n",
      "Skewness value for gluc: 2.3981\n",
      "Skewness value for BMI: 1.2111\n",
      "Skewness value for Pulse_Rate: 0.5382\n"
     ]
    }
   ],
   "source": [
    "tmpDf = merge_df.drop(\"cardio\")\n",
    "feature_cols = tmpDf.columns\n",
    "\n",
    "# Compute and categorize skewness for each column\n",
    "print(\"\\nSkewness Values\")\n",
    "print(\"------------------------------------\")\n",
    "for column in feature_cols:\n",
    "    skew_value = merge_df.select(skewness(column)).collect()[0][0]\n",
    "    print(f\"Skewness value for {column}: {skew_value:.4f}\")\n"
   ]
  },
  {
   "cell_type": "code",
   "execution_count": 151,
   "id": "cf5b1a96",
   "metadata": {},
   "outputs": [
    {
     "data": {
      "image/png": "[encoded data removed]",
      "text/plain": [
       "<Figure size 1080x1080 with 8 Axes>"
      ]
     },
     "metadata": {
      "needs_background": "light"
     },
     "output_type": "display_data"
    }
   ],
   "source": [
    "# Covert to Pandas\n",
    "tmpDf_pd = tmpDf.toPandas()\n",
    "\n",
    "# Setting up the subplot grid\n",
    "num_features = len(feature_cols)\n",
    "num_rows = (num_features + 2) // 3  # Ceiling division to ensure enough rows\n",
    "\n",
    "plt.figure(figsize=(15, 5 * num_rows))\n",
    "for idx, column in enumerate(feature_cols):\n",
    "    # Setting the position for the subplot\n",
    "    plt.subplot(num_rows, 3, idx+1)\n",
    "    \n",
    "    # Plotting distribution\n",
    "    sns.histplot(tmpDf_pd[column], kde=True)\n",
    "    \n",
    "    # Computing and displaying skewness\n",
    "    skew_value = merge_df.select(skewness(column)).collect()[0][0]\n",
    "    plt.title(f\"Distribution of {column} - Skewness: {skew_value:.4f}\")\n",
    "\n",
    "plt.tight_layout()  # Adjusting layout for better visualization\n",
    "plt.show()"
   ]
  },
  {
   "cell_type": "code",
   "execution_count": 152,
   "id": "d5c7660b",
   "metadata": {},
   "outputs": [
    {
     "name": "stdout",
     "output_type": "stream",
     "text": [
      "Skewness value for gluc: -2.0554\n"
     ]
    }
   ],
   "source": [
    "# Applying Inverse Transformation to 'gluc' column\n",
    "merge_df = merge_df.withColumn(\"gluc\", 1/merge_df[\"gluc\"])\n",
    "\n",
    "# Verify the transformed data\n",
    "skew_value = merge_df.select(skewness(\"gluc\")).collect()[0][0]\n",
    "print(f\"Skewness value for gluc: {skew_value:.4f}\")"
   ]
  },
  {
   "cell_type": "code",
   "execution_count": 153,
   "id": "243af82e",
   "metadata": {},
   "outputs": [
    {
     "data": {
      "image/png": "[encoded data removed]",
      "text/plain": [
       "<Figure size 576x432 with 1 Axes>"
      ]
     },
     "metadata": {
      "needs_background": "light"
     },
     "output_type": "display_data"
    }
   ],
   "source": [
    "## Plotting the distribution for \"BMI\" feature\n",
    "plt.figure(figsize=(8, 6))\n",
    "sns.histplot(tmpDf_pd['gluc'], kde=True)\n",
    "skew_value = merge_df.select(skewness('gluc')).collect()[0][0]\n",
    "plt.title(f\"Distribution of {'gluc'} - Skewness: {skew_value:.4f}\")\n",
    "plt.show()"
   ]
  },
  {
   "cell_type": "markdown",
   "id": "c327603b",
   "metadata": {},
   "source": [
    "# 5 - DMM"
   ]
  },
  {
   "cell_type": "markdown",
   "id": "3e573d01",
   "metadata": {},
   "source": [
    "The detial information about DMM is addressed in Itertion-4 report Secion - 5"
   ]
  },
  {
   "cell_type": "markdown",
   "id": "c6662145",
   "metadata": {},
   "source": [
    "# 6 - DMA"
   ]
  },
  {
   "cell_type": "code",
   "execution_count": 154,
   "id": "5b7e2277",
   "metadata": {},
   "outputs": [],
   "source": [
    "# Segarate the Features and Target\n",
    "feature_cols = merge_df.drop(\"cardio\").columns\n",
    "\n",
    "# Assemble features into a single vector column\n",
    "assembler = VectorAssembler(inputCols=feature_cols, outputCol=\"features\")"
   ]
  },
  {
   "cell_type": "markdown",
   "id": "56aab053",
   "metadata": {},
   "source": [
    "### Decision Tree Classifier"
   ]
  },
  {
   "cell_type": "code",
   "execution_count": 155,
   "id": "038a9b49",
   "metadata": {},
   "outputs": [],
   "source": [
    "# Build Decision Tree Classifier\n",
    "dtCls = DecisionTreeClassifier(labelCol='cardio',featuresCol='features')\n",
    "\n",
    "pipeline = Pipeline(stages=[assembler, dtCls])\n",
    "model = pipeline.fit(merge_df)\n",
    "prediction = model.transform(merge_df)"
   ]
  },
  {
   "cell_type": "code",
   "execution_count": 156,
   "id": "37b2943b",
   "metadata": {},
   "outputs": [
    {
     "name": "stderr",
     "output_type": "stream",
     "text": [
      "\r",
      "[Stage 5708:>                                                       (0 + 1) / 1]\r",
      "\r",
      "                                                                                \r"
     ]
    },
    {
     "name": "stdout",
     "output_type": "stream",
     "text": [
      "\n",
      "Decision Tree Classifier - Accuracy = 0.73\n",
      "\n",
      "Decision Tree Classifier - Area Under ROC (AUC) = 0.59\n",
      "\n",
      "Decision Tree Classifier - Area Under PR = 0.67\n"
     ]
    }
   ],
   "source": [
    "# Evaluate model Accuracy\n",
    "mulEvaluator = MulticlassClassificationEvaluator(labelCol=\"cardio\", predictionCol=\"prediction\", metricName=\"accuracy\")\n",
    "accuracy = mulEvaluator.evaluate(prediction)\n",
    "print(f\"\\nDecision Tree Classifier - Accuracy = {accuracy:.2f}\")\n",
    "\n",
    "# Evaluate model using areaUnderROC\n",
    "binaryEvaluator = BinaryClassificationEvaluator(labelCol=\"cardio\", rawPredictionCol=\"rawPrediction\", metricName=\"areaUnderROC\")\n",
    "roc_auc = binaryEvaluator.evaluate(prediction)\n",
    "print(f\"\\nDecision Tree Classifier - Area Under ROC (AUC) = {roc_auc:.2f}\")\n",
    "\n",
    "# Evaluate model using areaUnderPR\n",
    "binaryEvaluator.setMetricName(\"areaUnderPR\")\n",
    "pr_auc = binaryEvaluator.evaluate(prediction)\n",
    "print(f\"\\nDecision Tree Classifier - Area Under PR = {pr_auc:.2f}\")"
   ]
  },
  {
   "cell_type": "code",
   "execution_count": 157,
   "id": "7a87f1a6",
   "metadata": {},
   "outputs": [
    {
     "name": "stdout",
     "output_type": "stream",
     "text": [
      "\n",
      "Decision Tree Classifier - Classification Report: \n",
      "-----------------------------------------------------\n",
      "              precision    recall  f1-score   support\n",
      "           0  0.71         0.79    0.73       34363\n",
      "           1  0.76         0.68    0.73       33763\n",
      "    accuracy                       0.73       68126\n",
      "   macro avg  0.73         0.73    0.73       68126\n",
      "weighted avg  0.73         0.73    0.73       68126\n",
      "-----------------------------------------------------\n"
     ]
    }
   ],
   "source": [
    "# Generate Classification report \n",
    "print(\"\\nDecision Tree Classifier - Classification Report: \")\n",
    "print(\"-----------------------------------------------------\")\n",
    "classification_report(prediction)\n",
    "print(\"-----------------------------------------------------\")"
   ]
  },
  {
   "cell_type": "code",
   "execution_count": 158,
   "id": "35bf351a",
   "metadata": {},
   "outputs": [
    {
     "name": "stdout",
     "output_type": "stream",
     "text": [
      "\n",
      "Decision Tree Classifier - Confusion Matrix: \n",
      "-----------------------------------------------------\n",
      "TN: 26980\tFP: 7383\n",
      "FN: 10938\tTP: 22825\n",
      "-----------------------------------------------------\n"
     ]
    }
   ],
   "source": [
    "# Generate Confusion Matrix\n",
    "print(\"\\nDecision Tree Classifier - Confusion Matrix: \")\n",
    "print(\"-----------------------------------------------------\")\n",
    "confusion_matrix(prediction)\n",
    "print(\"-----------------------------------------------------\")"
   ]
  },
  {
   "cell_type": "code",
   "execution_count": 159,
   "id": "fc54c889",
   "metadata": {},
   "outputs": [
    {
     "name": "stdout",
     "output_type": "stream",
     "text": [
      "\n",
      "Decision Tree Classifier - Predictor Feature Importance: \n",
      "-----------------------------------------------------\n",
      "Feature: ap_hi, Importance: 0.8015\n",
      "Feature: age, Importance: 0.1111\n",
      "Feature: cholesterol, Importance: 0.0754\n",
      "Feature: gluc, Importance: 0.0050\n",
      "Feature: Pulse_Rate, Importance: 0.0042\n",
      "Feature: BMI, Importance: 0.0029\n",
      "Feature: weight, Importance: 0.0000\n",
      "Feature: ap_lo, Importance: 0.0000\n",
      "-----------------------------------------------------\n"
     ]
    }
   ],
   "source": [
    "# Generate Predictor Feature Importance\n",
    "print(\"\\nDecision Tree Classifier - Predictor Feature Importance: \")\n",
    "print(\"-----------------------------------------------------\")\n",
    "feature_importance(model.stages[-1], feature_cols)\n",
    "print(\"-----------------------------------------------------\")"
   ]
  },
  {
   "cell_type": "markdown",
   "id": "18865916",
   "metadata": {},
   "source": [
    "### Random Forest Classifier"
   ]
  },
  {
   "cell_type": "code",
   "execution_count": 160,
   "id": "af8df92e",
   "metadata": {
    "scrolled": false
   },
   "outputs": [],
   "source": [
    "# Build Random Forest Classifier\n",
    "rfCls = RandomForestClassifier(labelCol='cardio',featuresCol='features')\n",
    "\n",
    "pipeline = Pipeline(stages=[assembler, rfCls])\n",
    "model = pipeline.fit(merge_df)\n",
    "prediction = model.transform(merge_df)"
   ]
  },
  {
   "cell_type": "code",
   "execution_count": 161,
   "id": "136b48bf",
   "metadata": {},
   "outputs": [
    {
     "name": "stdout",
     "output_type": "stream",
     "text": [
      "\n",
      "Random Forest Classifier - Accuracy = 0.73\n",
      "\n",
      "Random Forest Classifier - Area Under ROC (AUC) = 0.79\n",
      "\n",
      "Random Forest Classifier - Area Under PR = 0.78\n"
     ]
    }
   ],
   "source": [
    "# Evaluate model Accuracy\n",
    "mulEvaluator = MulticlassClassificationEvaluator(labelCol=\"cardio\", predictionCol=\"prediction\", metricName=\"accuracy\")\n",
    "accuracy = mulEvaluator.evaluate(prediction)\n",
    "print(f\"\\nRandom Forest Classifier - Accuracy = {accuracy:.2f}\")\n",
    "\n",
    "# Evaluate model using areaUnderROC\n",
    "binaryEvaluator = BinaryClassificationEvaluator(labelCol=\"cardio\", rawPredictionCol=\"rawPrediction\", metricName=\"areaUnderROC\")\n",
    "roc_auc = binaryEvaluator.evaluate(prediction)\n",
    "print(f\"\\nRandom Forest Classifier - Area Under ROC (AUC) = {roc_auc:.2f}\")\n",
    "\n",
    "# Evaluate model using areaUnderPR\n",
    "binaryEvaluator.setMetricName(\"areaUnderPR\")\n",
    "pr_auc = binaryEvaluator.evaluate(prediction)\n",
    "print(f\"\\nRandom Forest Classifier - Area Under PR = {pr_auc:.2f}\")"
   ]
  },
  {
   "cell_type": "code",
   "execution_count": 162,
   "id": "b7ddd535",
   "metadata": {},
   "outputs": [
    {
     "name": "stdout",
     "output_type": "stream",
     "text": [
      "\n",
      "Random Forest Classifier - Classification Report: \n",
      "-----------------------------------------------------\n"
     ]
    },
    {
     "name": "stderr",
     "output_type": "stream",
     "text": [
      "                                                                                \r"
     ]
    },
    {
     "name": "stdout",
     "output_type": "stream",
     "text": [
      "              precision    recall  f1-score   support\n",
      "           0  0.70         0.79    0.73       34363\n",
      "           1  0.76         0.66    0.73       33763\n",
      "    accuracy                       0.73       68126\n",
      "   macro avg  0.73         0.73    0.73       68126\n",
      "weighted avg  0.73         0.73    0.73       68126\n",
      "-----------------------------------------------------\n"
     ]
    }
   ],
   "source": [
    "# Generate Classification report \n",
    "print(\"\\nRandom Forest Classifier - Classification Report: \")\n",
    "print(\"-----------------------------------------------------\")\n",
    "classification_report(prediction)\n",
    "print(\"-----------------------------------------------------\")"
   ]
  },
  {
   "cell_type": "code",
   "execution_count": 163,
   "id": "2b880a97",
   "metadata": {},
   "outputs": [
    {
     "name": "stdout",
     "output_type": "stream",
     "text": [
      "\n",
      "Random Forest Classifier - Confusion Matrix: \n",
      "-----------------------------------------------------\n",
      "TN: 27167\tFP: 7196\n",
      "FN: 11455\tTP: 22308\n",
      "-----------------------------------------------------\n"
     ]
    }
   ],
   "source": [
    "# Generate Confusion Matrix\n",
    "print(\"\\nRandom Forest Classifier - Confusion Matrix: \")\n",
    "print(\"-----------------------------------------------------\")\n",
    "confusion_matrix(prediction)\n",
    "print(\"-----------------------------------------------------\")"
   ]
  },
  {
   "cell_type": "code",
   "execution_count": 164,
   "id": "01e87632",
   "metadata": {},
   "outputs": [
    {
     "name": "stdout",
     "output_type": "stream",
     "text": [
      "\n",
      "Random Forest Classifier - Predictor Feature Importance: \n",
      "-----------------------------------------------------\n",
      "Feature: ap_hi, Importance: 0.3956\n",
      "Feature: Pulse_Rate, Importance: 0.2100\n",
      "Feature: ap_lo, Importance: 0.2090\n",
      "Feature: age, Importance: 0.0942\n",
      "Feature: cholesterol, Importance: 0.0733\n",
      "Feature: BMI, Importance: 0.0133\n",
      "Feature: weight, Importance: 0.0024\n",
      "Feature: gluc, Importance: 0.0021\n",
      "-----------------------------------------------------\n"
     ]
    }
   ],
   "source": [
    "# Generate Predictor Feature Importance\n",
    "print(\"\\nRandom Forest Classifier - Predictor Feature Importance: \")\n",
    "print(\"-----------------------------------------------------\")\n",
    "feature_importance(model.stages[-1], feature_cols)\n",
    "print(\"-----------------------------------------------------\")"
   ]
  },
  {
   "cell_type": "markdown",
   "id": "b39d1872",
   "metadata": {},
   "source": [
    "### Gradient-Boosted Tree Classifier"
   ]
  },
  {
   "cell_type": "code",
   "execution_count": 165,
   "id": "77c6dcb8",
   "metadata": {},
   "outputs": [],
   "source": [
    "# Build Gradient-Boosted Tree Classifier\n",
    "gbtCls = GBTClassifier(labelCol='cardio',featuresCol='features')\n",
    "\n",
    "pipeline = Pipeline(stages=[assembler, gbtCls])\n",
    "model = pipeline.fit(merge_df)\n",
    "prediction = model.transform(merge_df)"
   ]
  },
  {
   "cell_type": "code",
   "execution_count": 166,
   "id": "4669cff7",
   "metadata": {},
   "outputs": [
    {
     "name": "stderr",
     "output_type": "stream",
     "text": [
      "\r",
      "[Stage 6206:>                                                       (0 + 1) / 1]\r",
      "\r",
      "                                                                                \r"
     ]
    },
    {
     "name": "stdout",
     "output_type": "stream",
     "text": [
      "\n",
      "Gradient-Boosted Tree Classifier - Accuracy = 0.74\n",
      "\n",
      "Gradient-Boosted Tree Classifier - Area Under ROC (AUC) = 0.80\n",
      "\n",
      "Gradient-Boosted Tree Classifier - Area Under PR = 0.79\n"
     ]
    }
   ],
   "source": [
    "# Evaluate model Accuracy\n",
    "mulEvaluator = MulticlassClassificationEvaluator(labelCol=\"cardio\", predictionCol=\"prediction\", metricName=\"accuracy\")\n",
    "accuracy = mulEvaluator.evaluate(prediction)\n",
    "print(f\"\\nGradient-Boosted Tree Classifier - Accuracy = {accuracy:.2f}\")\n",
    "\n",
    "# Evaluate model using areaUnderROC\n",
    "binaryEvaluator = BinaryClassificationEvaluator(labelCol=\"cardio\", rawPredictionCol=\"rawPrediction\", metricName=\"areaUnderROC\")\n",
    "roc_auc = binaryEvaluator.evaluate(prediction)\n",
    "print(f\"\\nGradient-Boosted Tree Classifier - Area Under ROC (AUC) = {roc_auc:.2f}\")\n",
    "\n",
    "# Evaluate model using areaUnderPR\n",
    "binaryEvaluator.setMetricName(\"areaUnderPR\")\n",
    "pr_auc = binaryEvaluator.evaluate(prediction)\n",
    "print(f\"\\nGradient-Boosted Tree Classifier - Area Under PR = {pr_auc:.2f}\")"
   ]
  },
  {
   "cell_type": "code",
   "execution_count": 167,
   "id": "5359d16d",
   "metadata": {},
   "outputs": [
    {
     "name": "stdout",
     "output_type": "stream",
     "text": [
      "\n",
      "Gradient-Boosted Tree Classifier - Classification Report: \n",
      "-----------------------------------------------------\n"
     ]
    },
    {
     "name": "stderr",
     "output_type": "stream",
     "text": [
      "                                                                                \r"
     ]
    },
    {
     "name": "stdout",
     "output_type": "stream",
     "text": [
      "              precision    recall  f1-score   support\n",
      "           0  0.72         0.78    0.73       34363\n",
      "           1  0.76         0.69    0.73       33763\n",
      "    accuracy                       0.74       68126\n",
      "   macro avg  0.74         0.73    0.73       68126\n",
      "weighted avg  0.74         0.74    0.73       68126\n",
      "-----------------------------------------------------\n"
     ]
    }
   ],
   "source": [
    "# Generate Classification report \n",
    "print(\"\\nGradient-Boosted Tree Classifier - Classification Report: \")\n",
    "print(\"-----------------------------------------------------\")\n",
    "classification_report(prediction)\n",
    "print(\"-----------------------------------------------------\")"
   ]
  },
  {
   "cell_type": "code",
   "execution_count": 168,
   "id": "5d13dcda",
   "metadata": {},
   "outputs": [
    {
     "name": "stdout",
     "output_type": "stream",
     "text": [
      "\n",
      "Gradient-Boosted Tree Classifier - Confusion Matrix: \n",
      "-----------------------------------------------------\n",
      "TN: 26888\tFP: 7475\n",
      "FN: 10555\tTP: 23208\n",
      "-----------------------------------------------------\n"
     ]
    }
   ],
   "source": [
    "# Generate Confusion Matrix\n",
    "print(\"\\nGradient-Boosted Tree Classifier - Confusion Matrix: \")\n",
    "print(\"-----------------------------------------------------\")\n",
    "confusion_matrix(prediction)\n",
    "print(\"-----------------------------------------------------\")"
   ]
  },
  {
   "cell_type": "code",
   "execution_count": 169,
   "id": "3dc5cb8c",
   "metadata": {},
   "outputs": [
    {
     "name": "stdout",
     "output_type": "stream",
     "text": [
      "\n",
      "Gradient-Boosted Tree Classifier - Predictor Feature Importance: \n",
      "-----------------------------------------------------\n",
      "Feature: ap_hi, Importance: 0.4909\n",
      "Feature: age, Importance: 0.1676\n",
      "Feature: BMI, Importance: 0.0859\n",
      "Feature: cholesterol, Importance: 0.0771\n",
      "Feature: ap_lo, Importance: 0.0733\n",
      "Feature: weight, Importance: 0.0663\n",
      "Feature: Pulse_Rate, Importance: 0.0200\n",
      "Feature: gluc, Importance: 0.0189\n",
      "-----------------------------------------------------\n"
     ]
    }
   ],
   "source": [
    "# Generate Predictor Feature Importance\n",
    "print(\"\\nGradient-Boosted Tree Classifier - Predictor Feature Importance: \")\n",
    "print(\"-----------------------------------------------------\")\n",
    "feature_importance(model.stages[-1], feature_cols)\n",
    "print(\"-----------------------------------------------------\")"
   ]
  },
  {
   "cell_type": "markdown",
   "id": "477a0e91",
   "metadata": {},
   "source": [
    "### Hyperparameter tuning "
   ]
  },
  {
   "cell_type": "code",
   "execution_count": 170,
   "id": "c9eb1b06",
   "metadata": {},
   "outputs": [],
   "source": [
    "# Split the data into training and test sets (70% train, 30% test)\n",
    "train_data, test_data = merge_df.randomSplit([0.7, 0.3])"
   ]
  },
  {
   "cell_type": "code",
   "execution_count": 171,
   "id": "8f909ad1",
   "metadata": {},
   "outputs": [
    {
     "name": "stdout",
     "output_type": "stream",
     "text": [
      "Best Parameters: Max Depth = 5, Step Size = 0.1\n"
     ]
    }
   ],
   "source": [
    "# Gradient-Boosted Tree Classifier Hyperparameter tuning\n",
    "maxDepths = [3, 5, 7]\n",
    "learningRates = [0.01, 0.05, 0.1]\n",
    "combinations = [(depth, rate) for depth in maxDepths for rate in learningRates]\n",
    "\n",
    "evaluator = BinaryClassificationEvaluator(labelCol=\"cardio\")\n",
    "\n",
    "best_metric = float('-inf')\n",
    "best_model = None\n",
    "best_params = (None, None)\n",
    "\n",
    "for depth, rate in combinations:\n",
    "    cls = GBTClassifier(labelCol='cardio', featuresCol='features', maxDepth=depth, stepSize=rate)\n",
    "    pipeline = Pipeline(stages=[assembler, cls])\n",
    "    model = pipeline.fit(train_data)\n",
    "    prediction = model.transform(test_data)\n",
    "    metric = evaluator.evaluate(prediction)\n",
    "    \n",
    "    if metric > best_metric:\n",
    "        best_metric = metric\n",
    "        best_model = model\n",
    "        best_params = (depth, rate)\n",
    "\n",
    "print(f\"Best Parameters: Max Depth = {best_params[0]}, Step Size = {best_params[1]}\")"
   ]
  },
  {
   "cell_type": "code",
   "execution_count": 172,
   "id": "97095daa",
   "metadata": {},
   "outputs": [
    {
     "name": "stderr",
     "output_type": "stream",
     "text": [
      "[Stage 9531:>                                                       (0 + 1) / 1]\r"
     ]
    },
    {
     "name": "stdout",
     "output_type": "stream",
     "text": [
      "Best Parameters: Max Depth = 10, Max Bins = 32\n"
     ]
    },
    {
     "name": "stderr",
     "output_type": "stream",
     "text": [
      "\r",
      "                                                                                \r"
     ]
    }
   ],
   "source": [
    "# Random Forest Classifier Hyperparameter tuning\n",
    "maxDepths = [5, 10, 15]\n",
    "maxBins = [32, 64]\n",
    "\n",
    "combinations = [(depth, bins) for depth in maxDepths for bins in maxBins]\n",
    "\n",
    "evaluator = BinaryClassificationEvaluator(labelCol=\"cardio\")\n",
    "\n",
    "best_metric = float('-inf')\n",
    "best_model = None\n",
    "best_params = (None, None, None)\n",
    "\n",
    "for depth, bins in combinations:\n",
    "    cls = RandomForestClassifier(labelCol='cardio', featuresCol='features', maxDepth=depth, maxBins=bins)\n",
    "    pipeline = Pipeline(stages=[assembler, cls])\n",
    "    model = pipeline.fit(train_data)\n",
    "    prediction = model.transform(test_data)\n",
    "    metric = evaluator.evaluate(prediction)\n",
    "    \n",
    "    if metric > best_metric:\n",
    "        best_metric = metric\n",
    "        best_model = model\n",
    "        best_params = (depth, bins)\n",
    "\n",
    "print(f\"Best Parameters: Max Depth = {best_params[0]}, Max Bins = {best_params[1]}\")"
   ]
  },
  {
   "cell_type": "markdown",
   "id": "fc8b8101",
   "metadata": {},
   "source": [
    "# 7 - DM"
   ]
  },
  {
   "cell_type": "markdown",
   "id": "82718a3f",
   "metadata": {},
   "source": [
    "### Creating Train & Test Datasets (70% 30%)"
   ]
  },
  {
   "cell_type": "code",
   "execution_count": 173,
   "id": "d1061fb1",
   "metadata": {},
   "outputs": [],
   "source": [
    "# Split the data into training and test sets (70% train, 30% test)\n",
    "train_data, test_data = merge_df.randomSplit([0.7, 0.3])"
   ]
  },
  {
   "cell_type": "markdown",
   "id": "7f56f81b",
   "metadata": {},
   "source": [
    "### Gradient-Boosted Tree Classifier"
   ]
  },
  {
   "cell_type": "code",
   "execution_count": 174,
   "id": "f7cfc67f",
   "metadata": {},
   "outputs": [],
   "source": [
    "# Build the Gradient-Boosted Tree Classifier with best hyperparameter\n",
    "gbtCls = GBTClassifier(labelCol='cardio', featuresCol='features', maxDepth=5, stepSize=0.1)\n",
    "pipeline = Pipeline(stages=[assembler, rfCls])\n",
    "model = pipeline.fit(train_data)\n",
    "prediction = model.transform(test_data)\n",
    "metric = evaluator.evaluate(prediction)"
   ]
  },
  {
   "cell_type": "code",
   "execution_count": 175,
   "id": "c9236eb8",
   "metadata": {},
   "outputs": [
    {
     "name": "stdout",
     "output_type": "stream",
     "text": [
      "\n",
      "Gradient-Boosted Tree Classifier - Accuracy = 0.73\n",
      "\n",
      "Gradient-Boosted Tree Classifier - Area Under ROC (AUC) = 0.79\n",
      "\n",
      "Gradient-Boosted Tree Classifier - Area Under PR = 0.77\n"
     ]
    }
   ],
   "source": [
    "# Evaluate model Accuracy\n",
    "mulEvaluator = MulticlassClassificationEvaluator(labelCol=\"cardio\", predictionCol=\"prediction\", metricName=\"accuracy\")\n",
    "accuracy = mulEvaluator.evaluate(prediction)\n",
    "print(f\"\\nGradient-Boosted Tree Classifier - Accuracy = {accuracy:.2f}\")\n",
    "\n",
    "# Evaluate model using areaUnderROC\n",
    "binaryEvaluator = BinaryClassificationEvaluator(labelCol=\"cardio\", rawPredictionCol=\"rawPrediction\", metricName=\"areaUnderROC\")\n",
    "roc_auc = binaryEvaluator.evaluate(prediction)\n",
    "print(f\"\\nGradient-Boosted Tree Classifier - Area Under ROC (AUC) = {roc_auc:.2f}\")\n",
    "\n",
    "# Evaluate model using areaUnderPR\n",
    "binaryEvaluator.setMetricName(\"areaUnderPR\")\n",
    "pr_auc = binaryEvaluator.evaluate(prediction)\n",
    "print(f\"\\nGradient-Boosted Tree Classifier - Area Under PR = {pr_auc:.2f}\")"
   ]
  },
  {
   "cell_type": "code",
   "execution_count": 176,
   "id": "6f2ec469",
   "metadata": {},
   "outputs": [
    {
     "name": "stdout",
     "output_type": "stream",
     "text": [
      "\n",
      "Gradient-Boosted Tree Classifier - Classification Report: \n",
      "-----------------------------------------------------\n",
      "              precision    recall  f1-score   support\n",
      "           0  0.70         0.80    0.73       10335\n",
      "           1  0.76         0.66    0.73       10126\n",
      "    accuracy                       0.73       20461\n",
      "   macro avg  0.73         0.73    0.73       20461\n",
      "weighted avg  0.73         0.73    0.73       20461\n",
      "-----------------------------------------------------\n"
     ]
    }
   ],
   "source": [
    "# Generate Classification report \n",
    "print(\"\\nGradient-Boosted Tree Classifier - Classification Report: \")\n",
    "print(\"-----------------------------------------------------\")\n",
    "classification_report(prediction)\n",
    "print(\"-----------------------------------------------------\")"
   ]
  },
  {
   "cell_type": "code",
   "execution_count": 177,
   "id": "5cf433a7",
   "metadata": {},
   "outputs": [
    {
     "name": "stdout",
     "output_type": "stream",
     "text": [
      "\n",
      "Gradient-Boosted Tree Classifier - Confusion Matrix: \n",
      "-----------------------------------------------------\n",
      "TN: 8250\tFP: 2085\n",
      "FN: 3456\tTP: 6670\n",
      "-----------------------------------------------------\n"
     ]
    }
   ],
   "source": [
    "# Generate Confusion Matrix\n",
    "print(\"\\nGradient-Boosted Tree Classifier - Confusion Matrix: \")\n",
    "print(\"-----------------------------------------------------\")\n",
    "confusion_matrix(prediction)\n",
    "print(\"-----------------------------------------------------\")"
   ]
  },
  {
   "cell_type": "code",
   "execution_count": 178,
   "id": "18265c14",
   "metadata": {},
   "outputs": [
    {
     "name": "stdout",
     "output_type": "stream",
     "text": [
      "\n",
      "Gradient-Boosted Tree Classifier - Predictor Feature Importance: \n",
      "-----------------------------------------------------\n",
      "Feature: ap_hi, Importance: 0.4054\n",
      "Feature: Pulse_Rate, Importance: 0.2252\n",
      "Feature: ap_lo, Importance: 0.1760\n",
      "Feature: age, Importance: 0.1089\n",
      "Feature: cholesterol, Importance: 0.0685\n",
      "Feature: BMI, Importance: 0.0117\n",
      "Feature: weight, Importance: 0.0032\n",
      "Feature: gluc, Importance: 0.0011\n",
      "-----------------------------------------------------\n"
     ]
    }
   ],
   "source": [
    "# Generate Predictor Feature Importance\n",
    "print(\"\\nGradient-Boosted Tree Classifier - Predictor Feature Importance: \")\n",
    "print(\"-----------------------------------------------------\")\n",
    "feature_importance(model.stages[-1], feature_cols)\n",
    "print(\"-----------------------------------------------------\")"
   ]
  },
  {
   "cell_type": "markdown",
   "id": "6a8cbded",
   "metadata": {},
   "source": [
    "### Random Forest Classifier"
   ]
  },
  {
   "cell_type": "code",
   "execution_count": 179,
   "id": "98d52895",
   "metadata": {},
   "outputs": [
    {
     "name": "stderr",
     "output_type": "stream",
     "text": [
      "                                                                                \r"
     ]
    }
   ],
   "source": [
    "# Build the Random Forest Classifier with best hyperparameter\n",
    "rfCls = RandomForestClassifier(labelCol='cardio', featuresCol='features', maxDepth=10, maxBins=64)\n",
    "pipeline = Pipeline(stages=[assembler, rfCls])\n",
    "model = pipeline.fit(train_data)\n",
    "prediction = model.transform(test_data)\n",
    "metric = evaluator.evaluate(prediction)"
   ]
  },
  {
   "cell_type": "code",
   "execution_count": 180,
   "id": "896d757b",
   "metadata": {},
   "outputs": [
    {
     "name": "stdout",
     "output_type": "stream",
     "text": [
      "\n",
      "Random Forest Classifier - Accuracy = 0.73\n",
      "\n",
      "Random Forest Classifier - Area Under ROC (AUC) = 0.80\n",
      "\n",
      "Random Forest Classifier - Area Under PR = 0.78\n"
     ]
    }
   ],
   "source": [
    "# Evaluate model Accuracy\n",
    "mulEvaluator = MulticlassClassificationEvaluator(labelCol=\"cardio\", predictionCol=\"prediction\", metricName=\"accuracy\")\n",
    "accuracy = mulEvaluator.evaluate(prediction)\n",
    "print(f\"\\nRandom Forest Classifier - Accuracy = {accuracy:.2f}\")\n",
    "\n",
    "# Evaluate model using areaUnderROC\n",
    "binaryEvaluator = BinaryClassificationEvaluator(labelCol=\"cardio\", rawPredictionCol=\"rawPrediction\", metricName=\"areaUnderROC\")\n",
    "roc_auc = binaryEvaluator.evaluate(prediction)\n",
    "print(f\"\\nRandom Forest Classifier - Area Under ROC (AUC) = {roc_auc:.2f}\")\n",
    "\n",
    "# Evaluate model using areaUnderPR\n",
    "binaryEvaluator.setMetricName(\"areaUnderPR\")\n",
    "pr_auc = binaryEvaluator.evaluate(prediction)\n",
    "print(f\"\\nRandom Forest Classifier - Area Under PR = {pr_auc:.2f}\")"
   ]
  },
  {
   "cell_type": "code",
   "execution_count": 181,
   "id": "ca4f63b0",
   "metadata": {},
   "outputs": [
    {
     "name": "stdout",
     "output_type": "stream",
     "text": [
      "\n",
      "Random Forest Classifier - Classification Report: \n",
      "-----------------------------------------------------\n"
     ]
    },
    {
     "name": "stderr",
     "output_type": "stream",
     "text": [
      "\r",
      "[Stage 9763:>                                                       (0 + 1) / 1]\r",
      "\r",
      "                                                                                \r"
     ]
    },
    {
     "name": "stdout",
     "output_type": "stream",
     "text": [
      "              precision    recall  f1-score   support\n",
      "           0  0.72         0.78    0.73       10335\n",
      "           1  0.75         0.69    0.73       10126\n",
      "    accuracy                       0.73       20461\n",
      "   macro avg  0.73         0.73    0.73       20461\n",
      "weighted avg  0.73         0.73    0.73       20461\n",
      "-----------------------------------------------------\n"
     ]
    }
   ],
   "source": [
    "# Generate Classification report \n",
    "print(\"\\nRandom Forest Classifier - Classification Report: \")\n",
    "print(\"-----------------------------------------------------\")\n",
    "classification_report(prediction)\n",
    "print(\"-----------------------------------------------------\")"
   ]
  },
  {
   "cell_type": "code",
   "execution_count": 182,
   "id": "f8f965cb",
   "metadata": {},
   "outputs": [
    {
     "name": "stdout",
     "output_type": "stream",
     "text": [
      "\n",
      "Random Forest Classifier - Confusion Matrix: \n",
      "-----------------------------------------------------\n",
      "TN: 8024\tFP: 2311\n",
      "FN: 3151\tTP: 6975\n",
      "-----------------------------------------------------\n"
     ]
    }
   ],
   "source": [
    "# Generate Confusion Matrix\n",
    "print(\"\\nRandom Forest Classifier - Confusion Matrix: \")\n",
    "print(\"-----------------------------------------------------\")\n",
    "confusion_matrix(prediction)\n",
    "print(\"-----------------------------------------------------\")"
   ]
  },
  {
   "cell_type": "code",
   "execution_count": 183,
   "id": "3fd177a3",
   "metadata": {},
   "outputs": [
    {
     "name": "stdout",
     "output_type": "stream",
     "text": [
      "\n",
      "Random Forest Classifier - Predictor Feature Importance: \n",
      "-----------------------------------------------------\n",
      "Feature: ap_hi, Importance: 0.3395\n",
      "Feature: Pulse_Rate, Importance: 0.1878\n",
      "Feature: ap_lo, Importance: 0.1577\n",
      "Feature: age, Importance: 0.1379\n",
      "Feature: cholesterol, Importance: 0.0764\n",
      "Feature: BMI, Importance: 0.0493\n",
      "Feature: weight, Importance: 0.0389\n",
      "Feature: gluc, Importance: 0.0126\n",
      "-----------------------------------------------------\n"
     ]
    }
   ],
   "source": [
    "# Generate Predictor Feature Importance\n",
    "print(\"\\nRandom Forest Classifier - Predictor Feature Importance: \")\n",
    "print(\"-----------------------------------------------------\")\n",
    "feature_importance(model.stages[-1], feature_cols)\n",
    "print(\"-----------------------------------------------------\")"
   ]
  },
  {
   "cell_type": "markdown",
   "id": "5f4dc12a",
   "metadata": {},
   "source": [
    "# 8 - INT"
   ]
  },
  {
   "cell_type": "markdown",
   "id": "a6cf1710",
   "metadata": {},
   "source": [
    "### Visualising"
   ]
  },
  {
   "cell_type": "code",
   "execution_count": 184,
   "id": "fb71f948",
   "metadata": {},
   "outputs": [
    {
     "name": "stdout",
     "output_type": "stream",
     "text": [
      "\n",
      " Cardio vs Gender\n",
      "------------------------------------\n",
      "+------+------+-----+\n",
      "|cardio|gender|Count|\n",
      "+------+------+-----+\n",
      "|     1|     2|11796|\n",
      "|     1|     1|21487|\n",
      "|     0|     1|22100|\n",
      "|     0|     2|11774|\n",
      "+------+------+-----+\n",
      "\n",
      "\n",
      " Cardio vs Active\n",
      "------------------------------------\n",
      "+------+------+-----+\n",
      "|cardio|active|Count|\n",
      "+------+------+-----+\n",
      "|     1|     0| 7033|\n",
      "|     1|     1|26250|\n",
      "|     0|     0| 6161|\n",
      "|     0|     1|27713|\n",
      "+------+------+-----+\n",
      "\n",
      "\n",
      " Cardio vs Smoke\n",
      "------------------------------------\n",
      "+------+-----+-----+\n",
      "|cardio|smoke|Count|\n",
      "+------+-----+-----+\n",
      "|     1|    0|30491|\n",
      "|     1|    1| 2792|\n",
      "|     0|    0|30710|\n",
      "|     0|    1| 3164|\n",
      "+------+-----+-----+\n",
      "\n",
      "\n",
      " Cardio vs Alco\n",
      "------------------------------------\n",
      "+------+----+-----+\n",
      "|cardio|alco|Count|\n",
      "+------+----+-----+\n",
      "|     1|   0|31553|\n",
      "|     1|   1| 1730|\n",
      "|     0|   0|31983|\n",
      "|     0|   1| 1891|\n",
      "+------+----+-----+\n",
      "\n"
     ]
    }
   ],
   "source": [
    "print(\"\\n Cardio vs Gender\")\n",
    "print(\"------------------------------------\")\n",
    "# 'Cardio vs Gender'\n",
    "df.groupBy('cardio', 'gender').agg(count('*').alias('Count')).show()\n",
    "\n",
    "print(\"\\n Cardio vs Active\")\n",
    "print(\"------------------------------------\")\n",
    "# 'Cardio vs active'\n",
    "df.groupBy('cardio','active').agg(count('*').alias('Count')).show()\n",
    "\n",
    "print(\"\\n Cardio vs Smoke\")\n",
    "print(\"------------------------------------\")\n",
    "# 'Cardio vs smoke'\n",
    "df.groupBy('cardio', 'smoke').agg(count('*').alias('Count')).show()\n",
    "\n",
    "print(\"\\n Cardio vs Alco\")\n",
    "print(\"------------------------------------\")\n",
    "# 'Cardio vs alco'\n",
    "df.groupBy('cardio', 'alco').agg(count('*').alias('Count')).show()"
   ]
  },
  {
   "cell_type": "code",
   "execution_count": 185,
   "id": "cde1a9a4",
   "metadata": {},
   "outputs": [
    {
     "data": {
      "image/png": "[encoded data removed]",
      "text/plain": [
       "<Figure size 432x288 with 1 Axes>"
      ]
     },
     "metadata": {
      "needs_background": "light"
     },
     "output_type": "display_data"
    },
    {
     "data": {
      "image/png": "[encoded data removed]",
      "text/plain": [
       "<Figure size 432x288 with 1 Axes>"
      ]
     },
     "metadata": {
      "needs_background": "light"
     },
     "output_type": "display_data"
    },
    {
     "data": {
      "image/png": "[encoded data removed]",
      "text/plain": [
       "<Figure size 432x288 with 1 Axes>"
      ]
     },
     "metadata": {
      "needs_background": "light"
     },
     "output_type": "display_data"
    },
    {
     "data": {
      "image/png": "[encoded data removed]",
      "text/plain": [
       "<Figure size 432x288 with 1 Axes>"
      ]
     },
     "metadata": {
      "needs_background": "light"
     },
     "output_type": "display_data"
    },
    {
     "data": {
      "image/png": "[encoded data removed]",
      "text/plain": [
       "<Figure size 432x288 with 1 Axes>"
      ]
     },
     "metadata": {
      "needs_background": "light"
     },
     "output_type": "display_data"
    }
   ],
   "source": [
    "# Plotting 'Cardio vs active'\n",
    "df_pd = df.toPandas()\n",
    "sns.countplot(x='gender', hue='active', data=df_pd)\n",
    "plt.title(\"Gender vs Cardio\", size=14)\n",
    "plt.show()\n",
    "\n",
    "# Plotting 'Cardio vs smoke'\n",
    "sns.countplot(x='active', hue='cardio', data=df_pd)\n",
    "plt.title(\"Active vs Cardio\", size=14)\n",
    "plt.show()\n",
    "\n",
    "# Plotting 'Cardio vs smoke'\n",
    "sns.countplot(x='smoke', hue='cardio', data=df_pd)\n",
    "plt.title(\"Smoke vs Cardio\", size=14)\n",
    "plt.show()\n",
    "\n",
    "# Plotting 'Cardio vs alco'\n",
    "sns.countplot(x='alco', hue='cardio', data=df_pd)\n",
    "plt.title(\"Alco vs Cardio\", size=14)\n",
    "plt.show()\n",
    "\n",
    "# Plotting 'Cardio vs Age'\n",
    "df_pd = merge_df.toPandas()\n",
    "sns.countplot(x='age', hue='cardio', data=df_pd)\n",
    "plt.title(\"Age vs Cardio\", size=14)\n",
    "plt.show()"
   ]
  },
  {
   "cell_type": "code",
   "execution_count": 186,
   "id": "75d774fb",
   "metadata": {},
   "outputs": [
    {
     "name": "stdout",
     "output_type": "stream",
     "text": [
      "\n",
      "Correlation Results\n",
      "------------------------------------\n",
      "Correlation between \"cardio\" and \"ap_hi\": 0.4243\n",
      "Correlation between \"cardio\" and \"ap_lo\": 0.3340\n",
      "Correlation between \"cardio\" and \"Pulse_Rate\": 0.3182\n",
      "Correlation between \"cardio\" and \"age\": 0.2386\n",
      "Correlation between \"cardio\" and \"cholesterol\": 0.2212\n",
      "Correlation between \"cardio\" and \"BMI\": 0.1900\n",
      "Correlation between \"cardio\" and \"weight\": 0.1787\n",
      "Correlation between \"cardio\" and \"gluc\": -0.0915\n"
     ]
    },
    {
     "data": {
      "image/png": "[encoded data removed]",
      "text/plain": [
       "<Figure size 720x72 with 2 Axes>"
      ]
     },
     "metadata": {
      "needs_background": "light"
     },
     "output_type": "display_data"
    }
   ],
   "source": [
    "# prepare the columns\n",
    "tmpDf = merge_df.drop(\"cardio\")\n",
    "columns = tmpDf.columns\n",
    "target = 'cardio'\n",
    "\n",
    "# apply correlation method\n",
    "correlations = {}\n",
    "for col in columns:\n",
    "    corr_value = merge_df.stat.corr(col, target)\n",
    "    correlations[col] = corr_value\n",
    "\n",
    "# print the result in descending order\n",
    "print(\"\\nCorrelation Results\")\n",
    "print(\"------------------------------------\")\n",
    "sorted_correlations = sorted(correlations.items(), key=lambda x: x[1], reverse=True)\n",
    "for col, corr_value in sorted_correlations:\n",
    "    print(f\"Correlation between \\\"{target}\\\" and \\\"{col}\\\": {corr_value:.4f}\")\n",
    "\n",
    "\n",
    "# preparing data to plot the heatmap diagram\n",
    "attributes = list(correlations.keys())\n",
    "correlation_values = list(correlations.values())\n",
    "corr_matrix = [correlation_values]\n",
    "\n",
    "# Generate the heatmap plot\n",
    "plt.figure(figsize=(10, 1))  # Adjust size as per your preference\n",
    "sns.heatmap(corr_matrix, annot=True, yticklabels=['cardio'], xticklabels=attributes, cmap=\"coolwarm\", cbar=True, linewidths=0.5)\n",
    "plt.title(\"Correlation with 'cardio'\")\n",
    "plt.show()"
   ]
  },
  {
   "cell_type": "code",
   "execution_count": 187,
   "id": "0bf0eba4",
   "metadata": {},
   "outputs": [
    {
     "name": "stdout",
     "output_type": "stream",
     "text": [
      "\n",
      "Skewness Values\n",
      "------------------------------------\n",
      "Skewness value for age: -0.3042\n",
      "Skewness value for weight: 1.0454\n",
      "Skewness value for ap_hi: 0.9155\n",
      "Skewness value for ap_lo: 0.6647\n",
      "Skewness value for cholesterol: 1.5947\n",
      "Skewness value for gluc: -2.0554\n",
      "Skewness value for BMI: 1.2111\n",
      "Skewness value for Pulse_Rate: 0.5382\n"
     ]
    },
    {
     "data": {
      "image/png": "[encoded data removed]",
      "text/plain": [
       "<Figure size 1080x1080 with 8 Axes>"
      ]
     },
     "metadata": {
      "needs_background": "light"
     },
     "output_type": "display_data"
    }
   ],
   "source": [
    "# Compute and categorize skewness for each column\n",
    "tmpDf = merge_df.drop(\"cardio\")\n",
    "feature_cols = tmpDf.columns\n",
    "print(\"\\nSkewness Values\")\n",
    "print(\"------------------------------------\")\n",
    "for column in feature_cols:\n",
    "    skew_value = merge_df.select(skewness(column)).collect()[0][0]\n",
    "    print(f\"Skewness value for {column}: {skew_value:.4f}\")\n",
    "\t\n",
    "# Covert to Pandas\n",
    "tmpDf_pd = tmpDf.toPandas()\n",
    "\n",
    "# Setting up the subplot grid\n",
    "num_features = len(feature_cols)\n",
    "num_rows = (num_features + 2) // 3  # Ceiling division to ensure enough rows\n",
    "\n",
    "plt.figure(figsize=(15, 5 * num_rows))\n",
    "for idx, column in enumerate(feature_cols):\n",
    "    # Setting the position for the subplot\n",
    "    plt.subplot(num_rows, 3, idx+1)\n",
    "    \n",
    "    # Plotting distribution\n",
    "    sns.histplot(tmpDf_pd[column], kde=True)\n",
    "    \n",
    "    # Computing and displaying skewness\n",
    "    skew_value = merge_df.select(skewness(column)).collect()[0][0]\n",
    "    plt.title(f\"Distribution of {column} - Skewness: {skew_value:.4f}\")\n",
    "\n",
    "plt.tight_layout()  # Adjusting layout for better visualization\n",
    "plt.show()"
   ]
  },
  {
   "cell_type": "code",
   "execution_count": 188,
   "id": "33171fb8",
   "metadata": {},
   "outputs": [
    {
     "name": "stderr",
     "output_type": "stream",
     "text": [
      "                                                                                \r"
     ]
    },
    {
     "name": "stdout",
     "output_type": "stream",
     "text": [
      "\n",
      "Gradient-Boosted Tree Classifier - Accuracy = 0.73\n",
      "\n",
      "Gradient-Boosted Tree Classifier - Area Under ROC (AUC) = 0.80\n",
      "\n",
      "Gradient-Boosted Tree Classifier - Area Under PR = 0.78\n",
      "\n",
      "Gradient-Boosted Tree Classifier - Classification Report: \n",
      "-----------------------------------------------------\n",
      "              precision    recall  f1-score   support\n",
      "           0  0.72         0.78    0.73       10335\n",
      "           1  0.75         0.69    0.73       10126\n",
      "    accuracy                       0.73       20461\n",
      "   macro avg  0.73         0.73    0.73       20461\n",
      "weighted avg  0.73         0.73    0.73       20461\n",
      "-----------------------------------------------------\n",
      "\n",
      "Gradient-Boosted Tree Classifier - Confusion Matrix: \n",
      "-----------------------------------------------------\n",
      "TN: 8024\tFP: 2311\n",
      "FN: 3151\tTP: 6975\n",
      "-----------------------------------------------------\n",
      "\n",
      "Gradient-Boosted Tree Classifier - Predictor Feature Importance: \n",
      "-----------------------------------------------------\n",
      "Feature: ap_hi, Importance: 0.3395\n",
      "Feature: Pulse_Rate, Importance: 0.1878\n",
      "Feature: ap_lo, Importance: 0.1577\n",
      "Feature: age, Importance: 0.1379\n",
      "Feature: cholesterol, Importance: 0.0764\n",
      "Feature: BMI, Importance: 0.0493\n",
      "Feature: weight, Importance: 0.0389\n",
      "Feature: gluc, Importance: 0.0126\n",
      "-----------------------------------------------------\n"
     ]
    }
   ],
   "source": [
    "# Build the Gradient-Boosted Tree Classifier with best hyperparameter\n",
    "gbtCls = GBTClassifier(labelCol='cardio', featuresCol='features', maxDepth=5, stepSize=0.1)\n",
    "pipeline = Pipeline(stages=[assembler, rfCls])\n",
    "model = pipeline.fit(train_data)\n",
    "prediction = model.transform(test_data)\n",
    "metric = evaluator.evaluate(prediction)\n",
    "\n",
    "# Evaluate model Accuracy\n",
    "mulEvaluator = MulticlassClassificationEvaluator(labelCol=\"cardio\", predictionCol=\"prediction\", metricName=\"accuracy\")\n",
    "accuracy = mulEvaluator.evaluate(prediction)\n",
    "print(f\"\\nGradient-Boosted Tree Classifier - Accuracy = {accuracy:.2f}\")\n",
    "\n",
    "# Evaluate model using areaUnderROC\n",
    "binaryEvaluator = BinaryClassificationEvaluator(labelCol=\"cardio\", rawPredictionCol=\"rawPrediction\", metricName=\"areaUnderROC\")\n",
    "roc_auc = binaryEvaluator.evaluate(prediction)\n",
    "print(f\"\\nGradient-Boosted Tree Classifier - Area Under ROC (AUC) = {roc_auc:.2f}\")\n",
    "\n",
    "# Evaluate model using areaUnderPR\n",
    "binaryEvaluator.setMetricName(\"areaUnderPR\")\n",
    "pr_auc = binaryEvaluator.evaluate(prediction)\n",
    "print(f\"\\nGradient-Boosted Tree Classifier - Area Under PR = {pr_auc:.2f}\")\n",
    "\n",
    "# Generate Classification report \n",
    "print(\"\\nGradient-Boosted Tree Classifier - Classification Report: \")\n",
    "print(\"-----------------------------------------------------\")\n",
    "classification_report(prediction)\n",
    "print(\"-----------------------------------------------------\")\n",
    "\n",
    "# Generate Confusion Matrix\n",
    "print(\"\\nGradient-Boosted Tree Classifier - Confusion Matrix: \")\n",
    "print(\"-----------------------------------------------------\")\n",
    "confusion_matrix(prediction)\n",
    "print(\"-----------------------------------------------------\")\n",
    "\n",
    "# Generate Predictor Feature Importance\n",
    "print(\"\\nGradient-Boosted Tree Classifier - Predictor Feature Importance: \")\n",
    "print(\"-----------------------------------------------------\")\n",
    "feature_importance(model.stages[-1], feature_cols)\n",
    "print(\"-----------------------------------------------------\")"
   ]
  },
  {
   "cell_type": "code",
   "execution_count": 189,
   "id": "781e0006",
   "metadata": {},
   "outputs": [
    {
     "name": "stderr",
     "output_type": "stream",
     "text": [
      "                                                                                \r"
     ]
    },
    {
     "name": "stdout",
     "output_type": "stream",
     "text": [
      "\n",
      "Random Forest Classifier - Accuracy = 0.73\n",
      "\n",
      "Random Forest Classifier - Area Under ROC (AUC) = 0.80\n",
      "\n",
      "Random Forest Classifier - Area Under PR = 0.78\n",
      "\n",
      "Random Forest Classifier - Classification Report: \n",
      "-----------------------------------------------------\n"
     ]
    },
    {
     "name": "stderr",
     "output_type": "stream",
     "text": [
      "\r",
      "[Stage 10204:>                                                      (0 + 1) / 1]\r",
      "\r",
      "                                                                                \r"
     ]
    },
    {
     "name": "stdout",
     "output_type": "stream",
     "text": [
      "              precision    recall  f1-score   support\n",
      "           0  0.72         0.78    0.73       10335\n",
      "           1  0.75         0.69    0.73       10126\n",
      "    accuracy                       0.73       20461\n",
      "   macro avg  0.73         0.73    0.73       20461\n",
      "weighted avg  0.73         0.73    0.73       20461\n",
      "-----------------------------------------------------\n",
      "\n",
      "Random Forest Classifier - Confusion Matrix: \n",
      "-----------------------------------------------------\n",
      "TN: 8024\tFP: 2311\n",
      "FN: 3151\tTP: 6975\n",
      "-----------------------------------------------------\n",
      "\n",
      "Random Forest Classifier - Predictor Feature Importance: \n",
      "-----------------------------------------------------\n",
      "Feature: ap_hi, Importance: 0.3395\n",
      "Feature: Pulse_Rate, Importance: 0.1878\n",
      "Feature: ap_lo, Importance: 0.1577\n",
      "Feature: age, Importance: 0.1379\n",
      "Feature: cholesterol, Importance: 0.0764\n",
      "Feature: BMI, Importance: 0.0493\n",
      "Feature: weight, Importance: 0.0389\n",
      "Feature: gluc, Importance: 0.0126\n",
      "-----------------------------------------------------\n"
     ]
    }
   ],
   "source": [
    "# Build the Random Forest Classifier with best hyperparameter\n",
    "rfCls = RandomForestClassifier(labelCol='cardio', featuresCol='features', maxDepth=10, maxBins=64)\n",
    "pipeline = Pipeline(stages=[assembler, rfCls])\n",
    "model = pipeline.fit(train_data)\n",
    "prediction = model.transform(test_data)\n",
    "metric = evaluator.evaluate(prediction)\n",
    "\n",
    "# Evaluate model Accuracy\n",
    "mulEvaluator = MulticlassClassificationEvaluator(labelCol=\"cardio\", predictionCol=\"prediction\", metricName=\"accuracy\")\n",
    "accuracy = mulEvaluator.evaluate(prediction)\n",
    "print(f\"\\nRandom Forest Classifier - Accuracy = {accuracy:.2f}\")\n",
    "\n",
    "# Evaluate model using areaUnderROC\n",
    "binaryEvaluator = BinaryClassificationEvaluator(labelCol=\"cardio\", rawPredictionCol=\"rawPrediction\", metricName=\"areaUnderROC\")\n",
    "roc_auc = binaryEvaluator.evaluate(prediction)\n",
    "print(f\"\\nRandom Forest Classifier - Area Under ROC (AUC) = {roc_auc:.2f}\")\n",
    "\n",
    "# Evaluate model using areaUnderPR\n",
    "binaryEvaluator.setMetricName(\"areaUnderPR\")\n",
    "pr_auc = binaryEvaluator.evaluate(prediction)\n",
    "print(f\"\\nRandom Forest Classifier - Area Under PR = {pr_auc:.2f}\")\n",
    "\n",
    "# Generate Classification report \n",
    "print(\"\\nRandom Forest Classifier - Classification Report: \")\n",
    "print(\"-----------------------------------------------------\")\n",
    "classification_report(prediction)\n",
    "print(\"-----------------------------------------------------\")\n",
    "\n",
    "# Generate Confusion Matrix\n",
    "print(\"\\nRandom Forest Classifier - Confusion Matrix: \")\n",
    "print(\"-----------------------------------------------------\")\n",
    "confusion_matrix(prediction)\n",
    "print(\"-----------------------------------------------------\")\n",
    "\n",
    "# Generate Predictor Feature Importance\n",
    "print(\"\\nRandom Forest Classifier - Predictor Feature Importance: \")\n",
    "print(\"-----------------------------------------------------\")\n",
    "feature_importance(model.stages[-1], feature_cols)\n",
    "print(\"-----------------------------------------------------\")"
   ]
  },
  {
   "cell_type": "markdown",
   "id": "bcfe6bc2",
   "metadata": {},
   "source": [
    "### Iteration-1 – Partition Data Size 80% of Training and 20% of Testing"
   ]
  },
  {
   "cell_type": "code",
   "execution_count": 190,
   "id": "914e4039",
   "metadata": {},
   "outputs": [],
   "source": [
    "# Split the data into training and test sets (80% train, 20% test)\n",
    "train_data, test_data = merge_df.randomSplit([0.8, 0.2])"
   ]
  },
  {
   "cell_type": "code",
   "execution_count": 191,
   "id": "8e1fab26",
   "metadata": {},
   "outputs": [
    {
     "name": "stderr",
     "output_type": "stream",
     "text": [
      "                                                                                \r"
     ]
    },
    {
     "name": "stdout",
     "output_type": "stream",
     "text": [
      "\n",
      "Gradient-Boosted Tree Classifier - Classification Report: \n",
      "-----------------------------------------------------\n"
     ]
    },
    {
     "name": "stderr",
     "output_type": "stream",
     "text": [
      "\r",
      "[Stage 10289:>                                                      (0 + 1) / 1]\r",
      "\r",
      "                                                                                \r"
     ]
    },
    {
     "name": "stdout",
     "output_type": "stream",
     "text": [
      "              precision    recall  f1-score   support\n",
      "           0  0.72         0.78    0.73       6926\n",
      "           1  0.75         0.69    0.73       6706\n",
      "    accuracy                       0.73       13632\n",
      "   macro avg  0.73         0.73    0.73       13632\n",
      "weighted avg  0.73         0.73    0.73       13632\n",
      "-----------------------------------------------------\n"
     ]
    }
   ],
   "source": [
    "# Build the Gradient-Boosted Tree Classifier with best hyperparameter\n",
    "gbtCls = GBTClassifier(labelCol='cardio', featuresCol='features', maxDepth=5, stepSize=0.1)\n",
    "pipeline = Pipeline(stages=[assembler, rfCls])\n",
    "model = pipeline.fit(train_data)\n",
    "prediction = model.transform(test_data)\n",
    "\n",
    "# Generate Classification report \n",
    "print(\"\\nGradient-Boosted Tree Classifier - Classification Report: \")\n",
    "print(\"-----------------------------------------------------\")\n",
    "classification_report(prediction)\n",
    "print(\"-----------------------------------------------------\")"
   ]
  },
  {
   "cell_type": "code",
   "execution_count": 192,
   "id": "bac57829",
   "metadata": {},
   "outputs": [
    {
     "name": "stderr",
     "output_type": "stream",
     "text": [
      "                                                                                \r"
     ]
    },
    {
     "name": "stdout",
     "output_type": "stream",
     "text": [
      "\n",
      "Random Forest Classifier - Classification Report: \n",
      "-----------------------------------------------------\n",
      "              precision    recall  f1-score   support\n",
      "           0  0.72         0.78    0.73       6926\n",
      "           1  0.75         0.69    0.73       6706\n",
      "    accuracy                       0.73       13632\n",
      "   macro avg  0.73         0.73    0.73       13632\n",
      "weighted avg  0.73         0.73    0.73       13632\n",
      "-----------------------------------------------------\n"
     ]
    }
   ],
   "source": [
    "# Build the Random Forest Classifier with best hyperparameter\n",
    "rfCls = RandomForestClassifier(labelCol='cardio', featuresCol='features', maxDepth=10, maxBins=64)\n",
    "pipeline = Pipeline(stages=[assembler, rfCls])\n",
    "model = pipeline.fit(train_data)\n",
    "prediction = model.transform(test_data)\n",
    "\n",
    "# Generate Classification report \n",
    "print(\"\\nRandom Forest Classifier - Classification Report: \")\n",
    "print(\"-----------------------------------------------------\")\n",
    "classification_report(prediction)\n",
    "print(\"-----------------------------------------------------\")"
   ]
  },
  {
   "cell_type": "markdown",
   "id": "03b08e2f",
   "metadata": {},
   "source": [
    "### Iteration-2 – “Decision Tree Classifier” Model"
   ]
  },
  {
   "cell_type": "code",
   "execution_count": 193,
   "id": "4be78b51",
   "metadata": {},
   "outputs": [
    {
     "name": "stdout",
     "output_type": "stream",
     "text": [
      "\n",
      "Decision Tree Classifier - Classification Report: \n",
      "-----------------------------------------------------\n",
      "              precision    recall  f1-score   support\n",
      "           0  0.71         0.78    0.73       6926\n",
      "           1  0.75         0.67    0.73       6706\n",
      "    accuracy                       0.73       13632\n",
      "   macro avg  0.73         0.73    0.73       13632\n",
      "weighted avg  0.73         0.73    0.73       13632\n",
      "-----------------------------------------------------\n"
     ]
    }
   ],
   "source": [
    "# Build Decision Tree Classifier\n",
    "dtCls = DecisionTreeClassifier(labelCol='cardio',featuresCol='features')\n",
    "pipeline = Pipeline(stages=[assembler, dtCls])\n",
    "model = pipeline.fit(train_data)\n",
    "prediction = model.transform(test_data)\n",
    "\n",
    "# Generate Classification report \n",
    "print(\"\\nDecision Tree Classifier - Classification Report: \")\n",
    "print(\"-----------------------------------------------------\")\n",
    "classification_report(prediction)\n",
    "print(\"-----------------------------------------------------\")"
   ]
  },
  {
   "cell_type": "markdown",
   "id": "cf253bb4",
   "metadata": {},
   "source": [
    "# 9 - ACT"
   ]
  },
  {
   "cell_type": "markdown",
   "id": "d8af9e58",
   "metadata": {},
   "source": [
    "Desribe the Action Plan to Implement, Observe and Improve"
   ]
  }
 ],
 "metadata": {
  "kernelspec": {
   "display_name": "Python 3 (ipykernel)",
   "language": "python",
   "name": "python3"
  },
  "language_info": {
   "codemirror_mode": {
    "name": "ipython",
    "version": 3
   },
   "file_extension": ".py",
   "mimetype": "text/x-python",
   "name": "python",
   "nbconvert_exporter": "python",
   "pygments_lexer": "ipython3",
   "version": "3.10.12"
  }
 },
 "nbformat": 4,
 "nbformat_minor": 5
}
