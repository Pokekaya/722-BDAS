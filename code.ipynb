{
 "cells": [
  {
   "cell_type": "markdown",
   "id": "851cb187",
   "metadata": {},
   "source": [
    "# Import Library"
   ]
  },
  {
   "cell_type": "code",
   "execution_count": 2,
   "id": "63581506",
   "metadata": {},
   "outputs": [
    {
     "name": "stderr",
     "output_type": "stream",
     "text": [
      "WARNING: An illegal reflective access operation has occurred\n",
      "WARNING: Illegal reflective access by org.apache.spark.unsafe.Platform (file:/home/ubuntu/spark-3.2.1-bin-hadoop2.7/jars/spark-unsafe_2.12-3.2.1.jar) to constructor java.nio.DirectByteBuffer(long,int)\n",
      "WARNING: Please consider reporting this to the maintainers of org.apache.spark.unsafe.Platform\n",
      "WARNING: Use --illegal-access=warn to enable warnings of further illegal reflective access operations\n",
      "WARNING: All illegal access operations will be denied in a future release\n",
      "Using Spark's default log4j profile: org/apache/spark/log4j-defaults.properties\n",
      "Setting default log level to \"WARN\".\n",
      "To adjust logging level use sc.setLogLevel(newLevel). For SparkR, use setLogLevel(newLevel).\n",
      "23/10/02 10:04:48 WARN NativeCodeLoader: Unable to load native-hadoop library for your platform... using builtin-java classes where applicable\n"
     ]
    }
   ],
   "source": [
    "import findspark\n",
    "findspark.init('/home/ubuntu/spark-3.2.1-bin-hadoop2.7')\n",
    "import pyspark\n",
    "from pyspark.sql import SparkSession\n",
    "spark = SparkSession.builder.appName('operations').getOrCreate()\n",
    "\n",
    "from pyspark.sql.functions import col, sum as sum_"
   ]
  },
  {
   "cell_type": "markdown",
   "id": "4328a47a",
   "metadata": {},
   "source": [
    "# 1 - BU"
   ]
  },
  {
   "cell_type": "markdown",
   "id": "77ce1454",
   "metadata": {},
   "source": [
    "The detial information about BU is addressed in Itertion-4 report Section - 1."
   ]
  },
  {
   "cell_type": "markdown",
   "id": "b73e22de",
   "metadata": {},
   "source": [
    "# 2- DU"
   ]
  },
  {
   "cell_type": "code",
   "execution_count": 3,
   "id": "b4555492",
   "metadata": {},
   "outputs": [
    {
     "name": "stderr",
     "output_type": "stream",
     "text": [
      "\r",
      "[Stage 1:>                                                          (0 + 1) / 1]\r",
      "\r",
      "                                                                                \r"
     ]
    },
    {
     "data": {
      "text/plain": [
       "69000"
      ]
     },
     "execution_count": 3,
     "metadata": {},
     "output_type": "execute_result"
    }
   ],
   "source": [
    "# load the csv file\n",
    "df = spark.read.csv('Datasets/heart_dataset_1.csv', inferSchema=True, header=True)\n",
    "\n",
    "df.count()"
   ]
  },
  {
   "cell_type": "code",
   "execution_count": 4,
   "id": "6b37cffc",
   "metadata": {
    "scrolled": false
   },
   "outputs": [
    {
     "name": "stdout",
     "output_type": "stream",
     "text": [
      "+-----+---+-----+------+------+------+-----+-----+-----------+----+-----+----+------+------+\n",
      "|index| id|  age|gender|height|weight|ap_hi|ap_lo|cholesterol|gluc|smoke|alco|active|cardio|\n",
      "+-----+---+-----+------+------+------+-----+-----+-----------+----+-----+----+------+------+\n",
      "|    0|  0|18393|     2|   168|  62.0|  110|   80|          1|   1|    0|   0|     1|     0|\n",
      "|    1|  1|20228|     1|   156|  85.0|  140|   90|          3|   1|    0|   0|     1|     1|\n",
      "|    2|  2|18857|     1|   165|  64.0|  130|   70|          3|   1|    0|   0|     0|     1|\n",
      "|    3|  3|17623|     2|   169|  82.0|  150|  100|          1|   1|    0|   0|     1|     1|\n",
      "|    4|  4|48Yrs|     1|   156|  56.0|  100|   60|          1|   1|    0|   0|     0|     0|\n",
      "|    5|  8|21914|     1|   151|  67.0|  120|   80|          2|   2|    0|   0|     0|     0|\n",
      "|    6|  9|22113|     1|   157|  93.0|  130|   80|          3|   1|    0|   0|     1|     0|\n",
      "|    7| 12|22584|     2|   178|  95.0|  130|   90|          3|   3|    0|   0|     1|     1|\n",
      "|    8| 13|17668|     1|   158|  71.0|  110|   70|          1|   1|    0|   0|     1|     0|\n",
      "|    9| 14|19834|     1|   164|  68.0|  110|   60|          1|   1|    0|   0|     0|     0|\n",
      "|   10| 15|22530|     1|   169|  80.0|  120|   80|          1|   1|    0|   0|     1|     0|\n",
      "|   11| 16|18815|     2|   173|  60.0|  120|   80|          1|   1|    0|   0|     1|     0|\n",
      "|   12| 18|14791|     2|   165|  60.0|  120|   80|          1|   1|    0|   0|     0|     0|\n",
      "|   13| 21|19809|     1|   158|  78.0|  110|   70|          1|   1|    0|   0|     1|     0|\n",
      "|   14| 23|14532|     2|   181|  95.0|  130|   90|          1|   1|    1|   1|     1|     0|\n",
      "|   15| 24|16782|     2|   172| 112.0|  120|   80|          1|   1|    0|   0|     0|     1|\n",
      "|   16| 25|21296|     1|   170|  75.0|  130|   70|          1|   1|    0|   0|     0|     0|\n",
      "|   17| 27|16747|     1|   158|  52.0|  110|   70|          1|   3|    0|   0|     1|     0|\n",
      "|   18| 28|17482|     1|   154|  68.0|  100|   70|          1|   1|    0|   0|     0|     0|\n",
      "|   19| 29|21755|     2|   162|  56.0|  120|   70|          1|   1|    1|   0|     1|     0|\n",
      "+-----+---+-----+------+------+------+-----+-----+-----------+----+-----+----+------+------+\n",
      "only showing top 20 rows\n",
      "\n"
     ]
    }
   ],
   "source": [
    "# Verify the loaded data\n",
    "df.show()"
   ]
  },
  {
   "cell_type": "code",
   "execution_count": 5,
   "id": "c1efdef2",
   "metadata": {},
   "outputs": [
    {
     "name": "stdout",
     "output_type": "stream",
     "text": [
      "root\n",
      " |-- index: integer (nullable = true)\n",
      " |-- id: integer (nullable = true)\n",
      " |-- age: string (nullable = true)\n",
      " |-- gender: integer (nullable = true)\n",
      " |-- height: integer (nullable = true)\n",
      " |-- weight: double (nullable = true)\n",
      " |-- ap_hi: integer (nullable = true)\n",
      " |-- ap_lo: integer (nullable = true)\n",
      " |-- cholesterol: integer (nullable = true)\n",
      " |-- gluc: integer (nullable = true)\n",
      " |-- smoke: integer (nullable = true)\n",
      " |-- alco: integer (nullable = true)\n",
      " |-- active: integer (nullable = true)\n",
      " |-- cardio: integer (nullable = true)\n",
      "\n"
     ]
    }
   ],
   "source": [
    "# Verify the data schema\n",
    "df.printSchema()"
   ]
  },
  {
   "cell_type": "code",
   "execution_count": 21,
   "id": "c12b7492",
   "metadata": {},
   "outputs": [
    {
     "data": {
      "text/plain": [
       "['index',\n",
       " 'id',\n",
       " 'age',\n",
       " 'gender',\n",
       " 'height',\n",
       " 'weight',\n",
       " 'ap_hi',\n",
       " 'ap_lo',\n",
       " 'cholesterol',\n",
       " 'gluc',\n",
       " 'smoke',\n",
       " 'alco',\n",
       " 'active',\n",
       " 'cardio']"
      ]
     },
     "execution_count": 21,
     "metadata": {},
     "output_type": "execute_result"
    }
   ],
   "source": [
    "df.columns"
   ]
  },
  {
   "cell_type": "code",
   "execution_count": 22,
   "id": "b7db75ec",
   "metadata": {},
   "outputs": [
    {
     "data": {
      "text/plain": [
       "[Row(index=0, id=0, age='18393', gender=2, height=168, weight=62.0, ap_hi=110, ap_lo=80, cholesterol=1, gluc=1, smoke=0, alco=0, active=1, cardio=0),\n",
       " Row(index=1, id=1, age='20228', gender=1, height=156, weight=85.0, ap_hi=140, ap_lo=90, cholesterol=3, gluc=1, smoke=0, alco=0, active=1, cardio=1),\n",
       " Row(index=2, id=2, age='18857', gender=1, height=165, weight=64.0, ap_hi=130, ap_lo=70, cholesterol=3, gluc=1, smoke=0, alco=0, active=0, cardio=1),\n",
       " Row(index=3, id=3, age='17623', gender=2, height=169, weight=82.0, ap_hi=150, ap_lo=100, cholesterol=1, gluc=1, smoke=0, alco=0, active=1, cardio=1),\n",
       " Row(index=4, id=4, age='48Yrs', gender=1, height=156, weight=56.0, ap_hi=100, ap_lo=60, cholesterol=1, gluc=1, smoke=0, alco=0, active=0, cardio=0),\n",
       " Row(index=5, id=8, age='21914', gender=1, height=151, weight=67.0, ap_hi=120, ap_lo=80, cholesterol=2, gluc=2, smoke=0, alco=0, active=0, cardio=0),\n",
       " Row(index=6, id=9, age='22113', gender=1, height=157, weight=93.0, ap_hi=130, ap_lo=80, cholesterol=3, gluc=1, smoke=0, alco=0, active=1, cardio=0),\n",
       " Row(index=7, id=12, age='22584', gender=2, height=178, weight=95.0, ap_hi=130, ap_lo=90, cholesterol=3, gluc=3, smoke=0, alco=0, active=1, cardio=1),\n",
       " Row(index=8, id=13, age='17668', gender=1, height=158, weight=71.0, ap_hi=110, ap_lo=70, cholesterol=1, gluc=1, smoke=0, alco=0, active=1, cardio=0),\n",
       " Row(index=9, id=14, age='19834', gender=1, height=164, weight=68.0, ap_hi=110, ap_lo=60, cholesterol=1, gluc=1, smoke=0, alco=0, active=0, cardio=0)]"
      ]
     },
     "execution_count": 22,
     "metadata": {},
     "output_type": "execute_result"
    }
   ],
   "source": [
    "df.head(10)"
   ]
  },
  {
   "cell_type": "code",
   "execution_count": 26,
   "id": "4946e4e6",
   "metadata": {},
   "outputs": [
    {
     "name": "stdout",
     "output_type": "stream",
     "text": [
      "+-----+---+-----+------+------+------+-----+-----+-----------+----+-----+----+------+------+\n",
      "|index| id|  age|gender|height|weight|ap_hi|ap_lo|cholesterol|gluc|smoke|alco|active|cardio|\n",
      "+-----+---+-----+------+------+------+-----+-----+-----------+----+-----+----+------+------+\n",
      "|    0|  0|18393|     2|   168|  62.0|  110|   80|          1|   1|    0|   0|     1|     0|\n",
      "|    1|  1|20228|     1|   156|  85.0|  140|   90|          3|   1|    0|   0|     1|     1|\n",
      "|    2|  2|18857|     1|   165|  64.0|  130|   70|          3|   1|    0|   0|     0|     1|\n",
      "|    3|  3|17623|     2|   169|  82.0|  150|  100|          1|   1|    0|   0|     1|     1|\n",
      "|    4|  4|48Yrs|     1|   156|  56.0|  100|   60|          1|   1|    0|   0|     0|     0|\n",
      "|    5|  8|21914|     1|   151|  67.0|  120|   80|          2|   2|    0|   0|     0|     0|\n",
      "|    6|  9|22113|     1|   157|  93.0|  130|   80|          3|   1|    0|   0|     1|     0|\n",
      "|    7| 12|22584|     2|   178|  95.0|  130|   90|          3|   3|    0|   0|     1|     1|\n",
      "|    8| 13|17668|     1|   158|  71.0|  110|   70|          1|   1|    0|   0|     1|     0|\n",
      "|    9| 14|19834|     1|   164|  68.0|  110|   60|          1|   1|    0|   0|     0|     0|\n",
      "+-----+---+-----+------+------+------+-----+-----+-----------+----+-----+----+------+------+\n",
      "only showing top 10 rows\n",
      "\n"
     ]
    }
   ],
   "source": [
    "df.orderBy(df['Index'].asc()).show(10)"
   ]
  },
  {
   "cell_type": "code",
   "execution_count": 23,
   "id": "8155f7b9",
   "metadata": {},
   "outputs": [
    {
     "data": {
      "text/plain": [
       "[Row(index=68990, id=98559, age='20508', gender=2, height=173, weight=91.0, ap_hi=140, ap_lo=90, cholesterol=1, gluc=1, smoke=0, alco=1, active=1, cardio=0),\n",
       " Row(index=68991, id=98561, age='21787', gender=1, height=168, weight=70.0, ap_hi=140, ap_lo=90, cholesterol=3, gluc=1, smoke=0, alco=0, active=1, cardio=1),\n",
       " Row(index=68992, id=98562, age='17574', gender=1, height=157, weight=63.0, ap_hi=150, ap_lo=100, cholesterol=1, gluc=1, smoke=0, alco=0, active=1, cardio=0),\n",
       " Row(index=68993, id=98563, age='14643', gender=2, height=175, weight=75.0, ap_hi=100, ap_lo=70, cholesterol=1, gluc=1, smoke=0, alco=0, active=1, cardio=0),\n",
       " Row(index=68994, id=98564, age='18949', gender=2, height=172, weight=62.0, ap_hi=110, ap_lo=70, cholesterol=1, gluc=1, smoke=1, alco=0, active=1, cardio=0),\n",
       " Row(index=68995, id=98565, age='17548', gender=2, height=173, weight=72.0, ap_hi=120, ap_lo=80, cholesterol=1, gluc=1, smoke=0, alco=0, active=0, cardio=0),\n",
       " Row(index=68996, id=98566, age='20430', gender=1, height=159, weight=105.0, ap_hi=120, ap_lo=80, cholesterol=1, gluc=1, smoke=0, alco=0, active=1, cardio=1),\n",
       " Row(index=68997, id=98567, age='21682', gender=1, height=158, weight=78.0, ap_hi=130, ap_lo=90, cholesterol=1, gluc=1, smoke=0, alco=0, active=1, cardio=1),\n",
       " Row(index=68998, id=98568, age='19107', gender=1, height=154, weight=77.0, ap_hi=14, ap_lo=90, cholesterol=1, gluc=1, smoke=0, alco=0, active=1, cardio=0),\n",
       " Row(index=68999, id=98569, age='19591', gender=2, height=175, weight=88.0, ap_hi=120, ap_lo=80, cholesterol=1, gluc=1, smoke=0, alco=0, active=0, cardio=1)]"
      ]
     },
     "execution_count": 23,
     "metadata": {},
     "output_type": "execute_result"
    }
   ],
   "source": [
    "df.tail(10)"
   ]
  },
  {
   "cell_type": "code",
   "execution_count": 25,
   "id": "c1a1d5ba",
   "metadata": {},
   "outputs": [
    {
     "name": "stdout",
     "output_type": "stream",
     "text": [
      "+-----+-----+-----+------+------+------+-----+-----+-----------+----+-----+----+------+------+\n",
      "|index|   id|  age|gender|height|weight|ap_hi|ap_lo|cholesterol|gluc|smoke|alco|active|cardio|\n",
      "+-----+-----+-----+------+------+------+-----+-----+-----------+----+-----+----+------+------+\n",
      "|68999|98569|19591|     2|   175|  88.0|  120|   80|          1|   1|    0|   0|     0|     1|\n",
      "|68998|98568|19107|     1|   154|  77.0|   14|   90|          1|   1|    0|   0|     1|     0|\n",
      "|68997|98567|21682|     1|   158|  78.0|  130|   90|          1|   1|    0|   0|     1|     1|\n",
      "|68996|98566|20430|     1|   159| 105.0|  120|   80|          1|   1|    0|   0|     1|     1|\n",
      "|68995|98565|17548|     2|   173|  72.0|  120|   80|          1|   1|    0|   0|     0|     0|\n",
      "|68994|98564|18949|     2|   172|  62.0|  110|   70|          1|   1|    1|   0|     1|     0|\n",
      "|68993|98563|14643|     2|   175|  75.0|  100|   70|          1|   1|    0|   0|     1|     0|\n",
      "|68992|98562|17574|     1|   157|  63.0|  150|  100|          1|   1|    0|   0|     1|     0|\n",
      "|68991|98561|21787|     1|   168|  70.0|  140|   90|          3|   1|    0|   0|     1|     1|\n",
      "|68990|98559|20508|     2|   173|  91.0|  140|   90|          1|   1|    0|   1|     1|     0|\n",
      "+-----+-----+-----+------+------+------+-----+-----+-----------+----+-----+----+------+------+\n",
      "only showing top 10 rows\n",
      "\n"
     ]
    }
   ],
   "source": [
    "df.orderBy(df['Index'].desc()).show(10)"
   ]
  },
  {
   "cell_type": "code",
   "execution_count": 24,
   "id": "22e1b23d",
   "metadata": {},
   "outputs": [
    {
     "name": "stdout",
     "output_type": "stream",
     "text": [
      "+-------+------------------+------------------+\n",
      "|summary|             index|                id|\n",
      "+-------+------------------+------------------+\n",
      "|  count|             69000|             69000|\n",
      "|   mean|           34499.5| 49257.99002898551|\n",
      "| stddev|19918.728624086427|28438.175895091368|\n",
      "|    min|                 0|                 0|\n",
      "|    max|             68999|             98569|\n",
      "+-------+------------------+------------------+\n",
      "\n",
      "+-------+------------------+-------------------+------------------+-----------------+\n",
      "|summary|               age|             gender|            height|           weight|\n",
      "+-------+------------------+-------------------+------------------+-----------------+\n",
      "|  count|             69000|              69000|             69000|            69000|\n",
      "|   mean|19469.362175167036| 1.3495217391304348|164.35059420289855|74.21126086956522|\n",
      "| stddev|2467.2731299236907|0.47682238629511076| 8.211304686499416|14.40431106828465|\n",
      "|    min|             10798|                  1|                55|             10.0|\n",
      "|    max|             48Yrs|                  2|               250|            200.0|\n",
      "+-------+------------------+-------------------+------------------+-----------------+\n",
      "\n",
      "+-------+------------------+------------------+------------------+------------------+\n",
      "|summary|             ap_hi|             ap_lo|       cholesterol|              gluc|\n",
      "+-------+------------------+------------------+------------------+------------------+\n",
      "|  count|             69000|             69000|             68997|             69000|\n",
      "|   mean|128.80997101449276| 96.65495652173912|1.3673637984260185|1.2263623188405797|\n",
      "| stddev|154.94479317115955|189.36793185426143|0.6805505273319785|0.5722543067125166|\n",
      "|    min|              -150|               -70|                 1|                 1|\n",
      "|    max|             16020|             11000|                 3|                 3|\n",
      "+-------+------------------+------------------+------------------+------------------+\n",
      "\n",
      "+-------+-------------------+-------------------+-------------------+-------------------+\n",
      "|summary|              smoke|               alco|             active|             cardio|\n",
      "+-------+-------------------+-------------------+-------------------+-------------------+\n",
      "|  count|              69000|              69000|              69000|              69000|\n",
      "|   mean|0.08828985507246377|0.05376811594202899| 0.8040434782608695|0.49972463768115943|\n",
      "| stddev|0.28371803462474876|0.22556117354304892|0.39693808938305636| 0.5000035474028258|\n",
      "|    min|                  0|                  0|                  0|                  0|\n",
      "|    max|                  1|                  1|                  1|                  1|\n",
      "+-------+-------------------+-------------------+-------------------+-------------------+\n",
      "\n"
     ]
    }
   ],
   "source": [
    "df.select('index','id').describe().show()\n",
    "\n",
    "df.select('age','gender','height','weight').describe().show()\n",
    "\n",
    "df.select('ap_hi','ap_lo','cholesterol','gluc').describe().show()\n",
    "\n",
    "df.select('smoke','alco','active','cardio').describe().show()"
   ]
  },
  {
   "cell_type": "code",
   "execution_count": 7,
   "id": "d1551396",
   "metadata": {},
   "outputs": [
    {
     "name": "stdout",
     "output_type": "stream",
     "text": [
      "+-----+---+---+------+------+------+-----+-----+-----------+----+-----+----+------+------+\n",
      "|index| id|age|gender|height|weight|ap_hi|ap_lo|cholesterol|gluc|smoke|alco|active|cardio|\n",
      "+-----+---+---+------+------+------+-----+-----+-----------+----+-----+----+------+------+\n",
      "|    0|  0|  0|     0|     0|     0|    0|    0|          3|   0|    0|   0|     0|     0|\n",
      "+-----+---+---+------+------+------+-----+-----+-----------+----+-----+----+------+------+\n",
      "\n"
     ]
    }
   ],
   "source": [
    "# Check for missing values in each column\n",
    "missing_values = df.agg(*[(sum_(col(c).isNull().cast(\"int\"))).alias(c) for c in df.columns])\n",
    "\n",
    "missing_values.show()"
   ]
  },
  {
   "cell_type": "code",
   "execution_count": null,
   "id": "9389b423",
   "metadata": {},
   "outputs": [],
   "source": []
  },
  {
   "cell_type": "markdown",
   "id": "bba287e4",
   "metadata": {},
   "source": [
    "# 3 - DP"
   ]
  },
  {
   "cell_type": "code",
   "execution_count": null,
   "id": "d5957f27",
   "metadata": {},
   "outputs": [],
   "source": []
  },
  {
   "cell_type": "markdown",
   "id": "2bdad720",
   "metadata": {},
   "source": [
    "# 4 - DT"
   ]
  },
  {
   "cell_type": "code",
   "execution_count": null,
   "id": "b1345941",
   "metadata": {},
   "outputs": [],
   "source": []
  },
  {
   "cell_type": "markdown",
   "id": "c327603b",
   "metadata": {},
   "source": [
    "# 5 - DMM"
   ]
  },
  {
   "cell_type": "markdown",
   "id": "3e573d01",
   "metadata": {},
   "source": [
    "The detial information about DMM is addressed in Itertion-4 report Secion - 5"
   ]
  },
  {
   "cell_type": "markdown",
   "id": "c6662145",
   "metadata": {},
   "source": [
    "# 6 - DMA"
   ]
  },
  {
   "cell_type": "code",
   "execution_count": null,
   "id": "5b7e2277",
   "metadata": {},
   "outputs": [],
   "source": []
  },
  {
   "cell_type": "markdown",
   "id": "fc8b8101",
   "metadata": {},
   "source": [
    "# 7 - DM"
   ]
  },
  {
   "cell_type": "code",
   "execution_count": null,
   "id": "95662c45",
   "metadata": {},
   "outputs": [],
   "source": []
  },
  {
   "cell_type": "markdown",
   "id": "5f4dc12a",
   "metadata": {},
   "source": [
    "# 8 - INT"
   ]
  },
  {
   "cell_type": "code",
   "execution_count": null,
   "id": "4dcc023d",
   "metadata": {},
   "outputs": [],
   "source": []
  },
  {
   "cell_type": "markdown",
   "id": "cf253bb4",
   "metadata": {},
   "source": [
    "# 9 - ACT"
   ]
  },
  {
   "cell_type": "markdown",
   "id": "d8af9e58",
   "metadata": {},
   "source": [
    "Desribe the Action Plan to Implement, Observe and Improve"
   ]
  }
 ],
 "metadata": {
  "kernelspec": {
   "display_name": "Python 3 (ipykernel)",
   "language": "python",
   "name": "python3"
  },
  "language_info": {
   "codemirror_mode": {
    "name": "ipython",
    "version": 3
   },
   "file_extension": ".py",
   "mimetype": "text/x-python",
   "name": "python",
   "nbconvert_exporter": "python",
   "pygments_lexer": "ipython3",
   "version": "3.10.12"
  }
 },
 "nbformat": 4,
 "nbformat_minor": 5
}
