{
 "cells": [
  {
   "cell_type": "markdown",
   "id": "851cb187",
   "metadata": {},
   "source": [
    "# Import Library"
   ]
  },
  {
   "cell_type": "code",
   "execution_count": 2,
   "id": "63581506",
   "metadata": {},
   "outputs": [],
   "source": [
    "import findspark\n",
    "findspark.init('/home/ubuntu/spark-3.2.1-bin-hadoop2.7')\n",
    "import pyspark\n",
    "from pyspark.sql import SparkSession\n",
    "spark = SparkSession.builder.appName('operations').getOrCreate()\n",
    "\n",
    "from pyspark.sql.functions import col, sum as sum_,count,countDistinct,min,max,stddev,format_number\n",
    "\n",
    "from pyspark.ml.stat import Correlation\n",
    "\n",
    "import seaborn as sns\n",
    "import matplotlib.pyplot as plt"
   ]
  },
  {
   "cell_type": "markdown",
   "id": "4328a47a",
   "metadata": {},
   "source": [
    "# 1 - BU"
   ]
  },
  {
   "cell_type": "markdown",
   "id": "77ce1454",
   "metadata": {},
   "source": [
    "The detial information about BU is addressed in Itertion-4 report Section - 1."
   ]
  },
  {
   "cell_type": "markdown",
   "id": "b73e22de",
   "metadata": {},
   "source": [
    "# 2- DU"
   ]
  },
  {
   "cell_type": "code",
   "execution_count": 3,
   "id": "b4555492",
   "metadata": {},
   "outputs": [
    {
     "name": "stderr",
     "output_type": "stream",
     "text": [
      "                                                                                \r"
     ]
    },
    {
     "data": {
      "text/plain": [
       "69000"
      ]
     },
     "execution_count": 3,
     "metadata": {},
     "output_type": "execute_result"
    }
   ],
   "source": [
    "# load the csv file\n",
    "df = spark.read.csv('Datasets/heart_dataset_1.csv', inferSchema=True, header=True)\n",
    "\n",
    "df.count()"
   ]
  },
  {
   "cell_type": "code",
   "execution_count": 4,
   "id": "6b37cffc",
   "metadata": {
    "scrolled": false
   },
   "outputs": [
    {
     "name": "stdout",
     "output_type": "stream",
     "text": [
      "+-----+---+-----+------+------+------+-----+-----+-----------+----+-----+----+------+------+\n",
      "|index| id|  age|gender|height|weight|ap_hi|ap_lo|cholesterol|gluc|smoke|alco|active|cardio|\n",
      "+-----+---+-----+------+------+------+-----+-----+-----------+----+-----+----+------+------+\n",
      "|    0|  0|18393|     2|   168|  62.0|  110|   80|          1|   1|    0|   0|     1|     0|\n",
      "|    1|  1|20228|     1|   156|  85.0|  140|   90|          3|   1|    0|   0|     1|     1|\n",
      "|    2|  2|18857|     1|   165|  64.0|  130|   70|          3|   1|    0|   0|     0|     1|\n",
      "|    3|  3|17623|     2|   169|  82.0|  150|  100|          1|   1|    0|   0|     1|     1|\n",
      "|    4|  4|48Yrs|     1|   156|  56.0|  100|   60|          1|   1|    0|   0|     0|     0|\n",
      "|    5|  8|21914|     1|   151|  67.0|  120|   80|          2|   2|    0|   0|     0|     0|\n",
      "|    6|  9|22113|     1|   157|  93.0|  130|   80|          3|   1|    0|   0|     1|     0|\n",
      "|    7| 12|22584|     2|   178|  95.0|  130|   90|          3|   3|    0|   0|     1|     1|\n",
      "|    8| 13|17668|     1|   158|  71.0|  110|   70|          1|   1|    0|   0|     1|     0|\n",
      "|    9| 14|19834|     1|   164|  68.0|  110|   60|          1|   1|    0|   0|     0|     0|\n",
      "|   10| 15|22530|     1|   169|  80.0|  120|   80|          1|   1|    0|   0|     1|     0|\n",
      "|   11| 16|18815|     2|   173|  60.0|  120|   80|          1|   1|    0|   0|     1|     0|\n",
      "|   12| 18|14791|     2|   165|  60.0|  120|   80|          1|   1|    0|   0|     0|     0|\n",
      "|   13| 21|19809|     1|   158|  78.0|  110|   70|          1|   1|    0|   0|     1|     0|\n",
      "|   14| 23|14532|     2|   181|  95.0|  130|   90|          1|   1|    1|   1|     1|     0|\n",
      "|   15| 24|16782|     2|   172| 112.0|  120|   80|          1|   1|    0|   0|     0|     1|\n",
      "|   16| 25|21296|     1|   170|  75.0|  130|   70|          1|   1|    0|   0|     0|     0|\n",
      "|   17| 27|16747|     1|   158|  52.0|  110|   70|          1|   3|    0|   0|     1|     0|\n",
      "|   18| 28|17482|     1|   154|  68.0|  100|   70|          1|   1|    0|   0|     0|     0|\n",
      "|   19| 29|21755|     2|   162|  56.0|  120|   70|          1|   1|    1|   0|     1|     0|\n",
      "+-----+---+-----+------+------+------+-----+-----+-----------+----+-----+----+------+------+\n",
      "only showing top 20 rows\n",
      "\n"
     ]
    }
   ],
   "source": [
    "# Verify the loaded data\n",
    "df.show()"
   ]
  },
  {
   "cell_type": "code",
   "execution_count": 5,
   "id": "c1efdef2",
   "metadata": {},
   "outputs": [
    {
     "name": "stdout",
     "output_type": "stream",
     "text": [
      "root\n",
      " |-- index: integer (nullable = true)\n",
      " |-- id: integer (nullable = true)\n",
      " |-- age: string (nullable = true)\n",
      " |-- gender: integer (nullable = true)\n",
      " |-- height: integer (nullable = true)\n",
      " |-- weight: double (nullable = true)\n",
      " |-- ap_hi: integer (nullable = true)\n",
      " |-- ap_lo: integer (nullable = true)\n",
      " |-- cholesterol: integer (nullable = true)\n",
      " |-- gluc: integer (nullable = true)\n",
      " |-- smoke: integer (nullable = true)\n",
      " |-- alco: integer (nullable = true)\n",
      " |-- active: integer (nullable = true)\n",
      " |-- cardio: integer (nullable = true)\n",
      "\n"
     ]
    }
   ],
   "source": [
    "# Verify the data schema\n",
    "df.printSchema()"
   ]
  },
  {
   "cell_type": "code",
   "execution_count": 6,
   "id": "c12b7492",
   "metadata": {},
   "outputs": [
    {
     "data": {
      "text/plain": [
       "['index',\n",
       " 'id',\n",
       " 'age',\n",
       " 'gender',\n",
       " 'height',\n",
       " 'weight',\n",
       " 'ap_hi',\n",
       " 'ap_lo',\n",
       " 'cholesterol',\n",
       " 'gluc',\n",
       " 'smoke',\n",
       " 'alco',\n",
       " 'active',\n",
       " 'cardio']"
      ]
     },
     "execution_count": 6,
     "metadata": {},
     "output_type": "execute_result"
    }
   ],
   "source": [
    "df.columns"
   ]
  },
  {
   "cell_type": "code",
   "execution_count": 7,
   "id": "b7db75ec",
   "metadata": {},
   "outputs": [
    {
     "data": {
      "text/plain": [
       "[Row(index=0, id=0, age='18393', gender=2, height=168, weight=62.0, ap_hi=110, ap_lo=80, cholesterol=1, gluc=1, smoke=0, alco=0, active=1, cardio=0),\n",
       " Row(index=1, id=1, age='20228', gender=1, height=156, weight=85.0, ap_hi=140, ap_lo=90, cholesterol=3, gluc=1, smoke=0, alco=0, active=1, cardio=1),\n",
       " Row(index=2, id=2, age='18857', gender=1, height=165, weight=64.0, ap_hi=130, ap_lo=70, cholesterol=3, gluc=1, smoke=0, alco=0, active=0, cardio=1),\n",
       " Row(index=3, id=3, age='17623', gender=2, height=169, weight=82.0, ap_hi=150, ap_lo=100, cholesterol=1, gluc=1, smoke=0, alco=0, active=1, cardio=1),\n",
       " Row(index=4, id=4, age='48Yrs', gender=1, height=156, weight=56.0, ap_hi=100, ap_lo=60, cholesterol=1, gluc=1, smoke=0, alco=0, active=0, cardio=0),\n",
       " Row(index=5, id=8, age='21914', gender=1, height=151, weight=67.0, ap_hi=120, ap_lo=80, cholesterol=2, gluc=2, smoke=0, alco=0, active=0, cardio=0),\n",
       " Row(index=6, id=9, age='22113', gender=1, height=157, weight=93.0, ap_hi=130, ap_lo=80, cholesterol=3, gluc=1, smoke=0, alco=0, active=1, cardio=0),\n",
       " Row(index=7, id=12, age='22584', gender=2, height=178, weight=95.0, ap_hi=130, ap_lo=90, cholesterol=3, gluc=3, smoke=0, alco=0, active=1, cardio=1),\n",
       " Row(index=8, id=13, age='17668', gender=1, height=158, weight=71.0, ap_hi=110, ap_lo=70, cholesterol=1, gluc=1, smoke=0, alco=0, active=1, cardio=0),\n",
       " Row(index=9, id=14, age='19834', gender=1, height=164, weight=68.0, ap_hi=110, ap_lo=60, cholesterol=1, gluc=1, smoke=0, alco=0, active=0, cardio=0)]"
      ]
     },
     "execution_count": 7,
     "metadata": {},
     "output_type": "execute_result"
    }
   ],
   "source": [
    "df.head(10)"
   ]
  },
  {
   "cell_type": "code",
   "execution_count": 8,
   "id": "4946e4e6",
   "metadata": {},
   "outputs": [
    {
     "name": "stdout",
     "output_type": "stream",
     "text": [
      "+-----+---+-----+------+------+------+-----+-----+-----------+----+-----+----+------+------+\n",
      "|index| id|  age|gender|height|weight|ap_hi|ap_lo|cholesterol|gluc|smoke|alco|active|cardio|\n",
      "+-----+---+-----+------+------+------+-----+-----+-----------+----+-----+----+------+------+\n",
      "|    0|  0|18393|     2|   168|  62.0|  110|   80|          1|   1|    0|   0|     1|     0|\n",
      "|    1|  1|20228|     1|   156|  85.0|  140|   90|          3|   1|    0|   0|     1|     1|\n",
      "|    2|  2|18857|     1|   165|  64.0|  130|   70|          3|   1|    0|   0|     0|     1|\n",
      "|    3|  3|17623|     2|   169|  82.0|  150|  100|          1|   1|    0|   0|     1|     1|\n",
      "|    4|  4|48Yrs|     1|   156|  56.0|  100|   60|          1|   1|    0|   0|     0|     0|\n",
      "|    5|  8|21914|     1|   151|  67.0|  120|   80|          2|   2|    0|   0|     0|     0|\n",
      "|    6|  9|22113|     1|   157|  93.0|  130|   80|          3|   1|    0|   0|     1|     0|\n",
      "|    7| 12|22584|     2|   178|  95.0|  130|   90|          3|   3|    0|   0|     1|     1|\n",
      "|    8| 13|17668|     1|   158|  71.0|  110|   70|          1|   1|    0|   0|     1|     0|\n",
      "|    9| 14|19834|     1|   164|  68.0|  110|   60|          1|   1|    0|   0|     0|     0|\n",
      "+-----+---+-----+------+------+------+-----+-----+-----------+----+-----+----+------+------+\n",
      "only showing top 10 rows\n",
      "\n"
     ]
    },
    {
     "name": "stderr",
     "output_type": "stream",
     "text": [
      "\r",
      "[Stage 7:>                                                          (0 + 1) / 1]\r",
      "\r",
      "                                                                                \r"
     ]
    }
   ],
   "source": [
    "df.orderBy(df['Index'].asc()).show(10)"
   ]
  },
  {
   "cell_type": "code",
   "execution_count": 9,
   "id": "8155f7b9",
   "metadata": {},
   "outputs": [
    {
     "data": {
      "text/plain": [
       "[Row(index=68990, id=98559, age='20508', gender=2, height=173, weight=91.0, ap_hi=140, ap_lo=90, cholesterol=1, gluc=1, smoke=0, alco=1, active=1, cardio=0),\n",
       " Row(index=68991, id=98561, age='21787', gender=1, height=168, weight=70.0, ap_hi=140, ap_lo=90, cholesterol=3, gluc=1, smoke=0, alco=0, active=1, cardio=1),\n",
       " Row(index=68992, id=98562, age='17574', gender=1, height=157, weight=63.0, ap_hi=150, ap_lo=100, cholesterol=1, gluc=1, smoke=0, alco=0, active=1, cardio=0),\n",
       " Row(index=68993, id=98563, age='14643', gender=2, height=175, weight=75.0, ap_hi=100, ap_lo=70, cholesterol=1, gluc=1, smoke=0, alco=0, active=1, cardio=0),\n",
       " Row(index=68994, id=98564, age='18949', gender=2, height=172, weight=62.0, ap_hi=110, ap_lo=70, cholesterol=1, gluc=1, smoke=1, alco=0, active=1, cardio=0),\n",
       " Row(index=68995, id=98565, age='17548', gender=2, height=173, weight=72.0, ap_hi=120, ap_lo=80, cholesterol=1, gluc=1, smoke=0, alco=0, active=0, cardio=0),\n",
       " Row(index=68996, id=98566, age='20430', gender=1, height=159, weight=105.0, ap_hi=120, ap_lo=80, cholesterol=1, gluc=1, smoke=0, alco=0, active=1, cardio=1),\n",
       " Row(index=68997, id=98567, age='21682', gender=1, height=158, weight=78.0, ap_hi=130, ap_lo=90, cholesterol=1, gluc=1, smoke=0, alco=0, active=1, cardio=1),\n",
       " Row(index=68998, id=98568, age='19107', gender=1, height=154, weight=77.0, ap_hi=14, ap_lo=90, cholesterol=1, gluc=1, smoke=0, alco=0, active=1, cardio=0),\n",
       " Row(index=68999, id=98569, age='19591', gender=2, height=175, weight=88.0, ap_hi=120, ap_lo=80, cholesterol=1, gluc=1, smoke=0, alco=0, active=0, cardio=1)]"
      ]
     },
     "execution_count": 9,
     "metadata": {},
     "output_type": "execute_result"
    }
   ],
   "source": [
    "df.tail(10)"
   ]
  },
  {
   "cell_type": "code",
   "execution_count": 10,
   "id": "c1a1d5ba",
   "metadata": {},
   "outputs": [
    {
     "name": "stdout",
     "output_type": "stream",
     "text": [
      "+-----+-----+-----+------+------+------+-----+-----+-----------+----+-----+----+------+------+\n",
      "|index|   id|  age|gender|height|weight|ap_hi|ap_lo|cholesterol|gluc|smoke|alco|active|cardio|\n",
      "+-----+-----+-----+------+------+------+-----+-----+-----------+----+-----+----+------+------+\n",
      "|68999|98569|19591|     2|   175|  88.0|  120|   80|          1|   1|    0|   0|     0|     1|\n",
      "|68998|98568|19107|     1|   154|  77.0|   14|   90|          1|   1|    0|   0|     1|     0|\n",
      "|68997|98567|21682|     1|   158|  78.0|  130|   90|          1|   1|    0|   0|     1|     1|\n",
      "|68996|98566|20430|     1|   159| 105.0|  120|   80|          1|   1|    0|   0|     1|     1|\n",
      "|68995|98565|17548|     2|   173|  72.0|  120|   80|          1|   1|    0|   0|     0|     0|\n",
      "|68994|98564|18949|     2|   172|  62.0|  110|   70|          1|   1|    1|   0|     1|     0|\n",
      "|68993|98563|14643|     2|   175|  75.0|  100|   70|          1|   1|    0|   0|     1|     0|\n",
      "|68992|98562|17574|     1|   157|  63.0|  150|  100|          1|   1|    0|   0|     1|     0|\n",
      "|68991|98561|21787|     1|   168|  70.0|  140|   90|          3|   1|    0|   0|     1|     1|\n",
      "|68990|98559|20508|     2|   173|  91.0|  140|   90|          1|   1|    0|   1|     1|     0|\n",
      "+-----+-----+-----+------+------+------+-----+-----+-----------+----+-----+----+------+------+\n",
      "only showing top 10 rows\n",
      "\n"
     ]
    }
   ],
   "source": [
    "df.orderBy(df['Index'].desc()).show(10)"
   ]
  },
  {
   "cell_type": "code",
   "execution_count": 11,
   "id": "22e1b23d",
   "metadata": {},
   "outputs": [
    {
     "name": "stdout",
     "output_type": "stream",
     "text": [
      "+-------+------------------+------------------+\n",
      "|summary|             index|                id|\n",
      "+-------+------------------+------------------+\n",
      "|  count|             69000|             69000|\n",
      "|   mean|           34499.5| 49257.99002898551|\n",
      "| stddev|19918.728624086427|28438.175895091368|\n",
      "|    min|                 0|                 0|\n",
      "|    max|             68999|             98569|\n",
      "+-------+------------------+------------------+\n",
      "\n"
     ]
    },
    {
     "name": "stderr",
     "output_type": "stream",
     "text": [
      "                                                                                \r"
     ]
    },
    {
     "name": "stdout",
     "output_type": "stream",
     "text": [
      "+-------+------------------+-------------------+------------------+-----------------+\n",
      "|summary|               age|             gender|            height|           weight|\n",
      "+-------+------------------+-------------------+------------------+-----------------+\n",
      "|  count|             69000|              69000|             69000|            69000|\n",
      "|   mean|19469.362175167036| 1.3495217391304348|164.35059420289855|74.21126086956522|\n",
      "| stddev|2467.2731299236907|0.47682238629511076| 8.211304686499416|14.40431106828465|\n",
      "|    min|             10798|                  1|                55|             10.0|\n",
      "|    max|             48Yrs|                  2|               250|            200.0|\n",
      "+-------+------------------+-------------------+------------------+-----------------+\n",
      "\n",
      "+-------+------------------+------------------+------------------+------------------+\n",
      "|summary|             ap_hi|             ap_lo|       cholesterol|              gluc|\n",
      "+-------+------------------+------------------+------------------+------------------+\n",
      "|  count|             69000|             69000|             68997|             69000|\n",
      "|   mean|128.80997101449276| 96.65495652173912|1.3673637984260185|1.2263623188405797|\n",
      "| stddev|154.94479317115955|189.36793185426143|0.6805505273319785|0.5722543067125166|\n",
      "|    min|              -150|               -70|                 1|                 1|\n",
      "|    max|             16020|             11000|                 3|                 3|\n",
      "+-------+------------------+------------------+------------------+------------------+\n",
      "\n",
      "+-------+-------------------+-------------------+-------------------+-------------------+\n",
      "|summary|              smoke|               alco|             active|             cardio|\n",
      "+-------+-------------------+-------------------+-------------------+-------------------+\n",
      "|  count|              69000|              69000|              69000|              69000|\n",
      "|   mean|0.08828985507246377|0.05376811594202899| 0.8040434782608695|0.49972463768115943|\n",
      "| stddev|0.28371803462474876|0.22556117354304892|0.39693808938305636| 0.5000035474028258|\n",
      "|    min|                  0|                  0|                  0|                  0|\n",
      "|    max|                  1|                  1|                  1|                  1|\n",
      "+-------+-------------------+-------------------+-------------------+-------------------+\n",
      "\n"
     ]
    }
   ],
   "source": [
    "df.select('index','id').describe().show()\n",
    "\n",
    "df.select('age','gender','height','weight').describe().show()\n",
    "\n",
    "df.select('ap_hi','ap_lo','cholesterol','gluc').describe().show()\n",
    "\n",
    "df.select('smoke','alco','active','cardio').describe().show()"
   ]
  },
  {
   "cell_type": "code",
   "execution_count": 12,
   "id": "d1551396",
   "metadata": {
    "scrolled": true
   },
   "outputs": [
    {
     "name": "stdout",
     "output_type": "stream",
     "text": [
      "+-----+---+---+------+------+------+-----+-----+-----------+----+-----+----+------+------+\n",
      "|index| id|age|gender|height|weight|ap_hi|ap_lo|cholesterol|gluc|smoke|alco|active|cardio|\n",
      "+-----+---+---+------+------+------+-----+-----+-----------+----+-----+----+------+------+\n",
      "|    0|  0|  0|     0|     0|     0|    0|    0|          3|   0|    0|   0|     0|     0|\n",
      "+-----+---+---+------+------+------+-----+-----+-----------+----+-----+----+------+------+\n",
      "\n"
     ]
    }
   ],
   "source": [
    "# Check for missing values in each column\n",
    "missing_values = df.agg(*[(sum_(col(c).isNull().cast(\"int\"))).alias(c) for c in df.columns])\n",
    "\n",
    "missing_values.show()"
   ]
  },
  {
   "cell_type": "code",
   "execution_count": 13,
   "id": "9389b423",
   "metadata": {},
   "outputs": [
    {
     "name": "stdout",
     "output_type": "stream",
     "text": [
      "+-----+-----+-----+------+------+------+-----+-----+-----------+----+-----+----+------+------+\n",
      "|index|   id|  age|gender|height|weight|ap_hi|ap_lo|cholesterol|gluc|smoke|alco|active|cardio|\n",
      "+-----+-----+-----+------+------+------+-----+-----+-----------+----+-----+----+------+------+\n",
      "|    4|    4|48Yrs|     1|   156|  56.0|  100|   60|          1|   1|    0|   0|     0|     0|\n",
      "|   28|   39|38Yrs|     2|   166|  66.0|  120|   80|          1|   1|    0|   0|     1|     0|\n",
      "|23867|34120|44Yrs|     1|   161|  92.0|  906|    0|          2|   1|    0|   0|     1|     1|\n",
      "+-----+-----+-----+------+------+------+-----+-----+-----------+----+-----+----+------+------+\n",
      "\n"
     ]
    }
   ],
   "source": [
    "# Further analyse the \"age\" column\n",
    "df.filter(~col(\"age\").rlike(\"^[0-9]+$\")).show()"
   ]
  },
  {
   "cell_type": "code",
   "execution_count": 14,
   "id": "fbb9032c",
   "metadata": {},
   "outputs": [
    {
     "name": "stdout",
     "output_type": "stream",
     "text": [
      "+---------+---------+\n",
      "|Min-ap_hi|Max-ap_hi|\n",
      "+---------+---------+\n",
      "|     -150|    16020|\n",
      "+---------+---------+\n",
      "\n",
      "+---------+---------+\n",
      "|Min-ap_lo|Max-ap_lo|\n",
      "+---------+---------+\n",
      "|      -70|    11000|\n",
      "+---------+---------+\n",
      "\n",
      "+----------+----------+\n",
      "|Min-Height|Max-Height|\n",
      "+----------+----------+\n",
      "|        55|       250|\n",
      "+----------+----------+\n",
      "\n",
      "+----------+----------+\n",
      "|Min-Weight|Max-weight|\n",
      "+----------+----------+\n",
      "|      10.0|     200.0|\n",
      "+----------+----------+\n",
      "\n"
     ]
    }
   ],
   "source": [
    "# Further analyse the \"ap_hi\", \"ap_lo\", \"heigh\" and \"weight\"\n",
    "df.select(min('ap_hi').alias('Min-ap_hi'), max('ap_hi').alias('Max-ap_hi')).show()\n",
    "df.select(min('ap_lo').alias('Min-ap_lo'), max('ap_lo').alias('Max-ap_lo')).show()\n",
    "df.select(min('height').alias('Min-Height'), max('height').alias('Max-Height')).show()\n",
    "df.select(min('weight').alias('Min-Weight'), max('weight').alias('Max-weight')).show()"
   ]
  },
  {
   "cell_type": "code",
   "execution_count": 15,
   "id": "87094791",
   "metadata": {},
   "outputs": [
    {
     "name": "stdout",
     "output_type": "stream",
     "text": [
      "+----------------------+---------------------------+--------------------+---------------------+\n",
      "|count(DISTINCT gender)|count(DISTINCT cholesterol)|count(DISTINCT gluc)|count(DISTINCT smoke)|\n",
      "+----------------------+---------------------------+--------------------+---------------------+\n",
      "|                     2|                          3|                   3|                    2|\n",
      "+----------------------+---------------------------+--------------------+---------------------+\n",
      "\n",
      "+--------------------+----------------------+----------------------+\n",
      "|count(DISTINCT alco)|count(DISTINCT active)|count(DISTINCT cardio)|\n",
      "+--------------------+----------------------+----------------------+\n",
      "|                   2|                     2|                     2|\n",
      "+--------------------+----------------------+----------------------+\n",
      "\n"
     ]
    }
   ],
   "source": [
    "# Further analyse the remaining attributes\n",
    "df.select(countDistinct('gender'),countDistinct('cholesterol'),countDistinct('gluc'),countDistinct('smoke')).show()\n",
    "df.select(countDistinct('alco'),countDistinct('active'),countDistinct('cardio')).show()"
   ]
  },
  {
   "cell_type": "code",
   "execution_count": 16,
   "id": "ca7fdaa3",
   "metadata": {},
   "outputs": [
    {
     "name": "stdout",
     "output_type": "stream",
     "text": [
      "+------+\n",
      "|gender|\n",
      "+------+\n",
      "|     1|\n",
      "|     2|\n",
      "+------+\n",
      "\n",
      "+-----------+\n",
      "|cholesterol|\n",
      "+-----------+\n",
      "|       null|\n",
      "|          1|\n",
      "|          3|\n",
      "|          2|\n",
      "+-----------+\n",
      "\n",
      "+----+\n",
      "|gluc|\n",
      "+----+\n",
      "|   1|\n",
      "|   3|\n",
      "|   2|\n",
      "+----+\n",
      "\n",
      "+-----+\n",
      "|smoke|\n",
      "+-----+\n",
      "|    1|\n",
      "|    0|\n",
      "+-----+\n",
      "\n",
      "+----+\n",
      "|alco|\n",
      "+----+\n",
      "|   1|\n",
      "|   0|\n",
      "+----+\n",
      "\n",
      "+------+\n",
      "|active|\n",
      "+------+\n",
      "|     1|\n",
      "|     0|\n",
      "+------+\n",
      "\n",
      "+------+\n",
      "|cardio|\n",
      "+------+\n",
      "|     1|\n",
      "|     0|\n",
      "+------+\n",
      "\n"
     ]
    }
   ],
   "source": [
    "df.select('gender').distinct().show()\n",
    "df.select('cholesterol').distinct().show()\n",
    "df.select('gluc').distinct().show()\n",
    "df.select('smoke').distinct().show()\n",
    "df.select('alco').distinct().show()\n",
    "df.select('active').distinct().show()\n",
    "df.select('cardio').distinct().show()"
   ]
  },
  {
   "cell_type": "code",
   "execution_count": 17,
   "id": "17fd0a86",
   "metadata": {},
   "outputs": [
    {
     "name": "stdout",
     "output_type": "stream",
     "text": [
      "+------+----------+\n",
      "|cardio|Cnt-Gender|\n",
      "+------+----------+\n",
      "|     1|     34481|\n",
      "|     0|     34519|\n",
      "+------+----------+\n",
      "\n"
     ]
    }
   ],
   "source": [
    "df.groupBy('cardio').agg(count('gender').alias('Cnt-Gender')).show()"
   ]
  },
  {
   "cell_type": "code",
   "execution_count": 18,
   "id": "dc4304d1",
   "metadata": {},
   "outputs": [
    {
     "name": "stdout",
     "output_type": "stream",
     "text": [
      "+------+----------+\n",
      "|cardio|Cnt-active|\n",
      "+------+----------+\n",
      "|     1|     34481|\n",
      "|     0|     34519|\n",
      "+------+----------+\n",
      "\n",
      "+------+---------+\n",
      "|cardio|Cnt-smoke|\n",
      "+------+---------+\n",
      "|     1|    34481|\n",
      "|     0|    34519|\n",
      "+------+---------+\n",
      "\n",
      "+------+--------+\n",
      "|cardio|Cnt-alco|\n",
      "+------+--------+\n",
      "|     1|   34481|\n",
      "|     0|   34519|\n",
      "+------+--------+\n",
      "\n"
     ]
    }
   ],
   "source": [
    "df.groupBy('cardio').agg(count('active').alias('Cnt-active')).show()\n",
    "\n",
    "df.groupBy('cardio').agg(count('smoke').alias('Cnt-smoke')).show()\n",
    "\n",
    "df.groupBy('cardio').agg(count('alco').alias('Cnt-alco')).show()"
   ]
  },
  {
   "cell_type": "markdown",
   "id": "bba287e4",
   "metadata": {},
   "source": [
    "# 3 - DP"
   ]
  },
  {
   "cell_type": "code",
   "execution_count": 21,
   "id": "d5957f27",
   "metadata": {},
   "outputs": [
    {
     "name": "stdout",
     "output_type": "stream",
     "text": [
      "Correlation between \"cardio\" and \"cholesterol\": 0.2215\n",
      "Correlation between \"cardio\" and \"weight\": 0.1814\n",
      "Correlation between \"cardio\" and \"gluc\": 0.0882\n",
      "Correlation between \"cardio\" and \"ap_lo\": 0.0656\n",
      "Correlation between \"cardio\" and \"ap_hi\": 0.0541\n",
      "Correlation between \"cardio\" and \"gender\": 0.0087\n",
      "Correlation between \"cardio\" and \"index\": 0.0040\n",
      "Correlation between \"cardio\" and \"id\": 0.0040\n",
      "Correlation between \"cardio\" and \"alco\": -0.0078\n",
      "Correlation between \"cardio\" and \"height\": -0.0109\n",
      "Correlation between \"cardio\" and \"smoke\": -0.0157\n",
      "Correlation between \"cardio\" and \"active\": -0.0352\n"
     ]
    }
   ],
   "source": [
    "# prepare the columns and \"age\" column cannot correlation yet due to inconsistent data format\n",
    "tmpDf = df.drop(\"age\", \"cardio\")\n",
    "columns = tmpDf.columns\n",
    "target = 'cardio'\n",
    "\n",
    "# apply correlation method\n",
    "correlations = {}\n",
    "for col in columns:\n",
    "    corr_value = df.stat.corr(col, target)\n",
    "    correlations[col] = corr_value\n",
    "\n",
    "# print the result in descending order\n",
    "sorted_correlations = sorted(correlations.items(), key=lambda x: x[1], reverse=True)\n",
    "for col, corr_value in sorted_correlations:\n",
    "    print(f\"Correlation between \\\"{target}\\\" and \\\"{col}\\\": {corr_value:.4f}\")"
   ]
  },
  {
   "cell_type": "code",
   "execution_count": 20,
   "id": "caacfb92",
   "metadata": {},
   "outputs": [
    {
     "data": {
      "image/png": "[encoded data removed]",
      "text/plain": [
       "<Figure size 720x72 with 2 Axes>"
      ]
     },
     "metadata": {
      "needs_background": "light"
     },
     "output_type": "display_data"
    }
   ],
   "source": [
    "# preparing data to plot the heatmap diagram\n",
    "attributes = list(correlations.keys())\n",
    "correlation_values = list(correlations.values())\n",
    "corr_matrix = [correlation_values]\n",
    "\n",
    "# Generate the heatmap plot\n",
    "plt.figure(figsize=(10, 1))  # Adjust size as per your preference\n",
    "sns.heatmap(corr_matrix, annot=True, yticklabels=['cardio'], xticklabels=attributes, cmap=\"coolwarm\", cbar=True, linewidths=0.5)\n",
    "plt.title(\"Correlation with 'cardio'\")\n",
    "plt.show()"
   ]
  },
  {
   "cell_type": "code",
   "execution_count": 24,
   "id": "ebc3c31f",
   "metadata": {},
   "outputs": [
    {
     "data": {
      "text/plain": [
       "['age',\n",
       " 'gender',\n",
       " 'height',\n",
       " 'weight',\n",
       " 'ap_hi',\n",
       " 'ap_lo',\n",
       " 'cholesterol',\n",
       " 'gluc',\n",
       " 'smoke',\n",
       " 'alco',\n",
       " 'active',\n",
       " 'cardio']"
      ]
     },
     "execution_count": 24,
     "metadata": {},
     "output_type": "execute_result"
    }
   ],
   "source": [
    "# drop the \"Index\" and \"Id\" columns\n",
    "featureDf= df.drop(\"Index\", \"Id\")\n",
    "\n",
    "featureDf.columns"
   ]
  },
  {
   "cell_type": "code",
   "execution_count": null,
   "id": "2e49d2fc",
   "metadata": {},
   "outputs": [],
   "source": []
  },
  {
   "cell_type": "code",
   "execution_count": null,
   "id": "fdc52572",
   "metadata": {},
   "outputs": [],
   "source": []
  },
  {
   "cell_type": "code",
   "execution_count": null,
   "id": "c865d777",
   "metadata": {},
   "outputs": [],
   "source": []
  },
  {
   "cell_type": "code",
   "execution_count": null,
   "id": "422c9e9e",
   "metadata": {},
   "outputs": [],
   "source": []
  },
  {
   "cell_type": "markdown",
   "id": "2bdad720",
   "metadata": {},
   "source": [
    "# 4 - DT"
   ]
  },
  {
   "cell_type": "code",
   "execution_count": null,
   "id": "b1345941",
   "metadata": {},
   "outputs": [],
   "source": []
  },
  {
   "cell_type": "markdown",
   "id": "c327603b",
   "metadata": {},
   "source": [
    "# 5 - DMM"
   ]
  },
  {
   "cell_type": "markdown",
   "id": "3e573d01",
   "metadata": {},
   "source": [
    "The detial information about DMM is addressed in Itertion-4 report Secion - 5"
   ]
  },
  {
   "cell_type": "markdown",
   "id": "c6662145",
   "metadata": {},
   "source": [
    "# 6 - DMA"
   ]
  },
  {
   "cell_type": "code",
   "execution_count": null,
   "id": "5b7e2277",
   "metadata": {},
   "outputs": [],
   "source": []
  },
  {
   "cell_type": "markdown",
   "id": "fc8b8101",
   "metadata": {},
   "source": [
    "# 7 - DM"
   ]
  },
  {
   "cell_type": "code",
   "execution_count": null,
   "id": "95662c45",
   "metadata": {},
   "outputs": [],
   "source": []
  },
  {
   "cell_type": "markdown",
   "id": "5f4dc12a",
   "metadata": {},
   "source": [
    "# 8 - INT"
   ]
  },
  {
   "cell_type": "code",
   "execution_count": null,
   "id": "4dcc023d",
   "metadata": {},
   "outputs": [],
   "source": []
  },
  {
   "cell_type": "markdown",
   "id": "cf253bb4",
   "metadata": {},
   "source": [
    "# 9 - ACT"
   ]
  },
  {
   "cell_type": "markdown",
   "id": "d8af9e58",
   "metadata": {},
   "source": [
    "Desribe the Action Plan to Implement, Observe and Improve"
   ]
  }
 ],
 "metadata": {
  "kernelspec": {
   "display_name": "Python 3 (ipykernel)",
   "language": "python",
   "name": "python3"
  },
  "language_info": {
   "codemirror_mode": {
    "name": "ipython",
    "version": 3
   },
   "file_extension": ".py",
   "mimetype": "text/x-python",
   "name": "python",
   "nbconvert_exporter": "python",
   "pygments_lexer": "ipython3",
   "version": "3.10.12"
  }
 },
 "nbformat": 4,
 "nbformat_minor": 5
}
